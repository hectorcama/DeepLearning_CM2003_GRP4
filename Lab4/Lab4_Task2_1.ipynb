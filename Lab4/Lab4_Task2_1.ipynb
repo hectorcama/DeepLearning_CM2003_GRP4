{
 "cells": [
  {
   "cell_type": "code",
   "execution_count": 1,
   "metadata": {},
   "outputs": [],
   "source": [
    "from Functions_lab4 import*"
   ]
  },
  {
   "cell_type": "code",
   "execution_count": 2,
   "metadata": {},
   "outputs": [],
   "source": [
    "#parameters\n",
    "base_dense=8\n",
    "batch_size=8\n",
    "LR=0.0001\n",
    "img_w,img_h,img_ch=256,256,1\n",
    "\n",
    "\n",
    "#metrics list\n",
    "metric_list=[dice_coef,\"Precision\",'Recall']\n",
    "\n",
    "#loss functions list\n",
    "loss_func_list=[dice_coef_loss,'binary_crossentropy']"
   ]
  },
  {
   "cell_type": "code",
   "execution_count": 3,
   "metadata": {},
   "outputs": [],
   "source": [
    "#load the X_ray images\n",
    "\n",
    "#first create the set with the dir info\n",
    "x_train,y_train,x_test,y_test = create_data('Lab3','CT',0.8)\n",
    "\n",
    "#then load the images thanks to the info\n",
    "x_train = load_data(x_train,img_w,img_h,img_ch)\n",
    "y_train = load_data(y_train,img_w,img_h,img_ch,mask=True)\n",
    "x_test = load_data(x_test,img_w,img_h,img_ch)\n",
    "y_test = load_data(y_test,img_w,img_h,img_ch,mask=True)\n",
    "\n",
    "#the intensity and resize rescale are already done in load_data function"
   ]
  },
  {
   "cell_type": "code",
   "execution_count": 10,
   "metadata": {},
   "outputs": [
    {
     "data": {
      "text/plain": [
       "<matplotlib.image.AxesImage at 0x7f83f1350e80>"
      ]
     },
     "execution_count": 10,
     "metadata": {},
     "output_type": "execute_result"
    },
    {
     "data": {
      "image/png": "[encoded data removed]",
      "text/plain": [
       "<Figure size 432x288 with 1 Axes>"
      ]
     },
     "metadata": {
      "needs_background": "light"
     },
     "output_type": "display_data"
    }
   ],
   "source": [
    "from skimage.io import imshow\n",
    "imshow(np.squeeze(y_test[0]))"
   ]
  },
  {
   "cell_type": "markdown",
   "metadata": {},
   "source": [
    "# Task 2a"
   ]
  },
  {
   "cell_type": "code",
   "execution_count": 17,
   "metadata": {},
   "outputs": [
    {
     "name": "stdout",
     "output_type": "stream",
     "text": [
      "Model: \"model_1\"\n",
      "__________________________________________________________________________________________________\n",
      "Layer (type)                    Output Shape         Param #     Connected to                     \n",
      "==================================================================================================\n",
      "input_layer (InputLayer)        [(None, 256, 256, 1) 0                                            \n",
      "__________________________________________________________________________________________________\n",
      "conv2d_18 (Conv2D)              (None, 256, 256, 8)  80          input_layer[0][0]                \n",
      "__________________________________________________________________________________________________\n",
      "batch_normalization_v2_18 (Batc (None, 256, 256, 8)  32          conv2d_18[0][0]                  \n",
      "__________________________________________________________________________________________________\n",
      "activation_18 (Activation)      (None, 256, 256, 8)  0           batch_normalization_v2_18[0][0]  \n",
      "__________________________________________________________________________________________________\n",
      "conv2d_19 (Conv2D)              (None, 256, 256, 8)  584         activation_18[0][0]              \n",
      "__________________________________________________________________________________________________\n",
      "max_pooling2d_4 (MaxPooling2D)  (None, 128, 128, 8)  0           conv2d_19[0][0]                  \n",
      "__________________________________________________________________________________________________\n",
      "dropout_8 (Dropout)             (None, 128, 128, 8)  0           max_pooling2d_4[0][0]            \n",
      "__________________________________________________________________________________________________\n",
      "conv2d_20 (Conv2D)              (None, 128, 128, 16) 1168        dropout_8[0][0]                  \n",
      "__________________________________________________________________________________________________\n",
      "batch_normalization_v2_20 (Batc (None, 128, 128, 16) 64          conv2d_20[0][0]                  \n",
      "__________________________________________________________________________________________________\n",
      "activation_20 (Activation)      (None, 128, 128, 16) 0           batch_normalization_v2_20[0][0]  \n",
      "__________________________________________________________________________________________________\n",
      "conv2d_21 (Conv2D)              (None, 128, 128, 16) 2320        activation_20[0][0]              \n",
      "__________________________________________________________________________________________________\n",
      "max_pooling2d_5 (MaxPooling2D)  (None, 64, 64, 16)   0           conv2d_21[0][0]                  \n",
      "__________________________________________________________________________________________________\n",
      "dropout_9 (Dropout)             (None, 64, 64, 16)   0           max_pooling2d_5[0][0]            \n",
      "__________________________________________________________________________________________________\n",
      "conv2d_22 (Conv2D)              (None, 64, 64, 32)   4640        dropout_9[0][0]                  \n",
      "__________________________________________________________________________________________________\n",
      "batch_normalization_v2_22 (Batc (None, 64, 64, 32)   128         conv2d_22[0][0]                  \n",
      "__________________________________________________________________________________________________\n",
      "activation_22 (Activation)      (None, 64, 64, 32)   0           batch_normalization_v2_22[0][0]  \n",
      "__________________________________________________________________________________________________\n",
      "conv2d_23 (Conv2D)              (None, 64, 64, 32)   9248        activation_22[0][0]              \n",
      "__________________________________________________________________________________________________\n",
      "max_pooling2d_6 (MaxPooling2D)  (None, 32, 32, 32)   0           conv2d_23[0][0]                  \n",
      "__________________________________________________________________________________________________\n",
      "dropout_10 (Dropout)            (None, 32, 32, 32)   0           max_pooling2d_6[0][0]            \n",
      "__________________________________________________________________________________________________\n",
      "conv2d_24 (Conv2D)              (None, 32, 32, 64)   18496       dropout_10[0][0]                 \n",
      "__________________________________________________________________________________________________\n",
      "batch_normalization_v2_24 (Batc (None, 32, 32, 64)   256         conv2d_24[0][0]                  \n",
      "__________________________________________________________________________________________________\n",
      "activation_24 (Activation)      (None, 32, 32, 64)   0           batch_normalization_v2_24[0][0]  \n",
      "__________________________________________________________________________________________________\n",
      "conv2d_25 (Conv2D)              (None, 32, 32, 64)   36928       activation_24[0][0]              \n",
      "__________________________________________________________________________________________________\n",
      "max_pooling2d_7 (MaxPooling2D)  (None, 16, 16, 64)   0           conv2d_25[0][0]                  \n",
      "__________________________________________________________________________________________________\n",
      "dropout_11 (Dropout)            (None, 16, 16, 64)   0           max_pooling2d_7[0][0]            \n",
      "__________________________________________________________________________________________________\n",
      "conv2d_26 (Conv2D)              (None, 16, 16, 128)  73856       dropout_11[0][0]                 \n",
      "__________________________________________________________________________________________________\n",
      "batch_normalization_v2_26 (Batc (None, 16, 16, 128)  512         conv2d_26[0][0]                  \n",
      "__________________________________________________________________________________________________\n",
      "activation_26 (Activation)      (None, 16, 16, 128)  0           batch_normalization_v2_26[0][0]  \n",
      "__________________________________________________________________________________________________\n",
      "conv2d_27 (Conv2D)              (None, 16, 16, 128)  147584      activation_26[0][0]              \n",
      "__________________________________________________________________________________________________\n",
      "conv2d_transpose_4 (Conv2DTrans (None, 32, 32, 64)   73792       conv2d_27[0][0]                  \n",
      "__________________________________________________________________________________________________\n",
      "concatenate_4 (Concatenate)     (None, 32, 32, 128)  0           conv2d_transpose_4[0][0]         \n",
      "                                                                 conv2d_25[0][0]                  \n",
      "__________________________________________________________________________________________________\n",
      "dropout_12 (Dropout)            (None, 32, 32, 128)  0           concatenate_4[0][0]              \n",
      "__________________________________________________________________________________________________\n",
      "conv2d_28 (Conv2D)              (None, 32, 32, 64)   73792       dropout_12[0][0]                 \n",
      "__________________________________________________________________________________________________\n",
      "batch_normalization_v2_28 (Batc (None, 32, 32, 64)   256         conv2d_28[0][0]                  \n",
      "__________________________________________________________________________________________________\n",
      "activation_28 (Activation)      (None, 32, 32, 64)   0           batch_normalization_v2_28[0][0]  \n",
      "__________________________________________________________________________________________________\n",
      "conv2d_29 (Conv2D)              (None, 32, 32, 64)   36928       activation_28[0][0]              \n",
      "__________________________________________________________________________________________________\n",
      "conv2d_transpose_5 (Conv2DTrans (None, 64, 64, 32)   18464       conv2d_29[0][0]                  \n",
      "__________________________________________________________________________________________________\n",
      "concatenate_5 (Concatenate)     (None, 64, 64, 64)   0           conv2d_transpose_5[0][0]         \n",
      "                                                                 conv2d_23[0][0]                  \n",
      "__________________________________________________________________________________________________\n",
      "dropout_13 (Dropout)            (None, 64, 64, 64)   0           concatenate_5[0][0]              \n",
      "__________________________________________________________________________________________________\n",
      "conv2d_30 (Conv2D)              (None, 64, 64, 32)   18464       dropout_13[0][0]                 \n",
      "__________________________________________________________________________________________________\n",
      "batch_normalization_v2_30 (Batc (None, 64, 64, 32)   128         conv2d_30[0][0]                  \n",
      "__________________________________________________________________________________________________\n",
      "activation_30 (Activation)      (None, 64, 64, 32)   0           batch_normalization_v2_30[0][0]  \n",
      "__________________________________________________________________________________________________\n",
      "conv2d_31 (Conv2D)              (None, 64, 64, 32)   9248        activation_30[0][0]              \n",
      "__________________________________________________________________________________________________\n",
      "conv2d_transpose_6 (Conv2DTrans (None, 128, 128, 16) 4624        conv2d_31[0][0]                  \n",
      "__________________________________________________________________________________________________\n",
      "concatenate_6 (Concatenate)     (None, 128, 128, 32) 0           conv2d_transpose_6[0][0]         \n",
      "                                                                 conv2d_21[0][0]                  \n",
      "__________________________________________________________________________________________________\n",
      "dropout_14 (Dropout)            (None, 128, 128, 32) 0           concatenate_6[0][0]              \n",
      "__________________________________________________________________________________________________\n",
      "conv2d_32 (Conv2D)              (None, 128, 128, 16) 4624        dropout_14[0][0]                 \n",
      "__________________________________________________________________________________________________\n",
      "batch_normalization_v2_32 (Batc (None, 128, 128, 16) 64          conv2d_32[0][0]                  \n",
      "__________________________________________________________________________________________________\n",
      "activation_32 (Activation)      (None, 128, 128, 16) 0           batch_normalization_v2_32[0][0]  \n",
      "__________________________________________________________________________________________________\n",
      "conv2d_33 (Conv2D)              (None, 128, 128, 16) 2320        activation_32[0][0]              \n",
      "__________________________________________________________________________________________________\n",
      "conv2d_transpose_7 (Conv2DTrans (None, 256, 256, 8)  1160        conv2d_33[0][0]                  \n",
      "__________________________________________________________________________________________________\n",
      "concatenate_7 (Concatenate)     (None, 256, 256, 16) 0           conv2d_transpose_7[0][0]         \n",
      "                                                                 conv2d_19[0][0]                  \n",
      "__________________________________________________________________________________________________\n",
      "dropout_15 (Dropout)            (None, 256, 256, 16) 0           concatenate_7[0][0]              \n",
      "__________________________________________________________________________________________________\n",
      "conv2d_34 (Conv2D)              (None, 256, 256, 8)  1160        dropout_15[0][0]                 \n",
      "__________________________________________________________________________________________________\n",
      "batch_normalization_v2_34 (Batc (None, 256, 256, 8)  32          conv2d_34[0][0]                  \n",
      "__________________________________________________________________________________________________\n",
      "activation_34 (Activation)      (None, 256, 256, 8)  0           batch_normalization_v2_34[0][0]  \n",
      "__________________________________________________________________________________________________\n",
      "conv2d_35 (Conv2D)              (None, 256, 256, 8)  584         activation_34[0][0]              \n",
      "__________________________________________________________________________________________________\n",
      "output_layer (Conv2D)           (None, 256, 256, 1)  9           conv2d_35[0][0]                  \n",
      "==================================================================================================\n",
      "Total params: 541,545\n",
      "Trainable params: 540,809\n",
      "Non-trainable params: 736\n",
      "__________________________________________________________________________________________________\n"
     ]
    }
   ],
   "source": [
    "my_model2=get_unet_batch(base_dense,img_w,img_h,img_ch,dropout=True,dr=0.2)"
   ]
  },
  {
   "cell_type": "code",
   "execution_count": 12,
   "metadata": {},
   "outputs": [
    {
     "name": "stdout",
     "output_type": "stream",
     "text": [
      "Train on 6735 samples, validate on 1684 samples\n",
      "Epoch 1/50\n",
      "6735/6735 [==============================] - 35s 5ms/sample - loss: 0.1622 - dice_coef: 0.7628 - val_loss: 0.0646 - val_dice_coef: 0.9190\n",
      "Epoch 2/50\n",
      "6735/6735 [==============================] - 33s 5ms/sample - loss: 0.0329 - dice_coef: 0.9609 - val_loss: 0.0285 - val_dice_coef: 0.9670\n",
      "Epoch 3/50\n",
      "6735/6735 [==============================] - 33s 5ms/sample - loss: 0.0269 - dice_coef: 0.9722 - val_loss: 0.0316 - val_dice_coef: 0.9631\n",
      "Epoch 4/50\n",
      "6735/6735 [==============================] - 34s 5ms/sample - loss: 0.0239 - dice_coef: 0.9759 - val_loss: 0.0483 - val_dice_coef: 0.9279\n",
      "Epoch 5/50\n",
      "6735/6735 [==============================] - 35s 5ms/sample - loss: 0.0210 - dice_coef: 0.9780 - val_loss: 0.0190 - val_dice_coef: 0.9758\n",
      "Epoch 6/50\n",
      "6735/6735 [==============================] - 35s 5ms/sample - loss: 0.0186 - dice_coef: 0.9801 - val_loss: 0.0193 - val_dice_coef: 0.9760\n",
      "Epoch 7/50\n",
      "6735/6735 [==============================] - 35s 5ms/sample - loss: 0.0167 - dice_coef: 0.9816 - val_loss: 0.0140 - val_dice_coef: 0.9843\n",
      "Epoch 8/50\n",
      "6735/6735 [==============================] - 36s 5ms/sample - loss: 0.0153 - dice_coef: 0.9830 - val_loss: 0.0253 - val_dice_coef: 0.9668\n",
      "Epoch 9/50\n",
      "6735/6735 [==============================] - 36s 5ms/sample - loss: 0.0138 - dice_coef: 0.9843 - val_loss: 0.0123 - val_dice_coef: 0.9854\n",
      "Epoch 10/50\n",
      "6735/6735 [==============================] - 36s 5ms/sample - loss: 0.0131 - dice_coef: 0.9853 - val_loss: 0.0168 - val_dice_coef: 0.9806\n",
      "Epoch 11/50\n",
      "6735/6735 [==============================] - 36s 5ms/sample - loss: 0.0124 - dice_coef: 0.9858 - val_loss: 0.0141 - val_dice_coef: 0.9840\n",
      "Epoch 12/50\n",
      "6735/6735 [==============================] - 36s 5ms/sample - loss: 0.0117 - dice_coef: 0.9867 - val_loss: 0.0125 - val_dice_coef: 0.9855\n",
      "Epoch 13/50\n",
      "6735/6735 [==============================] - 36s 5ms/sample - loss: 0.0114 - dice_coef: 0.9869 - val_loss: 0.0130 - val_dice_coef: 0.9849\n",
      "Epoch 14/50\n",
      "6735/6735 [==============================] - 36s 5ms/sample - loss: 0.0112 - dice_coef: 0.9871 - val_loss: 0.0117 - val_dice_coef: 0.9868\n",
      "Epoch 15/50\n",
      "6735/6735 [==============================] - 36s 5ms/sample - loss: 0.0104 - dice_coef: 0.9879 - val_loss: 0.0187 - val_dice_coef: 0.9812\n",
      "Epoch 16/50\n",
      "6735/6735 [==============================] - 36s 5ms/sample - loss: 0.0102 - dice_coef: 0.9881 - val_loss: 0.0109 - val_dice_coef: 0.9881\n",
      "Epoch 17/50\n",
      "6735/6735 [==============================] - 36s 5ms/sample - loss: 0.0106 - dice_coef: 0.9879 - val_loss: 0.0095 - val_dice_coef: 0.9888\n",
      "Epoch 18/50\n",
      "6735/6735 [==============================] - 36s 5ms/sample - loss: 0.0095 - dice_coef: 0.9888 - val_loss: 0.0137 - val_dice_coef: 0.9865\n",
      "Epoch 19/50\n",
      "6735/6735 [==============================] - 35s 5ms/sample - loss: 0.0099 - dice_coef: 0.9886 - val_loss: 0.0091 - val_dice_coef: 0.9894\n",
      "Epoch 20/50\n",
      "6735/6735 [==============================] - 35s 5ms/sample - loss: 0.0097 - dice_coef: 0.9887 - val_loss: 0.0089 - val_dice_coef: 0.9899\n",
      "Epoch 21/50\n",
      "6735/6735 [==============================] - 35s 5ms/sample - loss: 0.0094 - dice_coef: 0.9891 - val_loss: 0.0088 - val_dice_coef: 0.9891\n",
      "Epoch 22/50\n",
      "6735/6735 [==============================] - 36s 5ms/sample - loss: 0.0095 - dice_coef: 0.9890 - val_loss: 0.0083 - val_dice_coef: 0.9901\n",
      "Epoch 23/50\n",
      "6735/6735 [==============================] - 34s 5ms/sample - loss: 0.0090 - dice_coef: 0.9895 - val_loss: 0.0098 - val_dice_coef: 0.9893\n",
      "Epoch 24/50\n",
      "6735/6735 [==============================] - 36s 5ms/sample - loss: 0.0088 - dice_coef: 0.9897 - val_loss: 0.0103 - val_dice_coef: 0.9895\n",
      "Epoch 25/50\n",
      "6735/6735 [==============================] - 34s 5ms/sample - loss: 0.0095 - dice_coef: 0.9890 - val_loss: 0.0081 - val_dice_coef: 0.9906\n",
      "Epoch 26/50\n",
      "6735/6735 [==============================] - 34s 5ms/sample - loss: 0.0087 - dice_coef: 0.9898 - val_loss: 0.0082 - val_dice_coef: 0.9906\n",
      "Epoch 27/50\n",
      "6735/6735 [==============================] - 34s 5ms/sample - loss: 0.0086 - dice_coef: 0.9899 - val_loss: 0.0077 - val_dice_coef: 0.9908\n",
      "Epoch 28/50\n",
      "6735/6735 [==============================] - 34s 5ms/sample - loss: 0.0088 - dice_coef: 0.9897 - val_loss: 0.0098 - val_dice_coef: 0.9892\n",
      "Epoch 29/50\n",
      "6735/6735 [==============================] - 34s 5ms/sample - loss: 0.0083 - dice_coef: 0.9902 - val_loss: 0.0078 - val_dice_coef: 0.9909\n",
      "Epoch 30/50\n",
      "6735/6735 [==============================] - 34s 5ms/sample - loss: 0.0084 - dice_coef: 0.9902 - val_loss: 0.0078 - val_dice_coef: 0.9907\n",
      "Epoch 31/50\n",
      "6735/6735 [==============================] - 34s 5ms/sample - loss: 0.0083 - dice_coef: 0.9902 - val_loss: 0.0078 - val_dice_coef: 0.9909\n",
      "Epoch 32/50\n",
      "6735/6735 [==============================] - 34s 5ms/sample - loss: 0.0079 - dice_coef: 0.9906 - val_loss: 0.0086 - val_dice_coef: 0.9905\n",
      "Epoch 33/50\n",
      "6735/6735 [==============================] - 34s 5ms/sample - loss: 0.0081 - dice_coef: 0.9904 - val_loss: 0.0077 - val_dice_coef: 0.9910\n",
      "Epoch 34/50\n",
      "6735/6735 [==============================] - 35s 5ms/sample - loss: 0.0080 - dice_coef: 0.9905 - val_loss: 0.0077 - val_dice_coef: 0.9910\n",
      "Epoch 35/50\n",
      "6735/6735 [==============================] - 34s 5ms/sample - loss: 0.0080 - dice_coef: 0.9906 - val_loss: 0.0073 - val_dice_coef: 0.9912\n",
      "Epoch 36/50\n",
      "6735/6735 [==============================] - 34s 5ms/sample - loss: 0.0080 - dice_coef: 0.9905 - val_loss: 0.0073 - val_dice_coef: 0.9916\n",
      "Epoch 37/50\n",
      "6735/6735 [==============================] - 35s 5ms/sample - loss: 0.0080 - dice_coef: 0.9908 - val_loss: 0.0077 - val_dice_coef: 0.9912\n",
      "Epoch 38/50\n",
      "6735/6735 [==============================] - 36s 5ms/sample - loss: 0.0077 - dice_coef: 0.9908 - val_loss: 0.0071 - val_dice_coef: 0.9915\n",
      "Epoch 39/50\n",
      "6735/6735 [==============================] - 36s 5ms/sample - loss: 0.0075 - dice_coef: 0.9911 - val_loss: 0.0070 - val_dice_coef: 0.9916\n",
      "Epoch 40/50\n",
      "6735/6735 [==============================] - 36s 5ms/sample - loss: 0.0074 - dice_coef: 0.9911 - val_loss: 0.0081 - val_dice_coef: 0.9906\n",
      "Epoch 41/50\n",
      "6735/6735 [==============================] - 36s 5ms/sample - loss: 0.0078 - dice_coef: 0.9908 - val_loss: 0.0077 - val_dice_coef: 0.9913\n",
      "Epoch 42/50\n",
      "6735/6735 [==============================] - 36s 5ms/sample - loss: 0.0073 - dice_coef: 0.9913 - val_loss: 0.0076 - val_dice_coef: 0.9914\n",
      "Epoch 43/50\n",
      "6735/6735 [==============================] - 36s 5ms/sample - loss: 0.0075 - dice_coef: 0.9911 - val_loss: 0.0069 - val_dice_coef: 0.9917\n",
      "Epoch 44/50\n",
      "6735/6735 [==============================] - 36s 5ms/sample - loss: 0.0074 - dice_coef: 0.9912 - val_loss: 0.0067 - val_dice_coef: 0.9919\n",
      "Epoch 45/50\n",
      "6735/6735 [==============================] - 36s 5ms/sample - loss: 0.0075 - dice_coef: 0.9911 - val_loss: 0.0066 - val_dice_coef: 0.9920\n",
      "Epoch 46/50\n",
      "6735/6735 [==============================] - 36s 5ms/sample - loss: 0.0071 - dice_coef: 0.9915 - val_loss: 0.0067 - val_dice_coef: 0.9920\n",
      "Epoch 47/50\n",
      "6735/6735 [==============================] - 36s 5ms/sample - loss: 0.0071 - dice_coef: 0.9915 - val_loss: 0.0065 - val_dice_coef: 0.9921\n",
      "Epoch 48/50\n",
      "6735/6735 [==============================] - 36s 5ms/sample - loss: 0.0072 - dice_coef: 0.9914 - val_loss: 0.0071 - val_dice_coef: 0.9917\n",
      "Epoch 49/50\n",
      "6735/6735 [==============================] - 36s 5ms/sample - loss: 0.0072 - dice_coef: 0.9915 - val_loss: 0.0072 - val_dice_coef: 0.9920\n",
      "Epoch 50/50\n",
      "6735/6735 [==============================] - 36s 5ms/sample - loss: 0.0070 - dice_coef: 0.9916 - val_loss: 0.0069 - val_dice_coef: 0.9917\n"
     ]
    }
   ],
   "source": [
    "#with dice_coef_loss\n",
    "model_hist=compile_fit(my_model2,loss_function=loss_func_list[1], optimizer=Adam(LR),metrics=[dice_coef],x_train=x_train,y_train=y_train,\n",
    "                       x_test=x_test,y_test=y_test,batch_size=batch_size,n_epochs=50)"
   ]
  },
  {
   "cell_type": "code",
   "execution_count": 13,
   "metadata": {},
   "outputs": [
    {
     "data": {
      "image/png": "[encoded data removed]",
      "text/plain": [
       "<Figure size 288x288 with 1 Axes>"
      ]
     },
     "metadata": {
      "needs_background": "light"
     },
     "output_type": "display_data"
    }
   ],
   "source": [
    "loss_curves_plot(model_hist)"
   ]
  },
  {
   "cell_type": "code",
   "execution_count": 14,
   "metadata": {},
   "outputs": [
    {
     "data": {
      "image/png": "[encoded data removed]",
      "text/plain": [
       "<Figure size 288x288 with 1 Axes>"
      ]
     },
     "metadata": {
      "needs_background": "light"
     },
     "output_type": "display_data"
    }
   ],
   "source": [
    "accuracy_curves_plot(model_hist,'dice_coef')"
   ]
  },
  {
   "cell_type": "markdown",
   "metadata": {},
   "source": [
    "# Task 2b"
   ]
  },
  {
   "cell_type": "code",
   "execution_count": 4,
   "metadata": {},
   "outputs": [],
   "source": [
    "def precision(y_true,y_pred):\n",
    "    y_true_f = K.flatten(y_true)\n",
    "    y_pred_f = K.flatten(y_pred)\n",
    "    intersection = K.sum(y_true_f * y_pred_f)\n",
    "    return (intersection + K.epsilon()) / (K.sum(y_pred_f) + K.epsilon())\n",
    "\n",
    "def recall(y_true,y_pred):\n",
    "    y_true_f = K.flatten(y_true)\n",
    "    y_pred_f = K.flatten(y_pred)\n",
    "    intersection = K.sum(y_true_f * y_pred_f)\n",
    "    return (intersection + K.epsilon()) / (K.sum(y_true_f) + K.epsilon())"
   ]
  },
  {
   "cell_type": "code",
   "execution_count": 5,
   "metadata": {},
   "outputs": [],
   "source": [
    "#data augmentation\n",
    "dictionary_augmentation = dict(\n",
    "                     rotation_range=10,\n",
    "                     width_shift_range=0.1,\n",
    "                     height_shift_range=0.1,\n",
    "                     zoom_range=0.2,       \n",
    "                     horizontal_flip=True)\n",
    "\n"
   ]
  },
  {
   "cell_type": "code",
   "execution_count": 6,
   "metadata": {},
   "outputs": [],
   "source": [
    "train_generator, STEP_SIZE_TRAIN=augmentation(x_train,y_train,dictionary_augmentation,batch_size)"
   ]
  },
  {
   "cell_type": "code",
   "execution_count": 7,
   "metadata": {},
   "outputs": [
    {
     "name": "stdout",
     "output_type": "stream",
     "text": [
      "Model: \"model\"\n",
      "__________________________________________________________________________________________________\n",
      "Layer (type)                    Output Shape         Param #     Connected to                     \n",
      "==================================================================================================\n",
      "input_layer (InputLayer)        [(None, 256, 256, 1) 0                                            \n",
      "__________________________________________________________________________________________________\n",
      "conv2d (Conv2D)                 (None, 256, 256, 8)  80          input_layer[0][0]                \n",
      "__________________________________________________________________________________________________\n",
      "batch_normalization_v2 (BatchNo (None, 256, 256, 8)  32          conv2d[0][0]                     \n",
      "__________________________________________________________________________________________________\n",
      "activation (Activation)         (None, 256, 256, 8)  0           batch_normalization_v2[0][0]     \n",
      "__________________________________________________________________________________________________\n",
      "conv2d_1 (Conv2D)               (None, 256, 256, 8)  584         activation[0][0]                 \n",
      "__________________________________________________________________________________________________\n",
      "max_pooling2d (MaxPooling2D)    (None, 128, 128, 8)  0           conv2d_1[0][0]                   \n",
      "__________________________________________________________________________________________________\n",
      "dropout (Dropout)               (None, 128, 128, 8)  0           max_pooling2d[0][0]              \n",
      "__________________________________________________________________________________________________\n",
      "conv2d_2 (Conv2D)               (None, 128, 128, 16) 1168        dropout[0][0]                    \n",
      "__________________________________________________________________________________________________\n",
      "batch_normalization_v2_2 (Batch (None, 128, 128, 16) 64          conv2d_2[0][0]                   \n",
      "__________________________________________________________________________________________________\n",
      "activation_2 (Activation)       (None, 128, 128, 16) 0           batch_normalization_v2_2[0][0]   \n",
      "__________________________________________________________________________________________________\n",
      "conv2d_3 (Conv2D)               (None, 128, 128, 16) 2320        activation_2[0][0]               \n",
      "__________________________________________________________________________________________________\n",
      "max_pooling2d_1 (MaxPooling2D)  (None, 64, 64, 16)   0           conv2d_3[0][0]                   \n",
      "__________________________________________________________________________________________________\n",
      "dropout_1 (Dropout)             (None, 64, 64, 16)   0           max_pooling2d_1[0][0]            \n",
      "__________________________________________________________________________________________________\n",
      "conv2d_4 (Conv2D)               (None, 64, 64, 32)   4640        dropout_1[0][0]                  \n",
      "__________________________________________________________________________________________________\n",
      "batch_normalization_v2_4 (Batch (None, 64, 64, 32)   128         conv2d_4[0][0]                   \n",
      "__________________________________________________________________________________________________\n",
      "activation_4 (Activation)       (None, 64, 64, 32)   0           batch_normalization_v2_4[0][0]   \n",
      "__________________________________________________________________________________________________\n",
      "conv2d_5 (Conv2D)               (None, 64, 64, 32)   9248        activation_4[0][0]               \n",
      "__________________________________________________________________________________________________\n",
      "max_pooling2d_2 (MaxPooling2D)  (None, 32, 32, 32)   0           conv2d_5[0][0]                   \n",
      "__________________________________________________________________________________________________\n",
      "dropout_2 (Dropout)             (None, 32, 32, 32)   0           max_pooling2d_2[0][0]            \n",
      "__________________________________________________________________________________________________\n",
      "conv2d_6 (Conv2D)               (None, 32, 32, 64)   18496       dropout_2[0][0]                  \n",
      "__________________________________________________________________________________________________\n",
      "batch_normalization_v2_6 (Batch (None, 32, 32, 64)   256         conv2d_6[0][0]                   \n",
      "__________________________________________________________________________________________________\n",
      "activation_6 (Activation)       (None, 32, 32, 64)   0           batch_normalization_v2_6[0][0]   \n",
      "__________________________________________________________________________________________________\n",
      "conv2d_7 (Conv2D)               (None, 32, 32, 64)   36928       activation_6[0][0]               \n",
      "__________________________________________________________________________________________________\n",
      "max_pooling2d_3 (MaxPooling2D)  (None, 16, 16, 64)   0           conv2d_7[0][0]                   \n",
      "__________________________________________________________________________________________________\n",
      "dropout_3 (Dropout)             (None, 16, 16, 64)   0           max_pooling2d_3[0][0]            \n",
      "__________________________________________________________________________________________________\n",
      "conv2d_8 (Conv2D)               (None, 16, 16, 128)  73856       dropout_3[0][0]                  \n",
      "__________________________________________________________________________________________________\n",
      "batch_normalization_v2_8 (Batch (None, 16, 16, 128)  512         conv2d_8[0][0]                   \n",
      "__________________________________________________________________________________________________\n",
      "activation_8 (Activation)       (None, 16, 16, 128)  0           batch_normalization_v2_8[0][0]   \n",
      "__________________________________________________________________________________________________\n",
      "conv2d_9 (Conv2D)               (None, 16, 16, 128)  147584      activation_8[0][0]               \n",
      "__________________________________________________________________________________________________\n",
      "conv2d_transpose (Conv2DTranspo (None, 32, 32, 64)   73792       conv2d_9[0][0]                   \n",
      "__________________________________________________________________________________________________\n",
      "concatenate (Concatenate)       (None, 32, 32, 128)  0           conv2d_transpose[0][0]           \n",
      "                                                                 conv2d_7[0][0]                   \n",
      "__________________________________________________________________________________________________\n",
      "dropout_4 (Dropout)             (None, 32, 32, 128)  0           concatenate[0][0]                \n",
      "__________________________________________________________________________________________________\n",
      "conv2d_10 (Conv2D)              (None, 32, 32, 64)   73792       dropout_4[0][0]                  \n",
      "__________________________________________________________________________________________________\n",
      "batch_normalization_v2_10 (Batc (None, 32, 32, 64)   256         conv2d_10[0][0]                  \n",
      "__________________________________________________________________________________________________\n",
      "activation_10 (Activation)      (None, 32, 32, 64)   0           batch_normalization_v2_10[0][0]  \n",
      "__________________________________________________________________________________________________\n",
      "conv2d_11 (Conv2D)              (None, 32, 32, 64)   36928       activation_10[0][0]              \n",
      "__________________________________________________________________________________________________\n",
      "conv2d_transpose_1 (Conv2DTrans (None, 64, 64, 32)   18464       conv2d_11[0][0]                  \n",
      "__________________________________________________________________________________________________\n",
      "concatenate_1 (Concatenate)     (None, 64, 64, 64)   0           conv2d_transpose_1[0][0]         \n",
      "                                                                 conv2d_5[0][0]                   \n",
      "__________________________________________________________________________________________________\n",
      "dropout_5 (Dropout)             (None, 64, 64, 64)   0           concatenate_1[0][0]              \n",
      "__________________________________________________________________________________________________\n",
      "conv2d_12 (Conv2D)              (None, 64, 64, 32)   18464       dropout_5[0][0]                  \n",
      "__________________________________________________________________________________________________\n",
      "batch_normalization_v2_12 (Batc (None, 64, 64, 32)   128         conv2d_12[0][0]                  \n",
      "__________________________________________________________________________________________________\n",
      "activation_12 (Activation)      (None, 64, 64, 32)   0           batch_normalization_v2_12[0][0]  \n",
      "__________________________________________________________________________________________________\n",
      "conv2d_13 (Conv2D)              (None, 64, 64, 32)   9248        activation_12[0][0]              \n",
      "__________________________________________________________________________________________________\n",
      "conv2d_transpose_2 (Conv2DTrans (None, 128, 128, 16) 4624        conv2d_13[0][0]                  \n",
      "__________________________________________________________________________________________________\n",
      "concatenate_2 (Concatenate)     (None, 128, 128, 32) 0           conv2d_transpose_2[0][0]         \n",
      "                                                                 conv2d_3[0][0]                   \n",
      "__________________________________________________________________________________________________\n",
      "dropout_6 (Dropout)             (None, 128, 128, 32) 0           concatenate_2[0][0]              \n",
      "__________________________________________________________________________________________________\n",
      "conv2d_14 (Conv2D)              (None, 128, 128, 16) 4624        dropout_6[0][0]                  \n",
      "__________________________________________________________________________________________________\n",
      "batch_normalization_v2_14 (Batc (None, 128, 128, 16) 64          conv2d_14[0][0]                  \n",
      "__________________________________________________________________________________________________\n",
      "activation_14 (Activation)      (None, 128, 128, 16) 0           batch_normalization_v2_14[0][0]  \n",
      "__________________________________________________________________________________________________\n",
      "conv2d_15 (Conv2D)              (None, 128, 128, 16) 2320        activation_14[0][0]              \n",
      "__________________________________________________________________________________________________\n",
      "conv2d_transpose_3 (Conv2DTrans (None, 256, 256, 8)  1160        conv2d_15[0][0]                  \n",
      "__________________________________________________________________________________________________\n",
      "concatenate_3 (Concatenate)     (None, 256, 256, 16) 0           conv2d_transpose_3[0][0]         \n",
      "                                                                 conv2d_1[0][0]                   \n",
      "__________________________________________________________________________________________________\n",
      "dropout_7 (Dropout)             (None, 256, 256, 16) 0           concatenate_3[0][0]              \n",
      "__________________________________________________________________________________________________\n",
      "conv2d_16 (Conv2D)              (None, 256, 256, 8)  1160        dropout_7[0][0]                  \n",
      "__________________________________________________________________________________________________\n",
      "batch_normalization_v2_16 (Batc (None, 256, 256, 8)  32          conv2d_16[0][0]                  \n",
      "__________________________________________________________________________________________________\n",
      "activation_16 (Activation)      (None, 256, 256, 8)  0           batch_normalization_v2_16[0][0]  \n",
      "__________________________________________________________________________________________________\n",
      "conv2d_17 (Conv2D)              (None, 256, 256, 8)  584         activation_16[0][0]              \n",
      "__________________________________________________________________________________________________\n",
      "output_layer (Conv2D)           (None, 256, 256, 1)  9           conv2d_17[0][0]                  \n",
      "==================================================================================================\n",
      "Total params: 541,545\n",
      "Trainable params: 540,809\n",
      "Non-trainable params: 736\n",
      "__________________________________________________________________________________________________\n"
     ]
    }
   ],
   "source": [
    "my_model2b=get_unet_batch(base_dense,img_w,img_h,img_ch,dropout=True,dr=0.2)"
   ]
  },
  {
   "cell_type": "code",
   "execution_count": 9,
   "metadata": {},
   "outputs": [
    {
     "name": "stdout",
     "output_type": "stream",
     "text": [
      "Epoch 1/50\n",
      "1683/1683 [==============================] - 88s 52ms/step - loss: 0.1096 - dice_coef: 0.8904 - val_loss: 0.0410 - val_dice_coef: 0.9590\n",
      "Epoch 2/50\n",
      "1683/1683 [==============================] - 81s 48ms/step - loss: 0.0214 - dice_coef: 0.9786 - val_loss: 0.0184 - val_dice_coef: 0.9816\n",
      "Epoch 3/50\n",
      "1683/1683 [==============================] - 80s 48ms/step - loss: 0.0188 - dice_coef: 0.9812 - val_loss: 0.0183 - val_dice_coef: 0.9817\n",
      "Epoch 4/50\n",
      "1683/1683 [==============================] - 80s 48ms/step - loss: 0.0177 - dice_coef: 0.9823 - val_loss: 0.0146 - val_dice_coef: 0.9854\n",
      "Epoch 5/50\n",
      "1683/1683 [==============================] - 80s 48ms/step - loss: 0.0173 - dice_coef: 0.9827 - val_loss: 0.0144 - val_dice_coef: 0.9856\n",
      "Epoch 6/50\n",
      "1683/1683 [==============================] - 80s 48ms/step - loss: 0.0161 - dice_coef: 0.9839 - val_loss: 0.0123 - val_dice_coef: 0.9877\n",
      "Epoch 9/50\n",
      "1683/1683 [==============================] - 80s 48ms/step - loss: 0.0159 - dice_coef: 0.9841 - val_loss: 0.0119 - val_dice_coef: 0.9881\n",
      "Epoch 10/50\n",
      "1683/1683 [==============================] - 80s 47ms/step - loss: 0.0157 - dice_coef: 0.9843 - val_loss: 0.0109 - val_dice_coef: 0.9891\n",
      "Epoch 11/50\n",
      "1373/1683 [=======================>......] - ETA: 14s - loss: 0.0156 - dice_coef: 0.9844"
     ]
    },
    {
     "name": "stderr",
     "output_type": "stream",
     "text": [
      "IOPub message rate exceeded.\n",
      "The notebook server will temporarily stop sending output\n",
      "to the client in order to avoid crashing it.\n",
      "To change this limit, set the config variable\n",
      "`--NotebookApp.iopub_msg_rate_limit`.\n",
      "\n",
      "Current values:\n",
      "NotebookApp.iopub_msg_rate_limit=1000.0 (msgs/sec)\n",
      "NotebookApp.rate_limit_window=3.0 (secs)\n",
      "\n"
     ]
    },
    {
     "name": "stdout",
     "output_type": "stream",
     "text": [
      "1683/1683 [==============================] - 80s 48ms/step - loss: 0.0150 - dice_coef: 0.9850 - val_loss: 0.0106 - val_dice_coef: 0.9894\n",
      "Epoch 16/50\n",
      "1683/1683 [==============================] - 80s 48ms/step - loss: 0.0152 - dice_coef: 0.9847 - val_loss: 0.0104 - val_dice_coef: 0.9896\n",
      "Epoch 17/50\n",
      "1683/1683 [==============================] - 80s 48ms/step - loss: 0.0150 - dice_coef: 0.9850 - val_loss: 0.0103 - val_dice_coef: 0.9897\n",
      "Epoch 18/50\n",
      "1683/1683 [==============================] - 81s 48ms/step - loss: 0.0149 - dice_coef: 0.9851 - val_loss: 0.0130 - val_dice_coef: 0.9870\n",
      "Epoch 19/50\n",
      "  71/1683 [>.............................] - ETA: 1:07 - loss: 0.0138 - dice_coef: 0.9862"
     ]
    },
    {
     "name": "stderr",
     "output_type": "stream",
     "text": [
      "IOPub message rate exceeded.\n",
      "The notebook server will temporarily stop sending output\n",
      "to the client in order to avoid crashing it.\n",
      "To change this limit, set the config variable\n",
      "`--NotebookApp.iopub_msg_rate_limit`.\n",
      "\n",
      "Current values:\n",
      "NotebookApp.iopub_msg_rate_limit=1000.0 (msgs/sec)\n",
      "NotebookApp.rate_limit_window=3.0 (secs)\n",
      "\n"
     ]
    },
    {
     "name": "stdout",
     "output_type": "stream",
     "text": [
      "1683/1683 [==============================] - 81s 48ms/step - loss: 0.0150 - dice_coef: 0.9850 - val_loss: 0.0109 - val_dice_coef: 0.9891\n",
      "Epoch 20/50\n",
      "1683/1683 [==============================] - 80s 47ms/step - loss: 0.0151 - dice_coef: 0.9849 - val_loss: 0.0117 - val_dice_coef: 0.9883\n",
      "Epoch 21/50\n",
      "1683/1683 [==============================] - 81s 48ms/step - loss: 0.0148 - dice_coef: 0.9852 - val_loss: 0.0210 - val_dice_coef: 0.9790\n",
      "Epoch 22/50\n",
      "1683/1683 [==============================] - 81s 48ms/step - loss: 0.0147 - dice_coef: 0.9853 - val_loss: 0.0115 - val_dice_coef: 0.9885\n",
      "Epoch 23/50\n",
      "1683/1683 [==============================] - 80s 47ms/step - loss: 0.0148 - dice_coef: 0.9852 - val_loss: 0.0106 - val_dice_coef: 0.9894\n",
      "Epoch 24/50\n",
      "1683/1683 [==============================] - 80s 48ms/step - loss: 0.0148 - dice_coef: 0.9852 - val_loss: 0.0094 - val_dice_coef: 0.9906\n",
      "Epoch 25/50\n",
      "1683/1683 [==============================] - 80s 48ms/step - loss: 0.0147 - dice_coef: 0.9853 - val_loss: 0.0113 - val_dice_coef: 0.9887\n",
      "Epoch 26/50\n",
      "1683/1683 [==============================] - 80s 47ms/step - loss: 0.0148 - dice_coef: 0.9852 - val_loss: 0.0104 - val_dice_coef: 0.9896\n",
      "Epoch 27/50\n",
      "1683/1683 [==============================] - 79s 47ms/step - loss: 0.0147 - dice_coef: 0.9853 - val_loss: 0.0093 - val_dice_coef: 0.9907\n",
      "Epoch 28/50\n",
      "1683/1683 [==============================] - 80s 48ms/step - loss: 0.0146 - dice_coef: 0.9854 - val_loss: 0.0098 - val_dice_coef: 0.9902\n",
      "Epoch 29/50\n",
      "1683/1683 [==============================] - 80s 48ms/step - loss: 0.0145 - dice_coef: 0.9855 - val_loss: 0.0102 - val_dice_coef: 0.9898\n",
      "Epoch 31/50\n",
      "1683/1683 [==============================] - 80s 48ms/step - loss: 0.0147 - dice_coef: 0.9853 - val_loss: 0.0097 - val_dice_coef: 0.9903\n",
      "Epoch 32/50\n",
      "1683/1683 [==============================] - 80s 48ms/step - loss: 0.0145 - dice_coef: 0.9855 - val_loss: 0.0100 - val_dice_coef: 0.9900\n",
      "Epoch 33/50\n",
      "1683/1683 [==============================] - 80s 48ms/step - loss: 0.0145 - dice_coef: 0.9855 - val_loss: 0.0090 - val_dice_coef: 0.9910\n",
      "Epoch 34/50\n",
      " 258/1683 [===>..........................] - ETA: 1:03 - loss: 0.0144 - dice_coef: 0.9856"
     ]
    },
    {
     "name": "stderr",
     "output_type": "stream",
     "text": [
      "IOPub message rate exceeded.\n",
      "The notebook server will temporarily stop sending output\n",
      "to the client in order to avoid crashing it.\n",
      "To change this limit, set the config variable\n",
      "`--NotebookApp.iopub_msg_rate_limit`.\n",
      "\n",
      "Current values:\n",
      "NotebookApp.iopub_msg_rate_limit=1000.0 (msgs/sec)\n",
      "NotebookApp.rate_limit_window=3.0 (secs)\n",
      "\n"
     ]
    },
    {
     "name": "stdout",
     "output_type": "stream",
     "text": [
      "1683/1683 [==============================] - 80s 48ms/step - loss: 0.0143 - dice_coef: 0.9857 - val_loss: 0.0100 - val_dice_coef: 0.9900\n",
      "Epoch 41/50\n",
      "1683/1683 [==============================] - 80s 48ms/step - loss: 0.0143 - dice_coef: 0.9857 - val_loss: 0.0092 - val_dice_coef: 0.9908\n",
      "Epoch 42/50\n",
      "1683/1683 [==============================] - 80s 48ms/step - loss: 0.0143 - dice_coef: 0.9857 - val_loss: 0.0088 - val_dice_coef: 0.9912\n",
      "Epoch 43/50\n",
      " 889/1683 [==============>...............] - ETA: 36s - loss: 0.0143 - dice_coef: 0.9857"
     ]
    },
    {
     "name": "stderr",
     "output_type": "stream",
     "text": [
      "IOPub message rate exceeded.\n",
      "The notebook server will temporarily stop sending output\n",
      "to the client in order to avoid crashing it.\n",
      "To change this limit, set the config variable\n",
      "`--NotebookApp.iopub_msg_rate_limit`.\n",
      "\n",
      "Current values:\n",
      "NotebookApp.iopub_msg_rate_limit=1000.0 (msgs/sec)\n",
      "NotebookApp.rate_limit_window=3.0 (secs)\n",
      "\n"
     ]
    },
    {
     "name": "stdout",
     "output_type": "stream",
     "text": [
      "1683/1683 [==============================] - 80s 48ms/step - loss: 0.0142 - dice_coef: 0.9858 - val_loss: 0.0088 - val_dice_coef: 0.9912\n",
      "Epoch 50/50\n",
      "1683/1683 [==============================] - 80s 48ms/step - loss: 0.0143 - dice_coef: 0.9857 - val_loss: 0.0092 - val_dice_coef: 0.9908\n"
     ]
    }
   ],
   "source": [
    "model_hist=compile_fit_generator(my_model2b,train_generator,x_test,y_test,loss_func_list[0], optimizer=Adam(LR),metrics=dice_coef,batch_size=batch_size,n_epochs=50,STEP_SIZE_TRAIN=STEP_SIZE_TRAIN)"
   ]
  },
  {
   "cell_type": "code",
   "execution_count": 10,
   "metadata": {},
   "outputs": [
    {
     "data": {
      "image/png": "[encoded data removed]",
      "text/plain": [
       "<Figure size 288x288 with 1 Axes>"
      ]
     },
     "metadata": {
      "needs_background": "light"
     },
     "output_type": "display_data"
    }
   ],
   "source": [
    "loss_curves_plot(model_hist)"
   ]
  },
  {
   "cell_type": "code",
   "execution_count": 11,
   "metadata": {},
   "outputs": [
    {
     "data": {
      "image/png": "[encoded data removed]",
      "text/plain": [
       "<Figure size 288x288 with 1 Axes>"
      ]
     },
     "metadata": {
      "needs_background": "light"
     },
     "output_type": "display_data"
    }
   ],
   "source": [
    "accuracy_curves_plot(model_hist,'dice_coef')"
   ]
  },
  {
   "cell_type": "markdown",
   "metadata": {},
   "source": []
  },
  {
   "cell_type": "code",
   "execution_count": null,
   "metadata": {},
   "outputs": [],
   "source": []
  }
 ],
 "metadata": {
  "kernelspec": {
   "display_name": "Python 3",
   "language": "python",
   "name": "python3"
  },
  "language_info": {
   "codemirror_mode": {
    "name": "ipython",
    "version": 3
   },
   "file_extension": ".py",
   "mimetype": "text/x-python",
   "name": "python",
   "nbconvert_exporter": "python",
   "pygments_lexer": "ipython3",
   "version": "3.5.2"
  }
 },
 "nbformat": 4,
 "nbformat_minor": 2
}
