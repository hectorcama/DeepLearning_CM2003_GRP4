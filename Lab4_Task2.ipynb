{
 "cells": [
  {
   "cell_type": "code",
   "execution_count": 1,
   "metadata": {},
   "outputs": [],
   "source": [
    "from Functions_lab4 import*"
   ]
  },
  {
   "cell_type": "code",
   "execution_count": 2,
   "metadata": {},
   "outputs": [],
   "source": [
    "#parameters\n",
    "base_dense=8\n",
    "batch_size=8\n",
    "LR=0.0001\n",
    "img_w,img_h,img_ch=256,256,1\n",
    "\n",
    "\n",
    "#metrics list\n",
    "metric_list=[dice_coef,\"Precision\",'Recall']\n",
    "\n",
    "#loss functions list\n",
    "loss_func_list=[dice_coef_loss,'binary_crossentropy']"
   ]
  },
  {
   "cell_type": "code",
   "execution_count": 6,
   "metadata": {},
   "outputs": [],
   "source": [
    "#load the X_ray images\n",
    "\n",
    "#first create the set with the dir info\n",
    "x_train,y_train,x_test,y_test = create_data('Lab3','CT',0.8)\n",
    "\n",
    "#then load the images thanks to the info\n",
    "x_train = load_data(x_train,img_w,img_h,img_ch)\n",
    "y_train = load_data(y_train,img_w,img_h,img_ch,mask=True)\n",
    "x_test = load_data(x_test,img_w,img_h,img_ch)\n",
    "y_test = load_data(y_test,img_w,img_h,img_ch,mask=True)\n",
    "\n",
    "#the intensity and resize rescale are already done in load_data function"
   ]
  },
  {
   "cell_type": "code",
   "execution_count": 10,
   "metadata": {},
   "outputs": [
    {
     "data": {
      "text/plain": [
       "<matplotlib.image.AxesImage at 0x7f83f1350e80>"
      ]
     },
     "execution_count": 10,
     "metadata": {},
     "output_type": "execute_result"
    },
    {
     "data": {
      "image/png": "[encoded data removed]",
      "text/plain": [
       "<Figure size 432x288 with 1 Axes>"
      ]
     },
     "metadata": {
      "needs_background": "light"
     },
     "output_type": "display_data"
    }
   ],
   "source": [
    "from skimage.io import imshow\n",
    "imshow(np.squeeze(y_test[0]))"
   ]
  },
  {
   "cell_type": "markdown",
   "metadata": {},
   "source": [
    "# Task 2a"
   ]
  },
  {
   "cell_type": "code",
   "execution_count": 17,
   "metadata": {},
   "outputs": [
    {
     "name": "stdout",
     "output_type": "stream",
     "text": [
      "Model: \"model_1\"\n",
      "__________________________________________________________________________________________________\n",
      "Layer (type)                    Output Shape         Param #     Connected to                     \n",
      "==================================================================================================\n",
      "input_layer (InputLayer)        [(None, 256, 256, 1) 0                                            \n",
      "__________________________________________________________________________________________________\n",
      "conv2d_18 (Conv2D)              (None, 256, 256, 8)  80          input_layer[0][0]                \n",
      "__________________________________________________________________________________________________\n",
      "batch_normalization_v2_18 (Batc (None, 256, 256, 8)  32          conv2d_18[0][0]                  \n",
      "__________________________________________________________________________________________________\n",
      "activation_18 (Activation)      (None, 256, 256, 8)  0           batch_normalization_v2_18[0][0]  \n",
      "__________________________________________________________________________________________________\n",
      "conv2d_19 (Conv2D)              (None, 256, 256, 8)  584         activation_18[0][0]              \n",
      "__________________________________________________________________________________________________\n",
      "max_pooling2d_4 (MaxPooling2D)  (None, 128, 128, 8)  0           conv2d_19[0][0]                  \n",
      "__________________________________________________________________________________________________\n",
      "dropout_8 (Dropout)             (None, 128, 128, 8)  0           max_pooling2d_4[0][0]            \n",
      "__________________________________________________________________________________________________\n",
      "conv2d_20 (Conv2D)              (None, 128, 128, 16) 1168        dropout_8[0][0]                  \n",
      "__________________________________________________________________________________________________\n",
      "batch_normalization_v2_20 (Batc (None, 128, 128, 16) 64          conv2d_20[0][0]                  \n",
      "__________________________________________________________________________________________________\n",
      "activation_20 (Activation)      (None, 128, 128, 16) 0           batch_normalization_v2_20[0][0]  \n",
      "__________________________________________________________________________________________________\n",
      "conv2d_21 (Conv2D)              (None, 128, 128, 16) 2320        activation_20[0][0]              \n",
      "__________________________________________________________________________________________________\n",
      "max_pooling2d_5 (MaxPooling2D)  (None, 64, 64, 16)   0           conv2d_21[0][0]                  \n",
      "__________________________________________________________________________________________________\n",
      "dropout_9 (Dropout)             (None, 64, 64, 16)   0           max_pooling2d_5[0][0]            \n",
      "__________________________________________________________________________________________________\n",
      "conv2d_22 (Conv2D)              (None, 64, 64, 32)   4640        dropout_9[0][0]                  \n",
      "__________________________________________________________________________________________________\n",
      "batch_normalization_v2_22 (Batc (None, 64, 64, 32)   128         conv2d_22[0][0]                  \n",
      "__________________________________________________________________________________________________\n",
      "activation_22 (Activation)      (None, 64, 64, 32)   0           batch_normalization_v2_22[0][0]  \n",
      "__________________________________________________________________________________________________\n",
      "conv2d_23 (Conv2D)              (None, 64, 64, 32)   9248        activation_22[0][0]              \n",
      "__________________________________________________________________________________________________\n",
      "max_pooling2d_6 (MaxPooling2D)  (None, 32, 32, 32)   0           conv2d_23[0][0]                  \n",
      "__________________________________________________________________________________________________\n",
      "dropout_10 (Dropout)            (None, 32, 32, 32)   0           max_pooling2d_6[0][0]            \n",
      "__________________________________________________________________________________________________\n",
      "conv2d_24 (Conv2D)              (None, 32, 32, 64)   18496       dropout_10[0][0]                 \n",
      "__________________________________________________________________________________________________\n",
      "batch_normalization_v2_24 (Batc (None, 32, 32, 64)   256         conv2d_24[0][0]                  \n",
      "__________________________________________________________________________________________________\n",
      "activation_24 (Activation)      (None, 32, 32, 64)   0           batch_normalization_v2_24[0][0]  \n",
      "__________________________________________________________________________________________________\n",
      "conv2d_25 (Conv2D)              (None, 32, 32, 64)   36928       activation_24[0][0]              \n",
      "__________________________________________________________________________________________________\n",
      "max_pooling2d_7 (MaxPooling2D)  (None, 16, 16, 64)   0           conv2d_25[0][0]                  \n",
      "__________________________________________________________________________________________________\n",
      "dropout_11 (Dropout)            (None, 16, 16, 64)   0           max_pooling2d_7[0][0]            \n",
      "__________________________________________________________________________________________________\n",
      "conv2d_26 (Conv2D)              (None, 16, 16, 128)  73856       dropout_11[0][0]                 \n",
      "__________________________________________________________________________________________________\n",
      "batch_normalization_v2_26 (Batc (None, 16, 16, 128)  512         conv2d_26[0][0]                  \n",
      "__________________________________________________________________________________________________\n",
      "activation_26 (Activation)      (None, 16, 16, 128)  0           batch_normalization_v2_26[0][0]  \n",
      "__________________________________________________________________________________________________\n",
      "conv2d_27 (Conv2D)              (None, 16, 16, 128)  147584      activation_26[0][0]              \n",
      "__________________________________________________________________________________________________\n",
      "conv2d_transpose_4 (Conv2DTrans (None, 32, 32, 64)   73792       conv2d_27[0][0]                  \n",
      "__________________________________________________________________________________________________\n",
      "concatenate_4 (Concatenate)     (None, 32, 32, 128)  0           conv2d_transpose_4[0][0]         \n",
      "                                                                 conv2d_25[0][0]                  \n",
      "__________________________________________________________________________________________________\n",
      "dropout_12 (Dropout)            (None, 32, 32, 128)  0           concatenate_4[0][0]              \n",
      "__________________________________________________________________________________________________\n",
      "conv2d_28 (Conv2D)              (None, 32, 32, 64)   73792       dropout_12[0][0]                 \n",
      "__________________________________________________________________________________________________\n",
      "batch_normalization_v2_28 (Batc (None, 32, 32, 64)   256         conv2d_28[0][0]                  \n",
      "__________________________________________________________________________________________________\n",
      "activation_28 (Activation)      (None, 32, 32, 64)   0           batch_normalization_v2_28[0][0]  \n",
      "__________________________________________________________________________________________________\n",
      "conv2d_29 (Conv2D)              (None, 32, 32, 64)   36928       activation_28[0][0]              \n",
      "__________________________________________________________________________________________________\n",
      "conv2d_transpose_5 (Conv2DTrans (None, 64, 64, 32)   18464       conv2d_29[0][0]                  \n",
      "__________________________________________________________________________________________________\n",
      "concatenate_5 (Concatenate)     (None, 64, 64, 64)   0           conv2d_transpose_5[0][0]         \n",
      "                                                                 conv2d_23[0][0]                  \n",
      "__________________________________________________________________________________________________\n",
      "dropout_13 (Dropout)            (None, 64, 64, 64)   0           concatenate_5[0][0]              \n",
      "__________________________________________________________________________________________________\n",
      "conv2d_30 (Conv2D)              (None, 64, 64, 32)   18464       dropout_13[0][0]                 \n",
      "__________________________________________________________________________________________________\n",
      "batch_normalization_v2_30 (Batc (None, 64, 64, 32)   128         conv2d_30[0][0]                  \n",
      "__________________________________________________________________________________________________\n",
      "activation_30 (Activation)      (None, 64, 64, 32)   0           batch_normalization_v2_30[0][0]  \n",
      "__________________________________________________________________________________________________\n",
      "conv2d_31 (Conv2D)              (None, 64, 64, 32)   9248        activation_30[0][0]              \n",
      "__________________________________________________________________________________________________\n",
      "conv2d_transpose_6 (Conv2DTrans (None, 128, 128, 16) 4624        conv2d_31[0][0]                  \n",
      "__________________________________________________________________________________________________\n",
      "concatenate_6 (Concatenate)     (None, 128, 128, 32) 0           conv2d_transpose_6[0][0]         \n",
      "                                                                 conv2d_21[0][0]                  \n",
      "__________________________________________________________________________________________________\n",
      "dropout_14 (Dropout)            (None, 128, 128, 32) 0           concatenate_6[0][0]              \n",
      "__________________________________________________________________________________________________\n",
      "conv2d_32 (Conv2D)              (None, 128, 128, 16) 4624        dropout_14[0][0]                 \n",
      "__________________________________________________________________________________________________\n",
      "batch_normalization_v2_32 (Batc (None, 128, 128, 16) 64          conv2d_32[0][0]                  \n",
      "__________________________________________________________________________________________________\n",
      "activation_32 (Activation)      (None, 128, 128, 16) 0           batch_normalization_v2_32[0][0]  \n",
      "__________________________________________________________________________________________________\n",
      "conv2d_33 (Conv2D)              (None, 128, 128, 16) 2320        activation_32[0][0]              \n",
      "__________________________________________________________________________________________________\n",
      "conv2d_transpose_7 (Conv2DTrans (None, 256, 256, 8)  1160        conv2d_33[0][0]                  \n",
      "__________________________________________________________________________________________________\n",
      "concatenate_7 (Concatenate)     (None, 256, 256, 16) 0           conv2d_transpose_7[0][0]         \n",
      "                                                                 conv2d_19[0][0]                  \n",
      "__________________________________________________________________________________________________\n",
      "dropout_15 (Dropout)            (None, 256, 256, 16) 0           concatenate_7[0][0]              \n",
      "__________________________________________________________________________________________________\n",
      "conv2d_34 (Conv2D)              (None, 256, 256, 8)  1160        dropout_15[0][0]                 \n",
      "__________________________________________________________________________________________________\n",
      "batch_normalization_v2_34 (Batc (None, 256, 256, 8)  32          conv2d_34[0][0]                  \n",
      "__________________________________________________________________________________________________\n",
      "activation_34 (Activation)      (None, 256, 256, 8)  0           batch_normalization_v2_34[0][0]  \n",
      "__________________________________________________________________________________________________\n",
      "conv2d_35 (Conv2D)              (None, 256, 256, 8)  584         activation_34[0][0]              \n",
      "__________________________________________________________________________________________________\n",
      "output_layer (Conv2D)           (None, 256, 256, 1)  9           conv2d_35[0][0]                  \n",
      "==================================================================================================\n",
      "Total params: 541,545\n",
      "Trainable params: 540,809\n",
      "Non-trainable params: 736\n",
      "__________________________________________________________________________________________________\n"
     ]
    }
   ],
   "source": [
    "my_model2=get_unet_batch(base_dense,img_w,img_h,img_ch,dropout=True,dr=0.2)"
   ]
  },
  {
   "cell_type": "code",
   "execution_count": 12,
   "metadata": {},
   "outputs": [
    {
     "name": "stdout",
     "output_type": "stream",
     "text": [
      "Train on 6735 samples, validate on 1684 samples\n",
      "Epoch 1/50\n",
      "6735/6735 [==============================] - 35s 5ms/sample - loss: 0.1622 - dice_coef: 0.7628 - val_loss: 0.0646 - val_dice_coef: 0.9190\n",
      "Epoch 2/50\n",
      "6735/6735 [==============================] - 33s 5ms/sample - loss: 0.0329 - dice_coef: 0.9609 - val_loss: 0.0285 - val_dice_coef: 0.9670\n",
      "Epoch 3/50\n",
      "6735/6735 [==============================] - 33s 5ms/sample - loss: 0.0269 - dice_coef: 0.9722 - val_loss: 0.0316 - val_dice_coef: 0.9631\n",
      "Epoch 4/50\n",
      "6735/6735 [==============================] - 34s 5ms/sample - loss: 0.0239 - dice_coef: 0.9759 - val_loss: 0.0483 - val_dice_coef: 0.9279\n",
      "Epoch 5/50\n",
      "6735/6735 [==============================] - 35s 5ms/sample - loss: 0.0210 - dice_coef: 0.9780 - val_loss: 0.0190 - val_dice_coef: 0.9758\n",
      "Epoch 6/50\n",
      "6735/6735 [==============================] - 35s 5ms/sample - loss: 0.0186 - dice_coef: 0.9801 - val_loss: 0.0193 - val_dice_coef: 0.9760\n",
      "Epoch 7/50\n",
      "6735/6735 [==============================] - 35s 5ms/sample - loss: 0.0167 - dice_coef: 0.9816 - val_loss: 0.0140 - val_dice_coef: 0.9843\n",
      "Epoch 8/50\n",
      "6735/6735 [==============================] - 36s 5ms/sample - loss: 0.0153 - dice_coef: 0.9830 - val_loss: 0.0253 - val_dice_coef: 0.9668\n",
      "Epoch 9/50\n",
      "6735/6735 [==============================] - 36s 5ms/sample - loss: 0.0138 - dice_coef: 0.9843 - val_loss: 0.0123 - val_dice_coef: 0.9854\n",
      "Epoch 10/50\n",
      "6735/6735 [==============================] - 36s 5ms/sample - loss: 0.0131 - dice_coef: 0.9853 - val_loss: 0.0168 - val_dice_coef: 0.9806\n",
      "Epoch 11/50\n",
      "6735/6735 [==============================] - 36s 5ms/sample - loss: 0.0124 - dice_coef: 0.9858 - val_loss: 0.0141 - val_dice_coef: 0.9840\n",
      "Epoch 12/50\n",
      "6735/6735 [==============================] - 36s 5ms/sample - loss: 0.0117 - dice_coef: 0.9867 - val_loss: 0.0125 - val_dice_coef: 0.9855\n",
      "Epoch 13/50\n",
      "6735/6735 [==============================] - 36s 5ms/sample - loss: 0.0114 - dice_coef: 0.9869 - val_loss: 0.0130 - val_dice_coef: 0.9849\n",
      "Epoch 14/50\n",
      "6735/6735 [==============================] - 36s 5ms/sample - loss: 0.0112 - dice_coef: 0.9871 - val_loss: 0.0117 - val_dice_coef: 0.9868\n",
      "Epoch 15/50\n",
      "6735/6735 [==============================] - 36s 5ms/sample - loss: 0.0104 - dice_coef: 0.9879 - val_loss: 0.0187 - val_dice_coef: 0.9812\n",
      "Epoch 16/50\n",
      "6735/6735 [==============================] - 36s 5ms/sample - loss: 0.0102 - dice_coef: 0.9881 - val_loss: 0.0109 - val_dice_coef: 0.9881\n",
      "Epoch 17/50\n",
      "6735/6735 [==============================] - 36s 5ms/sample - loss: 0.0106 - dice_coef: 0.9879 - val_loss: 0.0095 - val_dice_coef: 0.9888\n",
      "Epoch 18/50\n",
      "6735/6735 [==============================] - 36s 5ms/sample - loss: 0.0095 - dice_coef: 0.9888 - val_loss: 0.0137 - val_dice_coef: 0.9865\n",
      "Epoch 19/50\n",
      "6735/6735 [==============================] - 35s 5ms/sample - loss: 0.0099 - dice_coef: 0.9886 - val_loss: 0.0091 - val_dice_coef: 0.9894\n",
      "Epoch 20/50\n",
      "6735/6735 [==============================] - 35s 5ms/sample - loss: 0.0097 - dice_coef: 0.9887 - val_loss: 0.0089 - val_dice_coef: 0.9899\n",
      "Epoch 21/50\n",
      "6735/6735 [==============================] - 35s 5ms/sample - loss: 0.0094 - dice_coef: 0.9891 - val_loss: 0.0088 - val_dice_coef: 0.9891\n",
      "Epoch 22/50\n",
      "6735/6735 [==============================] - 36s 5ms/sample - loss: 0.0095 - dice_coef: 0.9890 - val_loss: 0.0083 - val_dice_coef: 0.9901\n",
      "Epoch 23/50\n",
      "6735/6735 [==============================] - 34s 5ms/sample - loss: 0.0090 - dice_coef: 0.9895 - val_loss: 0.0098 - val_dice_coef: 0.9893\n",
      "Epoch 24/50\n",
      "6735/6735 [==============================] - 36s 5ms/sample - loss: 0.0088 - dice_coef: 0.9897 - val_loss: 0.0103 - val_dice_coef: 0.9895\n",
      "Epoch 25/50\n",
      "6735/6735 [==============================] - 34s 5ms/sample - loss: 0.0095 - dice_coef: 0.9890 - val_loss: 0.0081 - val_dice_coef: 0.9906\n",
      "Epoch 26/50\n",
      "6735/6735 [==============================] - 34s 5ms/sample - loss: 0.0087 - dice_coef: 0.9898 - val_loss: 0.0082 - val_dice_coef: 0.9906\n",
      "Epoch 27/50\n",
      "6735/6735 [==============================] - 34s 5ms/sample - loss: 0.0086 - dice_coef: 0.9899 - val_loss: 0.0077 - val_dice_coef: 0.9908\n",
      "Epoch 28/50\n",
      "6735/6735 [==============================] - 34s 5ms/sample - loss: 0.0088 - dice_coef: 0.9897 - val_loss: 0.0098 - val_dice_coef: 0.9892\n",
      "Epoch 29/50\n",
      "6735/6735 [==============================] - 34s 5ms/sample - loss: 0.0083 - dice_coef: 0.9902 - val_loss: 0.0078 - val_dice_coef: 0.9909\n",
      "Epoch 30/50\n",
      "6735/6735 [==============================] - 34s 5ms/sample - loss: 0.0084 - dice_coef: 0.9902 - val_loss: 0.0078 - val_dice_coef: 0.9907\n",
      "Epoch 31/50\n",
      "6735/6735 [==============================] - 34s 5ms/sample - loss: 0.0083 - dice_coef: 0.9902 - val_loss: 0.0078 - val_dice_coef: 0.9909\n",
      "Epoch 32/50\n",
      "6735/6735 [==============================] - 34s 5ms/sample - loss: 0.0079 - dice_coef: 0.9906 - val_loss: 0.0086 - val_dice_coef: 0.9905\n",
      "Epoch 33/50\n",
      "6735/6735 [==============================] - 34s 5ms/sample - loss: 0.0081 - dice_coef: 0.9904 - val_loss: 0.0077 - val_dice_coef: 0.9910\n",
      "Epoch 34/50\n",
      "6735/6735 [==============================] - 35s 5ms/sample - loss: 0.0080 - dice_coef: 0.9905 - val_loss: 0.0077 - val_dice_coef: 0.9910\n",
      "Epoch 35/50\n",
      "6735/6735 [==============================] - 34s 5ms/sample - loss: 0.0080 - dice_coef: 0.9906 - val_loss: 0.0073 - val_dice_coef: 0.9912\n",
      "Epoch 36/50\n",
      "6735/6735 [==============================] - 34s 5ms/sample - loss: 0.0080 - dice_coef: 0.9905 - val_loss: 0.0073 - val_dice_coef: 0.9916\n",
      "Epoch 37/50\n",
      "6735/6735 [==============================] - 35s 5ms/sample - loss: 0.0080 - dice_coef: 0.9908 - val_loss: 0.0077 - val_dice_coef: 0.9912\n",
      "Epoch 38/50\n",
      "6735/6735 [==============================] - 36s 5ms/sample - loss: 0.0077 - dice_coef: 0.9908 - val_loss: 0.0071 - val_dice_coef: 0.9915\n",
      "Epoch 39/50\n",
      "6735/6735 [==============================] - 36s 5ms/sample - loss: 0.0075 - dice_coef: 0.9911 - val_loss: 0.0070 - val_dice_coef: 0.9916\n",
      "Epoch 40/50\n",
      "6735/6735 [==============================] - 36s 5ms/sample - loss: 0.0074 - dice_coef: 0.9911 - val_loss: 0.0081 - val_dice_coef: 0.9906\n",
      "Epoch 41/50\n",
      "6735/6735 [==============================] - 36s 5ms/sample - loss: 0.0078 - dice_coef: 0.9908 - val_loss: 0.0077 - val_dice_coef: 0.9913\n",
      "Epoch 42/50\n",
      "6735/6735 [==============================] - 36s 5ms/sample - loss: 0.0073 - dice_coef: 0.9913 - val_loss: 0.0076 - val_dice_coef: 0.9914\n",
      "Epoch 43/50\n",
      "6735/6735 [==============================] - 36s 5ms/sample - loss: 0.0075 - dice_coef: 0.9911 - val_loss: 0.0069 - val_dice_coef: 0.9917\n",
      "Epoch 44/50\n",
      "6735/6735 [==============================] - 36s 5ms/sample - loss: 0.0074 - dice_coef: 0.9912 - val_loss: 0.0067 - val_dice_coef: 0.9919\n",
      "Epoch 45/50\n",
      "6735/6735 [==============================] - 36s 5ms/sample - loss: 0.0075 - dice_coef: 0.9911 - val_loss: 0.0066 - val_dice_coef: 0.9920\n",
      "Epoch 46/50\n",
      "6735/6735 [==============================] - 36s 5ms/sample - loss: 0.0071 - dice_coef: 0.9915 - val_loss: 0.0067 - val_dice_coef: 0.9920\n",
      "Epoch 47/50\n",
      "6735/6735 [==============================] - 36s 5ms/sample - loss: 0.0071 - dice_coef: 0.9915 - val_loss: 0.0065 - val_dice_coef: 0.9921\n",
      "Epoch 48/50\n",
      "6735/6735 [==============================] - 36s 5ms/sample - loss: 0.0072 - dice_coef: 0.9914 - val_loss: 0.0071 - val_dice_coef: 0.9917\n",
      "Epoch 49/50\n",
      "6735/6735 [==============================] - 36s 5ms/sample - loss: 0.0072 - dice_coef: 0.9915 - val_loss: 0.0072 - val_dice_coef: 0.9920\n",
      "Epoch 50/50\n",
      "6735/6735 [==============================] - 36s 5ms/sample - loss: 0.0070 - dice_coef: 0.9916 - val_loss: 0.0069 - val_dice_coef: 0.9917\n"
     ]
    }
   ],
   "source": [
    "#with dice_coef_loss\n",
    "model_hist=compile_fit(my_model2,loss_function=loss_func_list[1], optimizer=Adam(LR),metrics=[dice_coef],x_train=x_train,y_train=y_train,\n",
    "                       x_test=x_test,y_test=y_test,batch_size=batch_size,n_epochs=50)"
   ]
  },
  {
   "cell_type": "code",
   "execution_count": 13,
   "metadata": {},
   "outputs": [
    {
     "data": {
      "image/png": "[encoded data removed]",
      "text/plain": [
       "<Figure size 288x288 with 1 Axes>"
      ]
     },
     "metadata": {
      "needs_background": "light"
     },
     "output_type": "display_data"
    }
   ],
   "source": [
    "loss_curves_plot(model_hist)"
   ]
  },
  {
   "cell_type": "code",
   "execution_count": 14,
   "metadata": {},
   "outputs": [
    {
     "data": {
      "image/png": "[encoded data removed]",
      "text/plain": [
       "<Figure size 288x288 with 1 Axes>"
      ]
     },
     "metadata": {
      "needs_background": "light"
     },
     "output_type": "display_data"
    }
   ],
   "source": [
    "accuracy_curves_plot(model_hist,'dice_coef')"
   ]
  },
  {
   "cell_type": "markdown",
   "metadata": {},
   "source": [
    "# Task 2b"
   ]
  },
  {
   "cell_type": "code",
   "execution_count": 16,
   "metadata": {},
   "outputs": [],
   "source": [
    "def precision(y_true,y_pred):\n",
    "    y_true_f = K.flatten(y_true)\n",
    "    y_pred_f = K.flatten(y_pred)\n",
    "    intersection = K.sum(y_true_f * y_pred_f)\n",
    "    return (intersection + K.epsilon()) / (K.sum(y_pred_f) + K.epsilon())\n",
    "\n",
    "def recall(y_true,y_pred):\n",
    "    y_true_f = K.flatten(y_true)\n",
    "    y_pred_f = K.flatten(y_pred)\n",
    "    intersection = K.sum(y_true_f * y_pred_f)\n",
    "    return (intersection + K.epsilon()) / (K.sum(y_true_f) + K.epsilon())"
   ]
  },
  {
   "cell_type": "code",
   "execution_count": 18,
   "metadata": {},
   "outputs": [],
   "source": [
    "#data augmentation\n",
    "dictionary_augmentation = dict(\n",
    "                     rotation_range=10,\n",
    "                     width_shift_range=0.1,\n",
    "                     height_shift_range=0.1,\n",
    "                     zoom_range=0.2,       \n",
    "                     horizontal_flip=True)\n",
    "\n"
   ]
  },
  {
   "cell_type": "code",
   "execution_count": 23,
   "metadata": {},
   "outputs": [],
   "source": [
    "train_generator, STEP_SIZE_TRAIN=augmentation(x_train,y_train,dictionary_augmentation,batch_size)"
   ]
  },
  {
   "cell_type": "code",
   "execution_count": 24,
   "metadata": {},
   "outputs": [
    {
     "name": "stdout",
     "output_type": "stream",
     "text": [
      "Model: \"model_2\"\n",
      "__________________________________________________________________________________________________\n",
      "Layer (type)                    Output Shape         Param #     Connected to                     \n",
      "==================================================================================================\n",
      "input_layer (InputLayer)        [(None, 256, 256, 1) 0                                            \n",
      "__________________________________________________________________________________________________\n",
      "conv2d_36 (Conv2D)              (None, 256, 256, 8)  80          input_layer[0][0]                \n",
      "__________________________________________________________________________________________________\n",
      "batch_normalization_v2_36 (Batc (None, 256, 256, 8)  32          conv2d_36[0][0]                  \n",
      "__________________________________________________________________________________________________\n",
      "activation_36 (Activation)      (None, 256, 256, 8)  0           batch_normalization_v2_36[0][0]  \n",
      "__________________________________________________________________________________________________\n",
      "conv2d_37 (Conv2D)              (None, 256, 256, 8)  584         activation_36[0][0]              \n",
      "__________________________________________________________________________________________________\n",
      "max_pooling2d_8 (MaxPooling2D)  (None, 128, 128, 8)  0           conv2d_37[0][0]                  \n",
      "__________________________________________________________________________________________________\n",
      "dropout_16 (Dropout)            (None, 128, 128, 8)  0           max_pooling2d_8[0][0]            \n",
      "__________________________________________________________________________________________________\n",
      "conv2d_38 (Conv2D)              (None, 128, 128, 16) 1168        dropout_16[0][0]                 \n",
      "__________________________________________________________________________________________________\n",
      "batch_normalization_v2_38 (Batc (None, 128, 128, 16) 64          conv2d_38[0][0]                  \n",
      "__________________________________________________________________________________________________\n",
      "activation_38 (Activation)      (None, 128, 128, 16) 0           batch_normalization_v2_38[0][0]  \n",
      "__________________________________________________________________________________________________\n",
      "conv2d_39 (Conv2D)              (None, 128, 128, 16) 2320        activation_38[0][0]              \n",
      "__________________________________________________________________________________________________\n",
      "max_pooling2d_9 (MaxPooling2D)  (None, 64, 64, 16)   0           conv2d_39[0][0]                  \n",
      "__________________________________________________________________________________________________\n",
      "dropout_17 (Dropout)            (None, 64, 64, 16)   0           max_pooling2d_9[0][0]            \n",
      "__________________________________________________________________________________________________\n",
      "conv2d_40 (Conv2D)              (None, 64, 64, 32)   4640        dropout_17[0][0]                 \n",
      "__________________________________________________________________________________________________\n",
      "batch_normalization_v2_40 (Batc (None, 64, 64, 32)   128         conv2d_40[0][0]                  \n",
      "__________________________________________________________________________________________________\n",
      "activation_40 (Activation)      (None, 64, 64, 32)   0           batch_normalization_v2_40[0][0]  \n",
      "__________________________________________________________________________________________________\n",
      "conv2d_41 (Conv2D)              (None, 64, 64, 32)   9248        activation_40[0][0]              \n",
      "__________________________________________________________________________________________________\n",
      "max_pooling2d_10 (MaxPooling2D) (None, 32, 32, 32)   0           conv2d_41[0][0]                  \n",
      "__________________________________________________________________________________________________\n",
      "dropout_18 (Dropout)            (None, 32, 32, 32)   0           max_pooling2d_10[0][0]           \n",
      "__________________________________________________________________________________________________\n",
      "conv2d_42 (Conv2D)              (None, 32, 32, 64)   18496       dropout_18[0][0]                 \n",
      "__________________________________________________________________________________________________\n",
      "batch_normalization_v2_42 (Batc (None, 32, 32, 64)   256         conv2d_42[0][0]                  \n",
      "__________________________________________________________________________________________________\n",
      "activation_42 (Activation)      (None, 32, 32, 64)   0           batch_normalization_v2_42[0][0]  \n",
      "__________________________________________________________________________________________________\n",
      "conv2d_43 (Conv2D)              (None, 32, 32, 64)   36928       activation_42[0][0]              \n",
      "__________________________________________________________________________________________________\n",
      "max_pooling2d_11 (MaxPooling2D) (None, 16, 16, 64)   0           conv2d_43[0][0]                  \n",
      "__________________________________________________________________________________________________\n",
      "dropout_19 (Dropout)            (None, 16, 16, 64)   0           max_pooling2d_11[0][0]           \n",
      "__________________________________________________________________________________________________\n",
      "conv2d_44 (Conv2D)              (None, 16, 16, 128)  73856       dropout_19[0][0]                 \n",
      "__________________________________________________________________________________________________\n",
      "batch_normalization_v2_44 (Batc (None, 16, 16, 128)  512         conv2d_44[0][0]                  \n",
      "__________________________________________________________________________________________________\n",
      "activation_44 (Activation)      (None, 16, 16, 128)  0           batch_normalization_v2_44[0][0]  \n",
      "__________________________________________________________________________________________________\n",
      "conv2d_45 (Conv2D)              (None, 16, 16, 128)  147584      activation_44[0][0]              \n",
      "__________________________________________________________________________________________________\n",
      "conv2d_transpose_8 (Conv2DTrans (None, 32, 32, 64)   73792       conv2d_45[0][0]                  \n",
      "__________________________________________________________________________________________________\n",
      "concatenate_8 (Concatenate)     (None, 32, 32, 128)  0           conv2d_transpose_8[0][0]         \n",
      "                                                                 conv2d_43[0][0]                  \n",
      "__________________________________________________________________________________________________\n",
      "dropout_20 (Dropout)            (None, 32, 32, 128)  0           concatenate_8[0][0]              \n",
      "__________________________________________________________________________________________________\n",
      "conv2d_46 (Conv2D)              (None, 32, 32, 64)   73792       dropout_20[0][0]                 \n",
      "__________________________________________________________________________________________________\n",
      "batch_normalization_v2_46 (Batc (None, 32, 32, 64)   256         conv2d_46[0][0]                  \n",
      "__________________________________________________________________________________________________\n",
      "activation_46 (Activation)      (None, 32, 32, 64)   0           batch_normalization_v2_46[0][0]  \n",
      "__________________________________________________________________________________________________\n",
      "conv2d_47 (Conv2D)              (None, 32, 32, 64)   36928       activation_46[0][0]              \n",
      "__________________________________________________________________________________________________\n",
      "conv2d_transpose_9 (Conv2DTrans (None, 64, 64, 32)   18464       conv2d_47[0][0]                  \n",
      "__________________________________________________________________________________________________\n",
      "concatenate_9 (Concatenate)     (None, 64, 64, 64)   0           conv2d_transpose_9[0][0]         \n",
      "                                                                 conv2d_41[0][0]                  \n",
      "__________________________________________________________________________________________________\n",
      "dropout_21 (Dropout)            (None, 64, 64, 64)   0           concatenate_9[0][0]              \n",
      "__________________________________________________________________________________________________\n",
      "conv2d_48 (Conv2D)              (None, 64, 64, 32)   18464       dropout_21[0][0]                 \n",
      "__________________________________________________________________________________________________\n",
      "batch_normalization_v2_48 (Batc (None, 64, 64, 32)   128         conv2d_48[0][0]                  \n",
      "__________________________________________________________________________________________________\n",
      "activation_48 (Activation)      (None, 64, 64, 32)   0           batch_normalization_v2_48[0][0]  \n",
      "__________________________________________________________________________________________________\n",
      "conv2d_49 (Conv2D)              (None, 64, 64, 32)   9248        activation_48[0][0]              \n",
      "__________________________________________________________________________________________________\n",
      "conv2d_transpose_10 (Conv2DTran (None, 128, 128, 16) 4624        conv2d_49[0][0]                  \n",
      "__________________________________________________________________________________________________\n",
      "concatenate_10 (Concatenate)    (None, 128, 128, 32) 0           conv2d_transpose_10[0][0]        \n",
      "                                                                 conv2d_39[0][0]                  \n",
      "__________________________________________________________________________________________________\n",
      "dropout_22 (Dropout)            (None, 128, 128, 32) 0           concatenate_10[0][0]             \n",
      "__________________________________________________________________________________________________\n",
      "conv2d_50 (Conv2D)              (None, 128, 128, 16) 4624        dropout_22[0][0]                 \n",
      "__________________________________________________________________________________________________\n",
      "batch_normalization_v2_50 (Batc (None, 128, 128, 16) 64          conv2d_50[0][0]                  \n",
      "__________________________________________________________________________________________________\n",
      "activation_50 (Activation)      (None, 128, 128, 16) 0           batch_normalization_v2_50[0][0]  \n",
      "__________________________________________________________________________________________________\n",
      "conv2d_51 (Conv2D)              (None, 128, 128, 16) 2320        activation_50[0][0]              \n",
      "__________________________________________________________________________________________________\n",
      "conv2d_transpose_11 (Conv2DTran (None, 256, 256, 8)  1160        conv2d_51[0][0]                  \n",
      "__________________________________________________________________________________________________\n",
      "concatenate_11 (Concatenate)    (None, 256, 256, 16) 0           conv2d_transpose_11[0][0]        \n",
      "                                                                 conv2d_37[0][0]                  \n",
      "__________________________________________________________________________________________________\n",
      "dropout_23 (Dropout)            (None, 256, 256, 16) 0           concatenate_11[0][0]             \n",
      "__________________________________________________________________________________________________\n",
      "conv2d_52 (Conv2D)              (None, 256, 256, 8)  1160        dropout_23[0][0]                 \n",
      "__________________________________________________________________________________________________\n",
      "batch_normalization_v2_52 (Batc (None, 256, 256, 8)  32          conv2d_52[0][0]                  \n",
      "__________________________________________________________________________________________________\n",
      "activation_52 (Activation)      (None, 256, 256, 8)  0           batch_normalization_v2_52[0][0]  \n",
      "__________________________________________________________________________________________________\n",
      "conv2d_53 (Conv2D)              (None, 256, 256, 8)  584         activation_52[0][0]              \n",
      "__________________________________________________________________________________________________\n",
      "output_layer (Conv2D)           (None, 256, 256, 1)  9           conv2d_53[0][0]                  \n",
      "==================================================================================================\n",
      "Total params: 541,545\n",
      "Trainable params: 540,809\n",
      "Non-trainable params: 736\n",
      "__________________________________________________________________________________________________\n"
     ]
    }
   ],
   "source": [
    "my_model2b=get_unet_batch(base_dense,img_w,img_h,img_ch,dropout=True,dr=0.2)"
   ]
  },
  {
   "cell_type": "code",
   "execution_count": 25,
   "metadata": {},
   "outputs": [
    {
     "name": "stdout",
     "output_type": "stream",
     "text": [
      "Epoch 1/50\n",
      "1683/1683 [==============================] - 87s 52ms/step - loss: 0.0250 - dice_coef: 0.9743 - val_loss: 0.0192 - val_dice_coef: 0.9769\n",
      "Epoch 2/50\n",
      "1683/1683 [==============================] - 78s 46ms/step - loss: 0.0239 - dice_coef: 0.9750 - val_loss: 0.0212 - val_dice_coef: 0.9778\n",
      "Epoch 3/50\n",
      "1683/1683 [==============================] - 78s 46ms/step - loss: 0.0230 - dice_coef: 0.9757 - val_loss: 0.0237 - val_dice_coef: 0.9770\n",
      "Epoch 4/50\n",
      "1683/1683 [==============================] - 78s 46ms/step - loss: 0.0225 - dice_coef: 0.9760 - val_loss: 0.0178 - val_dice_coef: 0.9798\n",
      "Epoch 5/50\n",
      "1683/1683 [==============================] - 78s 46ms/step - loss: 0.0216 - dice_coef: 0.9767 - val_loss: 0.0199 - val_dice_coef: 0.9770\n",
      "Epoch 6/50\n",
      "1683/1683 [==============================] - 78s 46ms/step - loss: 0.0211 - dice_coef: 0.9771 - val_loss: 0.0220 - val_dice_coef: 0.9751\n",
      "Epoch 7/50\n",
      "1683/1683 [==============================] - 78s 46ms/step - loss: 0.0203 - dice_coef: 0.9778 - val_loss: 0.0180 - val_dice_coef: 0.9796\n",
      "Epoch 8/50\n",
      "1683/1683 [==============================] - 78s 46ms/step - loss: 0.0199 - dice_coef: 0.9780 - val_loss: 0.0210 - val_dice_coef: 0.9770\n",
      "Epoch 9/50\n",
      "1683/1683 [==============================] - 78s 46ms/step - loss: 0.0190 - dice_coef: 0.9787 - val_loss: 0.0208 - val_dice_coef: 0.9755\n",
      "Epoch 10/50\n",
      "1683/1683 [==============================] - 79s 47ms/step - loss: 0.0187 - dice_coef: 0.9790 - val_loss: 0.0228 - val_dice_coef: 0.9731\n",
      "Epoch 11/50\n",
      "1683/1683 [==============================] - 78s 47ms/step - loss: 0.0183 - dice_coef: 0.9793 - val_loss: 0.0288 - val_dice_coef: 0.9660\n",
      "Epoch 12/50\n",
      "1683/1683 [==============================] - 78s 46ms/step - loss: 0.0184 - dice_coef: 0.9793 - val_loss: 0.0226 - val_dice_coef: 0.9746\n",
      "Epoch 13/50\n",
      "1683/1683 [==============================] - 78s 46ms/step - loss: 0.0176 - dice_coef: 0.9799 - val_loss: 0.0223 - val_dice_coef: 0.9735\n",
      "Epoch 14/50\n",
      "1683/1683 [==============================] - 78s 46ms/step - loss: 0.0180 - dice_coef: 0.9796 - val_loss: 0.0221 - val_dice_coef: 0.9728\n",
      "Epoch 15/50\n",
      "1683/1683 [==============================] - 78s 46ms/step - loss: 0.0172 - dice_coef: 0.9803 - val_loss: 0.0265 - val_dice_coef: 0.9712\n",
      "Epoch 16/50\n",
      "1683/1683 [==============================] - 78s 46ms/step - loss: 0.0170 - dice_coef: 0.9804 - val_loss: 0.0182 - val_dice_coef: 0.9789\n",
      "Epoch 17/50\n",
      "1683/1683 [==============================] - 78s 46ms/step - loss: 0.0169 - dice_coef: 0.9805 - val_loss: 0.0222 - val_dice_coef: 0.9735\n",
      "Epoch 18/50\n",
      "1683/1683 [==============================] - 78s 46ms/step - loss: 0.0167 - dice_coef: 0.9806 - val_loss: 0.0198 - val_dice_coef: 0.9776\n",
      "Epoch 19/50\n",
      "1683/1683 [==============================] - 78s 46ms/step - loss: 0.0165 - dice_coef: 0.9809 - val_loss: 0.0158 - val_dice_coef: 0.9811\n",
      "Epoch 20/50\n",
      "1683/1683 [==============================] - 78s 46ms/step - loss: 0.0163 - dice_coef: 0.9811 - val_loss: 0.0287 - val_dice_coef: 0.9677\n",
      "Epoch 21/50\n",
      "1683/1683 [==============================] - 78s 46ms/step - loss: 0.0159 - dice_coef: 0.9814 - val_loss: 0.0196 - val_dice_coef: 0.9771\n",
      "Epoch 22/50\n",
      "1683/1683 [==============================] - 78s 46ms/step - loss: 0.0160 - dice_coef: 0.9814 - val_loss: 0.0174 - val_dice_coef: 0.9801\n",
      "Epoch 23/50\n",
      "1683/1683 [==============================] - 78s 46ms/step - loss: 0.0156 - dice_coef: 0.9818 - val_loss: 0.0162 - val_dice_coef: 0.9833\n",
      "Epoch 24/50\n",
      "1683/1683 [==============================] - 78s 46ms/step - loss: 0.0159 - dice_coef: 0.9815 - val_loss: 0.0153 - val_dice_coef: 0.9823\n",
      "Epoch 25/50\n",
      "1683/1683 [==============================] - 78s 46ms/step - loss: 0.0156 - dice_coef: 0.9817 - val_loss: 0.0132 - val_dice_coef: 0.9845\n",
      "Epoch 26/50\n",
      "1683/1683 [==============================] - 78s 46ms/step - loss: 0.0156 - dice_coef: 0.9818 - val_loss: 0.0171 - val_dice_coef: 0.9795\n",
      "Epoch 27/50\n",
      "1683/1683 [==============================] - 78s 46ms/step - loss: 0.0154 - dice_coef: 0.9820 - val_loss: 0.0144 - val_dice_coef: 0.9821\n",
      "Epoch 28/50\n",
      "1683/1683 [==============================] - 78s 46ms/step - loss: 0.0152 - dice_coef: 0.9821 - val_loss: 0.0179 - val_dice_coef: 0.9780\n",
      "Epoch 29/50\n",
      "1683/1683 [==============================] - 83s 50ms/step - loss: 0.0151 - dice_coef: 0.9822 - val_loss: 0.0215 - val_dice_coef: 0.9765\n",
      "Epoch 31/50\n",
      "1683/1683 [==============================] - 84s 50ms/step - loss: 0.0151 - dice_coef: 0.9822 - val_loss: 0.0163 - val_dice_coef: 0.9799\n",
      "Epoch 32/50\n",
      "1683/1683 [==============================] - 78s 47ms/step - loss: 0.0148 - dice_coef: 0.9825 - val_loss: 0.0287 - val_dice_coef: 0.9701\n",
      "Epoch 33/50\n",
      "1683/1683 [==============================] - 78s 46ms/step - loss: 0.0148 - dice_coef: 0.9824 - val_loss: 0.0190 - val_dice_coef: 0.9776\n",
      "Epoch 34/50\n",
      "1683/1683 [==============================] - 79s 47ms/step - loss: 0.0150 - dice_coef: 0.9823 - val_loss: 0.0166 - val_dice_coef: 0.9819\n",
      "Epoch 35/50\n",
      "1683/1683 [==============================] - 78s 47ms/step - loss: 0.0153 - dice_coef: 0.9820 - val_loss: 0.0129 - val_dice_coef: 0.9835\n",
      "Epoch 36/50\n",
      "1683/1683 [==============================] - 79s 47ms/step - loss: 0.0146 - dice_coef: 0.9827 - val_loss: 0.0156 - val_dice_coef: 0.9824\n",
      "Epoch 37/50\n",
      "1683/1683 [==============================] - 79s 47ms/step - loss: 0.0148 - dice_coef: 0.9824 - val_loss: 0.0177 - val_dice_coef: 0.9799\n",
      "Epoch 38/50\n",
      "1683/1683 [==============================] - 79s 47ms/step - loss: 0.0144 - dice_coef: 0.9828 - val_loss: 0.0172 - val_dice_coef: 0.9818\n",
      "Epoch 39/50\n",
      "1683/1683 [==============================] - 78s 46ms/step - loss: 0.0147 - dice_coef: 0.9826 - val_loss: 0.0175 - val_dice_coef: 0.9801\n",
      "Epoch 40/50\n",
      "1683/1683 [==============================] - 79s 47ms/step - loss: 0.0146 - dice_coef: 0.9827 - val_loss: 0.0234 - val_dice_coef: 0.9763\n",
      "Epoch 41/50\n",
      "1683/1683 [==============================] - 79s 47ms/step - loss: 0.0146 - dice_coef: 0.9827 - val_loss: 0.0127 - val_dice_coef: 0.9835\n",
      "Epoch 42/50\n",
      "1683/1683 [==============================] - 78s 46ms/step - loss: 0.0145 - dice_coef: 0.9828 - val_loss: 0.0188 - val_dice_coef: 0.9778\n",
      "Epoch 43/50\n",
      "1683/1683 [==============================] - 78s 47ms/step - loss: 0.0142 - dice_coef: 0.9831 - val_loss: 0.0156 - val_dice_coef: 0.9826\n",
      "Epoch 44/50\n",
      "1683/1683 [==============================] - 82s 49ms/step - loss: 0.0143 - dice_coef: 0.9830 - val_loss: 0.0174 - val_dice_coef: 0.9816\n",
      "Epoch 45/50\n",
      "1683/1683 [==============================] - 78s 46ms/step - loss: 0.0143 - dice_coef: 0.9830 - val_loss: 0.0163 - val_dice_coef: 0.9821\n",
      "Epoch 46/50\n",
      "1683/1683 [==============================] - 78s 46ms/step - loss: 0.0144 - dice_coef: 0.9829 - val_loss: 0.0179 - val_dice_coef: 0.9797\n",
      "Epoch 47/50\n",
      "1683/1683 [==============================] - 78s 46ms/step - loss: 0.0144 - dice_coef: 0.9829 - val_loss: 0.0170 - val_dice_coef: 0.9796\n",
      "Epoch 48/50\n",
      "1683/1683 [==============================] - 79s 47ms/step - loss: 0.0140 - dice_coef: 0.9832 - val_loss: 0.0153 - val_dice_coef: 0.9826\n",
      "Epoch 49/50\n",
      "1683/1683 [==============================] - 81s 48ms/step - loss: 0.0142 - dice_coef: 0.9831 - val_loss: 0.0124 - val_dice_coef: 0.9845\n",
      "Epoch 50/50\n",
      "1683/1683 [==============================] - 79s 47ms/step - loss: 0.0141 - dice_coef: 0.9831 - val_loss: 0.0117 - val_dice_coef: 0.9845\n"
     ]
    }
   ],
   "source": [
    "model_hist=compile_fit_generator(my_model2,train_generator,x_test,y_test,loss_func_list[1], optimizer=Adam(LR),metrics=dice_coef,batch_size=batch_size,n_epochs=50,STEP_SIZE_TRAIN=STEP_SIZE_TRAIN)"
   ]
  },
  {
   "cell_type": "code",
   "execution_count": 26,
   "metadata": {},
   "outputs": [
    {
     "data": {
      "image/png": "[encoded data removed]",
      "text/plain": [
       "<Figure size 288x288 with 1 Axes>"
      ]
     },
     "metadata": {
      "needs_background": "light"
     },
     "output_type": "display_data"
    }
   ],
   "source": [
    "loss_curves_plot(model_hist)"
   ]
  },
  {
   "cell_type": "code",
   "execution_count": 27,
   "metadata": {},
   "outputs": [
    {
     "data": {
      "image/png": "[encoded data removed]",
      "text/plain": [
       "<Figure size 288x288 with 1 Axes>"
      ]
     },
     "metadata": {
      "needs_background": "light"
     },
     "output_type": "display_data"
    }
   ],
   "source": [
    "accuracy_curves_plot(model_hist,'dice_coef')"
   ]
  },
  {
   "cell_type": "markdown",
   "metadata": {},
   "source": [
    "Precision without augmentation : "
   ]
  },
  {
   "cell_type": "code",
   "execution_count": null,
   "metadata": {},
   "outputs": [],
   "source": []
  }
 ],
 "metadata": {
  "kernelspec": {
   "display_name": "Python 3",
   "language": "python",
   "name": "python3"
  },
  "language_info": {
   "codemirror_mode": {
    "name": "ipython",
    "version": 3
   },
   "file_extension": ".py",
   "mimetype": "text/x-python",
   "name": "python",
   "nbconvert_exporter": "python",
   "pygments_lexer": "ipython3",
   "version": "3.5.2"
  }
 },
 "nbformat": 4,
 "nbformat_minor": 2
}
