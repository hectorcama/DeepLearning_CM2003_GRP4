{
 "cells": [
  {
   "cell_type": "code",
   "execution_count": 1,
   "metadata": {},
   "outputs": [],
   "source": [
    "import numpy as np\n",
    "import matplotlib.pyplot as plt\n",
    "\n",
    "# Logic operator with Tensorflow Keras\n",
    "import numpy as np\n",
    "from tensorflow.keras.models import Sequential\n",
    "from tensorflow.keras.layers import Dense\n",
    "from tensorflow.keras.optimizers import SGD\n"
   ]
  },
  {
   "cell_type": "code",
   "execution_count": 2,
   "metadata": {},
   "outputs": [],
   "source": [
    "# Sigmoid function\n",
    "def sigmoid(x):\n",
    "     return 1.0/(1+ np.exp(-x))\n",
    "    \n",
    "# derivative of Sigmoid function for backprop.\n",
    "def sigmoid_derivative(x):\n",
    "     return x * (1.0 - x)\n",
    "    \n",
    "    \n",
    "class NeuralNetwork:\n",
    "    def __init__(self, x, y, N):\n",
    "            self.input = x\n",
    "            self.neuron = N\n",
    "            self.weights1 = np.random.rand(self.input.shape[1], self.neuron) # X dimension input connected to N neurons\n",
    "            self.weights2 = np.random.rand(self.neuron, 1) # N neurons connected to output\n",
    "            self.y = y\n",
    "            self.output = np.zeros(self.y.shape) # instantiating the output\n",
    "    def feedforward(self):\n",
    "            self.layer1 = sigmoid(np.dot(self.input, self.weights1))\n",
    "            self.output = sigmoid(np.dot(self.layer1, self.weights2))\n",
    "    def backprop(self):\n",
    "     # Chain rule to calculate derivative of the loss function with respect to weights2 and weights1\n",
    "            d_weights2 = np.dot(self.layer1.T,(2*(self.y - self.output)* sigmoid_derivative(self.output)))\n",
    "            d_weights1 = np.dot(self.input.T,(np.dot(2*(self.y - self.output)* sigmoid_derivative(self.output),self.weights2.T) * sigmoid_derivative(self.layer1)))\n",
    "             # weights updating\n",
    "            self.weights1 += d_weights1\n",
    "            self.weights2 += d_weights2\n",
    "            \n",
    "            \n"
   ]
  },
  {
   "cell_type": "markdown",
   "metadata": {},
   "source": [
    "Task1\n"
   ]
  },
  {
   "cell_type": "code",
   "execution_count": 3,
   "metadata": {},
   "outputs": [
    {
     "name": "stdout",
     "output_type": "stream",
     "text": [
      "The target values are: [[0]\n",
      " [0]\n",
      " [0]\n",
      " [1]]\n",
      "The predicted values are: [[4.82859603e-04]\n",
      " [1.85631056e-02]\n",
      " [1.85631056e-02]\n",
      " [4.98088060e-01]]\n"
     ]
    },
    {
     "data": {
      "image/png": "[encoded data removed]",
      "text/plain": [
       "<Figure size 432x288 with 1 Axes>"
      ]
     },
     "metadata": {
      "needs_background": "light"
     },
     "output_type": "display_data"
    }
   ],
   "source": [
    "iterations = 2000\n",
    "n_unit = 1\n",
    "if __name__ == \"__main__\":\n",
    "\n",
    "    Input= np.array([[0,0,1],[0,1,1],[1,0,1],[1,1,1]])\n",
    "\n",
    "    Target = np.array([[0],[0],[0],[1]])\n",
    "\n",
    "    model = NeuralNetwork(Input, Target, n_unit)\n",
    "\n",
    "    SSD = []\n",
    "    for i in range(iterations):\n",
    "        model.feedforward()\n",
    "        model.backprop()\n",
    "        errors = (Target - model.output)**2\n",
    "        SSD.append(np.sum(errors)) # Objective(loss) function\n",
    "\n",
    "    Itr = np.linspace(1,len(SSD),len(SSD))\n",
    "    plt.plot(Itr, SSD)\n",
    "    plt.xlabel('Iterations')\n",
    "    plt.ylabel('SSD')\n",
    "    print(\"The target values are:\", Target)\n",
    "    print(\"The predicted values are:\", model.output)"
   ]
  },
  {
   "cell_type": "markdown",
   "metadata": {},
   "source": [
    "Task2"
   ]
  },
  {
   "cell_type": "code",
   "execution_count": 4,
   "metadata": {},
   "outputs": [
    {
     "name": "stdout",
     "output_type": "stream",
     "text": [
      "The target values are: [[0]\n",
      " [1]\n",
      " [1]\n",
      " [0]]\n",
      "The predicted values are: [[0.01954945]\n",
      " [0.98007252]\n",
      " [0.49932707]\n",
      " [0.50082452]]\n"
     ]
    },
    {
     "data": {
      "image/png": "[encoded data removed]",
      "text/plain": [
       "<Figure size 432x288 with 1 Axes>"
      ]
     },
     "metadata": {
      "needs_background": "light"
     },
     "output_type": "display_data"
    }
   ],
   "source": [
    "iterations = 2000\n",
    "n_unit = 2\n",
    "if __name__ == \"__main__\":\n",
    "\n",
    "    Input= np.array([[0,0,1],[0,1,1],[1,0,1],[1,1,1]])\n",
    "\n",
    "    Target = np.array([[0],[1],[1],[0]])\n",
    "\n",
    "    model = NeuralNetwork(Input, Target, n_unit)\n",
    "\n",
    "    SSD = []\n",
    "    for i in range(iterations):\n",
    "        model.feedforward()\n",
    "        model.backprop()\n",
    "        errors = (Target - model.output)**2\n",
    "        SSD.append(np.sum(errors)) # Objective(loss) function\n",
    "\n",
    "    Itr = np.linspace(1,len(SSD),len(SSD))\n",
    "    plt.plot(Itr, SSD)\n",
    "    plt.xlabel('Iterations')\n",
    "    plt.ylabel('SSD')\n",
    "    print(\"The target values are:\", Target)\n",
    "    print(\"The predicted values are:\", model.output)"
   ]
  },
  {
   "cell_type": "markdown",
   "metadata": {},
   "source": [
    "Task3"
   ]
  },
  {
   "cell_type": "code",
   "execution_count": 5,
   "metadata": {},
   "outputs": [
    {
     "name": "stdout",
     "output_type": "stream",
     "text": [
      "The predicted class labels are: [[0.13733229]\n",
      " [0.9148805 ]\n",
      " [0.90431225]\n",
      " [0.08339447]]\n"
     ]
    }
   ],
   "source": [
    "Input = np.array([[0,0],[0,1],[1,0],[1,1]], \"float32\")\n",
    "Target = np.array([[0],[1],[1],[0]], \"float32\")\n",
    "n_unit = 10\n",
    "model = Sequential()\n",
    "model.add(Dense(n_unit, input_dim=2, activation='relu'))\n",
    "model.add(Dense(1, activation='sigmoid'))\n",
    "model.compile(loss='mean_squared_error',\n",
    " optimizer = SGD(lr = 0.01),\n",
    " metrics=['binary_accuracy'])\n",
    "model.fit(Input, Target, epochs = 10000, verbose=0)\n",
    "print(\"The predicted class labels are:\", model.predict(Input))"
   ]
  },
  {
   "cell_type": "code",
   "execution_count": null,
   "metadata": {},
   "outputs": [],
   "source": []
  }
 ],
 "metadata": {
  "kernelspec": {
   "display_name": "Python 3",
   "language": "python",
   "name": "python3"
  },
  "language_info": {
   "codemirror_mode": {
    "name": "ipython",
    "version": 3
   },
   "file_extension": ".py",
   "mimetype": "text/x-python",
   "name": "python",
   "nbconvert_exporter": "python",
   "pygments_lexer": "ipython3",
   "version": "3.5.2"
  }
 },
 "nbformat": 4,
 "nbformat_minor": 2
}
