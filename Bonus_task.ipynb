{
 "cells": [
  {
   "cell_type": "code",
   "execution_count": 1,
   "metadata": {},
   "outputs": [],
   "source": [
    "from Functions_Lab6 import*"
   ]
  },
  {
   "cell_type": "code",
   "execution_count": 2,
   "metadata": {},
   "outputs": [],
   "source": [
    "dataPath = '../DL_course_data/Lab5/HCP_lab/'\n",
    "train_subjects_list = ['599469', '599671', '601127'] # your choice of 3 training subjects\n",
    "val_subjects_list = ['613538']# your choice of 1 validation subjects \n",
    "bundles_list = ['CST_left', 'CST_right']\n",
    "n_tracts_per_bundle = 20\n",
    "X_train, y_train = load_streamlines(dataPath, train_subjects_list, bundles_list, n_tracts_per_bundle)\n",
    "X_val, y_val = load_streamlines(dataPath, val_subjects_list, bundles_list, n_tracts_per_bundle)"
   ]
  },
  {
   "cell_type": "code",
   "execution_count": 3,
   "metadata": {},
   "outputs": [],
   "source": [
    "len_max_train=search_len_max(X_train)\n",
    "len_max_val=search_len_max(X_val)\n",
    "len_max=max(len_max_train,len_max_val)"
   ]
  },
  {
   "cell_type": "code",
   "execution_count": 4,
   "metadata": {},
   "outputs": [],
   "source": [
    "X_train=pad_sequences(X_train,maxlen=len_max)\n",
    "X_val=pad_sequences(X_val,maxlen=len_max)"
   ]
  },
  {
   "cell_type": "code",
   "execution_count": 7,
   "metadata": {},
   "outputs": [],
   "source": [
    "def model_class_padded(units,dr,batch_size,len_max):\n",
    "    model = Sequential()\n",
    "    model.add(Bidirectional(LSTM(units, return_sequences=True,stateful=True), batch_input_shape=(batch_size,len_max,3)))\n",
    "    model.add(Dropout(dr))\n",
    "    \n",
    "    model.add(LSTM(units,return_sequences=True,stateful=True))\n",
    "    model.add(Dropout(dr))\n",
    "    \n",
    "    model.add(LSTM(units,return_sequences=True,stateful=True))\n",
    "    model.add(Dropout(dr))\n",
    "    \n",
    "    model.add(LSTM(units,stateful=True))\n",
    "    model.add(Dropout(dr))\n",
    "    \n",
    "    model.add(Dense(1,activation='sigmoid'))\n",
    "    \n",
    "    #model.summary()\n",
    "    return model"
   ]
  },
  {
   "cell_type": "code",
   "execution_count": 8,
   "metadata": {},
   "outputs": [
    {
     "name": "stderr",
     "output_type": "stream",
     "text": [
      "W1006 12:19:18.266762 139650123003648 tf_logging.py:161] <tensorflow.python.keras.layers.recurrent.UnifiedLSTM object at 0x7f01b01d9ac8>: Note that this layer is not optimized for performance. Please use tf.keras.layers.CuDNNLSTM for better performance on GPU.\n",
      "W1006 12:19:18.269528 139650123003648 tf_logging.py:161] <tensorflow.python.keras.layers.recurrent.UnifiedLSTM object at 0x7f01b00cf278>: Note that this layer is not optimized for performance. Please use tf.keras.layers.CuDNNLSTM for better performance on GPU.\n",
      "W1006 12:19:18.408455 139650123003648 tf_logging.py:161] <tensorflow.python.keras.layers.recurrent.UnifiedLSTM object at 0x7f01b00cfb00>: Note that this layer is not optimized for performance. Please use tf.keras.layers.CuDNNLSTM for better performance on GPU.\n",
      "W1006 12:19:18.559269 139650123003648 tf_logging.py:161] <tensorflow.python.keras.layers.recurrent.UnifiedLSTM object at 0x7f01b020b908>: Note that this layer is not optimized for performance. Please use tf.keras.layers.CuDNNLSTM for better performance on GPU.\n",
      "W1006 12:19:18.628581 139650123003648 tf_logging.py:161] <tensorflow.python.keras.layers.recurrent.UnifiedLSTM object at 0x7f016057fda0>: Note that this layer is not optimized for performance. Please use tf.keras.layers.CuDNNLSTM for better performance on GPU.\n"
     ]
    },
    {
     "name": "stdout",
     "output_type": "stream",
     "text": [
      "Model: \"sequential_2\"\n",
      "_________________________________________________________________\n",
      "Layer (type)                 Output Shape              Param #   \n",
      "=================================================================\n",
      "bidirectional_1 (Bidirection (8, 37, 20)               1120      \n",
      "_________________________________________________________________\n",
      "dropout_4 (Dropout)          (8, 37, 20)               0         \n",
      "_________________________________________________________________\n",
      "unified_lstm_6 (UnifiedLSTM) (8, 37, 10)               1240      \n",
      "_________________________________________________________________\n",
      "dropout_5 (Dropout)          (8, 37, 10)               0         \n",
      "_________________________________________________________________\n",
      "unified_lstm_7 (UnifiedLSTM) (8, 37, 10)               840       \n",
      "_________________________________________________________________\n",
      "dropout_6 (Dropout)          (8, 37, 10)               0         \n",
      "_________________________________________________________________\n",
      "unified_lstm_8 (UnifiedLSTM) (8, 10)                   840       \n",
      "_________________________________________________________________\n",
      "dropout_7 (Dropout)          (8, 10)                   0         \n",
      "_________________________________________________________________\n",
      "dense_1 (Dense)              (8, 1)                    11        \n",
      "=================================================================\n",
      "Total params: 4,051\n",
      "Trainable params: 4,051\n",
      "Non-trainable params: 0\n",
      "_________________________________________________________________\n",
      "Epoch 1/50\n",
      "15/15 [==============================] - 3s 222ms/step - loss: 0.6021 - binary_accuracy: 0.9000 - val_loss: 0.4982 - val_binary_accuracy: 1.0000\n",
      "Epoch 2/50\n",
      "15/15 [==============================] - 1s 71ms/step - loss: 0.3989 - binary_accuracy: 1.0000 - val_loss: 0.2622 - val_binary_accuracy: 1.0000\n",
      "Epoch 3/50\n",
      "15/15 [==============================] - 1s 71ms/step - loss: 0.1880 - binary_accuracy: 1.0000 - val_loss: 0.1299 - val_binary_accuracy: 1.0000\n",
      "Epoch 4/50\n",
      "15/15 [==============================] - 1s 66ms/step - loss: 0.1238 - binary_accuracy: 1.0000 - val_loss: 0.0857 - val_binary_accuracy: 1.0000\n",
      "Epoch 5/50\n",
      "15/15 [==============================] - 1s 68ms/step - loss: 0.0829 - binary_accuracy: 1.0000 - val_loss: 0.0625 - val_binary_accuracy: 1.0000\n",
      "Epoch 6/50\n",
      "15/15 [==============================] - 1s 68ms/step - loss: 0.0631 - binary_accuracy: 1.0000 - val_loss: 0.0481 - val_binary_accuracy: 1.0000\n",
      "Epoch 7/50\n",
      "15/15 [==============================] - 1s 68ms/step - loss: 0.0543 - binary_accuracy: 1.0000 - val_loss: 0.0383 - val_binary_accuracy: 1.0000\n",
      "Epoch 8/50\n",
      "15/15 [==============================] - 1s 68ms/step - loss: 0.0408 - binary_accuracy: 1.0000 - val_loss: 0.0317 - val_binary_accuracy: 1.0000\n",
      "Epoch 9/50\n",
      "15/15 [==============================] - 1s 67ms/step - loss: 0.0349 - binary_accuracy: 1.0000 - val_loss: 0.0271 - val_binary_accuracy: 1.0000\n",
      "Epoch 10/50\n",
      "15/15 [==============================] - 1s 70ms/step - loss: 0.0365 - binary_accuracy: 1.0000 - val_loss: 0.0234 - val_binary_accuracy: 1.0000\n",
      "Epoch 11/50\n",
      "15/15 [==============================] - 1s 70ms/step - loss: 0.0253 - binary_accuracy: 1.0000 - val_loss: 0.0207 - val_binary_accuracy: 1.0000\n",
      "Epoch 12/50\n",
      "15/15 [==============================] - 1s 68ms/step - loss: 0.0243 - binary_accuracy: 1.0000 - val_loss: 0.0185 - val_binary_accuracy: 1.0000\n",
      "Epoch 13/50\n",
      "15/15 [==============================] - 1s 67ms/step - loss: 0.0248 - binary_accuracy: 1.0000 - val_loss: 0.0167 - val_binary_accuracy: 1.0000\n",
      "Epoch 14/50\n",
      "15/15 [==============================] - 1s 71ms/step - loss: 0.0180 - binary_accuracy: 1.0000 - val_loss: 0.0153 - val_binary_accuracy: 1.0000\n",
      "Epoch 15/50\n",
      "15/15 [==============================] - 1s 65ms/step - loss: 0.0200 - binary_accuracy: 1.0000 - val_loss: 0.0141 - val_binary_accuracy: 1.0000\n",
      "Epoch 16/50\n",
      "15/15 [==============================] - 1s 71ms/step - loss: 0.0164 - binary_accuracy: 1.0000 - val_loss: 0.0130 - val_binary_accuracy: 1.0000\n",
      "Epoch 17/50\n",
      "15/15 [==============================] - 1s 72ms/step - loss: 0.0178 - binary_accuracy: 1.0000 - val_loss: 0.0120 - val_binary_accuracy: 1.0000\n",
      "Epoch 18/50\n",
      "15/15 [==============================] - 1s 69ms/step - loss: 0.0170 - binary_accuracy: 1.0000 - val_loss: 0.0112 - val_binary_accuracy: 1.0000\n",
      "Epoch 19/50\n",
      "15/15 [==============================] - 1s 71ms/step - loss: 0.0138 - binary_accuracy: 1.0000 - val_loss: 0.0104 - val_binary_accuracy: 1.0000\n",
      "Epoch 20/50\n",
      "15/15 [==============================] - 1s 66ms/step - loss: 0.0159 - binary_accuracy: 1.0000 - val_loss: 0.0097 - val_binary_accuracy: 1.0000\n",
      "Epoch 21/50\n",
      "15/15 [==============================] - 1s 68ms/step - loss: 0.0129 - binary_accuracy: 1.0000 - val_loss: 0.0091 - val_binary_accuracy: 1.0000\n",
      "Epoch 22/50\n",
      "15/15 [==============================] - 1s 69ms/step - loss: 0.0121 - binary_accuracy: 1.0000 - val_loss: 0.0086 - val_binary_accuracy: 1.0000\n",
      "Epoch 23/50\n",
      "15/15 [==============================] - 1s 69ms/step - loss: 0.0124 - binary_accuracy: 1.0000 - val_loss: 0.0081 - val_binary_accuracy: 1.0000\n",
      "Epoch 24/50\n",
      "15/15 [==============================] - 1s 67ms/step - loss: 0.0129 - binary_accuracy: 1.0000 - val_loss: 0.0077 - val_binary_accuracy: 1.0000\n",
      "Epoch 25/50\n",
      "15/15 [==============================] - 1s 65ms/step - loss: 0.0118 - binary_accuracy: 1.0000 - val_loss: 0.0072 - val_binary_accuracy: 1.0000\n",
      "Epoch 26/50\n",
      "15/15 [==============================] - 1s 66ms/step - loss: 0.0101 - binary_accuracy: 1.0000 - val_loss: 0.0069 - val_binary_accuracy: 1.0000\n",
      "Epoch 27/50\n",
      "15/15 [==============================] - 1s 71ms/step - loss: 0.0105 - binary_accuracy: 1.0000 - val_loss: 0.0065 - val_binary_accuracy: 1.0000\n",
      "Epoch 28/50\n",
      "15/15 [==============================] - 1s 68ms/step - loss: 0.0100 - binary_accuracy: 1.0000 - val_loss: 0.0062 - val_binary_accuracy: 1.0000\n",
      "Epoch 29/50\n",
      "15/15 [==============================] - 1s 69ms/step - loss: 0.0082 - binary_accuracy: 1.0000 - val_loss: 0.0059 - val_binary_accuracy: 1.0000\n",
      "Epoch 30/50\n",
      "15/15 [==============================] - 1s 69ms/step - loss: 0.0096 - binary_accuracy: 1.0000 - val_loss: 0.0057 - val_binary_accuracy: 1.0000\n",
      "Epoch 31/50\n",
      "15/15 [==============================] - 1s 72ms/step - loss: 0.0078 - binary_accuracy: 1.0000 - val_loss: 0.0054 - val_binary_accuracy: 1.0000\n",
      "Epoch 32/50\n",
      "15/15 [==============================] - 1s 74ms/step - loss: 0.0071 - binary_accuracy: 1.0000 - val_loss: 0.0052 - val_binary_accuracy: 1.0000\n",
      "Epoch 33/50\n",
      "15/15 [==============================] - 1s 74ms/step - loss: 0.0083 - binary_accuracy: 1.0000 - val_loss: 0.0050 - val_binary_accuracy: 1.0000\n",
      "Epoch 34/50\n",
      "15/15 [==============================] - 1s 67ms/step - loss: 0.0076 - binary_accuracy: 1.0000 - val_loss: 0.0048 - val_binary_accuracy: 1.0000\n",
      "Epoch 35/50\n",
      "15/15 [==============================] - 1s 68ms/step - loss: 0.0079 - binary_accuracy: 1.0000 - val_loss: 0.0046 - val_binary_accuracy: 1.0000\n",
      "Epoch 36/50\n",
      "15/15 [==============================] - 1s 69ms/step - loss: 0.0069 - binary_accuracy: 1.0000 - val_loss: 0.0044 - val_binary_accuracy: 1.0000\n",
      "Epoch 37/50\n",
      "15/15 [==============================] - 1s 76ms/step - loss: 0.0076 - binary_accuracy: 1.0000 - val_loss: 0.0042 - val_binary_accuracy: 1.0000\n",
      "Epoch 38/50\n",
      "15/15 [==============================] - 1s 72ms/step - loss: 0.0055 - binary_accuracy: 1.0000 - val_loss: 0.0041 - val_binary_accuracy: 1.0000\n",
      "Epoch 39/50\n",
      "15/15 [==============================] - 1s 71ms/step - loss: 0.0054 - binary_accuracy: 1.0000 - val_loss: 0.0040 - val_binary_accuracy: 1.0000\n",
      "Epoch 40/50\n",
      "15/15 [==============================] - 1s 71ms/step - loss: 0.0073 - binary_accuracy: 1.0000 - val_loss: 0.0038 - val_binary_accuracy: 1.0000\n",
      "Epoch 41/50\n",
      "15/15 [==============================] - 1s 69ms/step - loss: 0.0062 - binary_accuracy: 1.0000 - val_loss: 0.0037 - val_binary_accuracy: 1.0000\n",
      "Epoch 42/50\n",
      "15/15 [==============================] - 1s 70ms/step - loss: 0.0067 - binary_accuracy: 1.0000 - val_loss: 0.0035 - val_binary_accuracy: 1.0000\n",
      "Epoch 43/50\n",
      "15/15 [==============================] - 1s 72ms/step - loss: 0.0049 - binary_accuracy: 1.0000 - val_loss: 0.0034 - val_binary_accuracy: 1.0000\n"
     ]
    },
    {
     "name": "stdout",
     "output_type": "stream",
     "text": [
      "Epoch 44/50\n",
      "15/15 [==============================] - 1s 69ms/step - loss: 0.0057 - binary_accuracy: 1.0000 - val_loss: 0.0033 - val_binary_accuracy: 1.0000\n",
      "Epoch 45/50\n",
      "15/15 [==============================] - 1s 65ms/step - loss: 0.0053 - binary_accuracy: 1.0000 - val_loss: 0.0032 - val_binary_accuracy: 1.0000\n",
      "Epoch 46/50\n",
      "15/15 [==============================] - 1s 71ms/step - loss: 0.0053 - binary_accuracy: 1.0000 - val_loss: 0.0031 - val_binary_accuracy: 1.0000\n",
      "Epoch 47/50\n",
      "15/15 [==============================] - 1s 73ms/step - loss: 0.0054 - binary_accuracy: 1.0000 - val_loss: 0.0030 - val_binary_accuracy: 1.0000\n",
      "Epoch 48/50\n",
      "15/15 [==============================] - 1s 68ms/step - loss: 0.0048 - binary_accuracy: 1.0000 - val_loss: 0.0029 - val_binary_accuracy: 1.0000\n",
      "Epoch 49/50\n",
      "15/15 [==============================] - 1s 67ms/step - loss: 0.0050 - binary_accuracy: 1.0000 - val_loss: 0.0028 - val_binary_accuracy: 1.0000\n",
      "Epoch 50/50\n",
      "15/15 [==============================] - 1s 67ms/step - loss: 0.0043 - binary_accuracy: 1.0000 - val_loss: 0.0027 - val_binary_accuracy: 1.0000\n"
     ]
    }
   ],
   "source": [
    "units = 10\n",
    "dr = 0.2\n",
    "lr=0.001\n",
    "n_epochs=50\n",
    "optimizer = Adam(lr)\n",
    "\n",
    "model = model_class_padded(units,dr,batch_size=8,len_max=len_max)\n",
    "model.summary()\n",
    "model.compile(loss='binary_crossentropy',optimizer=optimizer,metrics=['binary_accuracy'])\n",
    "model_fit = model.fit_generator(MyBatchGenerator(X_train, y_train, batch_size=8), epochs=n_epochs, validation_data=MyBatchGenerator(X_val, y_val, batch_size=8), validation_steps=len(X_val))\n"
   ]
  },
  {
   "cell_type": "code",
   "execution_count": 9,
   "metadata": {},
   "outputs": [
    {
     "data": {
      "image/png": "[encoded data removed]",
      "text/plain": [
       "<Figure size 288x288 with 1 Axes>"
      ]
     },
     "metadata": {
      "needs_background": "light"
     },
     "output_type": "display_data"
    }
   ],
   "source": [
    "loss_curves_plot(model_fit)"
   ]
  },
  {
   "cell_type": "code",
   "execution_count": 10,
   "metadata": {},
   "outputs": [
    {
     "data": {
      "image/png": "[encoded data removed]",
      "text/plain": [
       "<Figure size 288x288 with 1 Axes>"
      ]
     },
     "metadata": {
      "needs_background": "light"
     },
     "output_type": "display_data"
    }
   ],
   "source": [
    "accuracy_curves_plot(model_fit,'binary_accuracy')"
   ]
  },
  {
   "cell_type": "code",
   "execution_count": null,
   "metadata": {},
   "outputs": [],
   "source": []
  }
 ],
 "metadata": {
  "kernelspec": {
   "display_name": "Python 3",
   "language": "python",
   "name": "python3"
  },
  "language_info": {
   "codemirror_mode": {
    "name": "ipython",
    "version": 3
   },
   "file_extension": ".py",
   "mimetype": "text/x-python",
   "name": "python",
   "nbconvert_exporter": "python",
   "pygments_lexer": "ipython3",
   "version": "3.5.2"
  }
 },
 "nbformat": 4,
 "nbformat_minor": 2
}
