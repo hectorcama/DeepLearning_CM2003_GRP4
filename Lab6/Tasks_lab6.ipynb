{
 "cells": [
  {
   "cell_type": "code",
   "execution_count": 1,
   "metadata": {},
   "outputs": [],
   "source": [
    "from Functions_Lab6 import*"
   ]
  },
  {
   "cell_type": "code",
   "execution_count": 2,
   "metadata": {},
   "outputs": [],
   "source": [
    "import pandas as pd\n",
    "# load csv files:\n",
    "dataset_train = pd.read_csv('../DL_course_data/Lab5/train_data_stock.csv')\n",
    "dataset_val = pd.read_csv('../DL_course_data/Lab5/val_data_stock.csv')\n",
    "# reverse data so that they go from oldest to newest:\n",
    "dataset_train = dataset_train.iloc[::-1]\n",
    "dataset_val = dataset_val.iloc[::-1]\n",
    "# concatenate training and test datasets:\n",
    "dataset_total = pd.concat((dataset_train['Open'], dataset_val['Open']),\n",
    "axis=0)\n",
    "# select the values from the “Open” column as the variables to be predicted:\n",
    "training_set = dataset_train.iloc[:, 1:2].values\n",
    "val_set = dataset_val.iloc[:, 1:2].values"
   ]
  },
  {
   "cell_type": "code",
   "execution_count": 3,
   "metadata": {},
   "outputs": [],
   "source": [
    "from sklearn.preprocessing import MinMaxScaler\n",
    "sc = MinMaxScaler(feature_range=(0, 1))\n",
    "training_set_scaled = sc.fit_transform(training_set)"
   ]
  },
  {
   "cell_type": "code",
   "execution_count": 4,
   "metadata": {},
   "outputs": [],
   "source": [
    "X_train = []\n",
    "y_train = []\n",
    "T = 60\n",
    "for i in range(T, len(training_set)):\n",
    "    X_train.append(training_set_scaled[i-T:i, 0])\n",
    "    y_train.append(training_set_scaled[i, 0])\n",
    "X_train, y_train = np.array(X_train), np.array(y_train)\n",
    "# normalize the validation set according to the normalization applied to the training set:\n",
    "inputs = dataset_total[len(dataset_total) - len(dataset_val) - 60:].values\n",
    "inputs = inputs.reshape(-1, 1)\n",
    "inputs = sc.transform(inputs)\n",
    "# split validation data into T time steps:\n",
    "X_val = []\n",
    "for i in range(T, T + len(val_set)): \n",
    "    X_val.append(inputs[i-T:i, 0])\n",
    "X_val = np.array(X_val)\n",
    "y_val = sc.transform(val_set)\n",
    "# reshape to 3D array (format needed by LSTMs -> number of samples, timesteps, input dimension)\n",
    "X_train = np.reshape(X_train, (X_train.shape[0], X_train.shape[1], 1)) \n",
    "X_val = np.reshape(X_val, (X_val.shape[0], X_val.shape[1], 1))"
   ]
  },
  {
   "cell_type": "code",
   "execution_count": 5,
   "metadata": {},
   "outputs": [
    {
     "name": "stderr",
     "output_type": "stream",
     "text": [
      "WARNING: Logging before flag parsing goes to stderr.\n",
      "W1007 17:39:42.981778 139799206815488 tf_logging.py:161] <tensorflow.python.keras.layers.recurrent.UnifiedLSTM object at 0x7f24ba327cf8>: Note that this layer is not optimized for performance. Please use tf.keras.layers.CuDNNLSTM for better performance on GPU.\n",
      "W1007 17:39:43.008258 139799206815488 tf_logging.py:161] <tensorflow.python.keras.layers.recurrent.UnifiedLSTM object at 0x7f24b9bc5240>: Note that this layer is not optimized for performance. Please use tf.keras.layers.CuDNNLSTM for better performance on GPU.\n",
      "W1007 17:39:45.817624 139799206815488 tf_logging.py:161] <tensorflow.python.keras.layers.recurrent.UnifiedLSTM object at 0x7f24b9bc5f60>: Note that this layer is not optimized for performance. Please use tf.keras.layers.CuDNNLSTM for better performance on GPU.\n",
      "W1007 17:39:45.883531 139799206815488 tf_logging.py:161] <tensorflow.python.keras.layers.recurrent.UnifiedLSTM object at 0x7f24b07b3160>: Note that this layer is not optimized for performance. Please use tf.keras.layers.CuDNNLSTM for better performance on GPU.\n",
      "W1007 17:39:45.950789 139799206815488 tf_logging.py:161] <tensorflow.python.keras.layers.recurrent.UnifiedLSTM object at 0x7f24b0696d30>: Note that this layer is not optimized for performance. Please use tf.keras.layers.CuDNNLSTM for better performance on GPU.\n"
     ]
    }
   ],
   "source": [
    "from tensorflow.keras.layers import Bidirectional\n",
    "units = 40\n",
    "batch_size = 16\n",
    "input_size = 60\n",
    "input_dim = 1\n",
    "dr = 0.2\n",
    "model = model_simple(units,batch_size,input_size,input_dim,dr)"
   ]
  },
  {
   "cell_type": "code",
   "execution_count": 6,
   "metadata": {},
   "outputs": [
    {
     "name": "stdout",
     "output_type": "stream",
     "text": [
      "Train on 1920 samples, validate on 16 samples\n",
      "Epoch 1/100\n",
      "1920/1920 [==============================] - 5s 3ms/sample - loss: 0.0155 - mean_absolute_error: 0.0847 - val_loss: 0.0150 - val_mean_absolute_error: 0.1172\n",
      "Epoch 2/100\n",
      "1920/1920 [==============================] - 2s 968us/sample - loss: 0.0028 - mean_absolute_error: 0.0410 - val_loss: 0.0070 - val_mean_absolute_error: 0.0735\n",
      "Epoch 3/100\n",
      "1920/1920 [==============================] - 2s 799us/sample - loss: 0.0024 - mean_absolute_error: 0.0377 - val_loss: 0.0162 - val_mean_absolute_error: 0.1204\n",
      "Epoch 4/100\n",
      "1920/1920 [==============================] - 2s 962us/sample - loss: 0.0018 - mean_absolute_error: 0.0326 - val_loss: 0.0021 - val_mean_absolute_error: 0.0389\n",
      "Epoch 5/100\n",
      "1920/1920 [==============================] - 2s 825us/sample - loss: 0.0017 - mean_absolute_error: 0.0311 - val_loss: 0.0092 - val_mean_absolute_error: 0.0865\n",
      "Epoch 6/100\n",
      "1920/1920 [==============================] - 2s 943us/sample - loss: 0.0017 - mean_absolute_error: 0.0315 - val_loss: 0.0061 - val_mean_absolute_error: 0.0671\n",
      "Epoch 7/100\n",
      "1920/1920 [==============================] - 2s 928us/sample - loss: 0.0015 - mean_absolute_error: 0.0293 - val_loss: 0.0038 - val_mean_absolute_error: 0.0510\n",
      "Epoch 8/100\n",
      "1920/1920 [==============================] - 2s 924us/sample - loss: 0.0014 - mean_absolute_error: 0.0286 - val_loss: 0.0027 - val_mean_absolute_error: 0.0429\n",
      "Epoch 9/100\n",
      "1920/1920 [==============================] - 2s 822us/sample - loss: 0.0013 - mean_absolute_error: 0.0268 - val_loss: 0.0046 - val_mean_absolute_error: 0.0561\n",
      "Epoch 10/100\n",
      "1920/1920 [==============================] - 2s 969us/sample - loss: 0.0013 - mean_absolute_error: 0.0273 - val_loss: 0.0027 - val_mean_absolute_error: 0.0446\n",
      "Epoch 11/100\n",
      "1920/1920 [==============================] - 2s 920us/sample - loss: 0.0014 - mean_absolute_error: 0.0280 - val_loss: 0.0091 - val_mean_absolute_error: 0.0817\n",
      "Epoch 12/100\n",
      "1920/1920 [==============================] - 2s 895us/sample - loss: 0.0013 - mean_absolute_error: 0.0272 - val_loss: 0.0065 - val_mean_absolute_error: 0.0676\n",
      "Epoch 13/100\n",
      "1920/1920 [==============================] - 2s 848us/sample - loss: 0.0012 - mean_absolute_error: 0.0256 - val_loss: 0.0033 - val_mean_absolute_error: 0.0477\n",
      "Epoch 14/100\n",
      "1920/1920 [==============================] - 2s 959us/sample - loss: 0.0011 - mean_absolute_error: 0.0250 - val_loss: 0.0031 - val_mean_absolute_error: 0.0492\n",
      "Epoch 15/100\n",
      "1920/1920 [==============================] - 2s 956us/sample - loss: 0.0014 - mean_absolute_error: 0.0273 - val_loss: 0.0059 - val_mean_absolute_error: 0.0654\n",
      "Epoch 16/100\n",
      "1920/1920 [==============================] - 2s 805us/sample - loss: 0.0012 - mean_absolute_error: 0.0255 - val_loss: 0.0031 - val_mean_absolute_error: 0.0492\n",
      "Epoch 17/100\n",
      "1920/1920 [==============================] - 2s 820us/sample - loss: 0.0012 - mean_absolute_error: 0.0263 - val_loss: 0.0030 - val_mean_absolute_error: 0.0478\n",
      "Epoch 18/100\n",
      "1920/1920 [==============================] - 2s 1ms/sample - loss: 0.0011 - mean_absolute_error: 0.0245 - val_loss: 0.0052 - val_mean_absolute_error: 0.0655\n",
      "Epoch 19/100\n",
      "1920/1920 [==============================] - 2s 992us/sample - loss: 0.0011 - mean_absolute_error: 0.0250 - val_loss: 0.0022 - val_mean_absolute_error: 0.0388\n",
      "Epoch 20/100\n",
      "1920/1920 [==============================] - 2s 990us/sample - loss: 0.0012 - mean_absolute_error: 0.0254 - val_loss: 0.0050 - val_mean_absolute_error: 0.0608\n",
      "Epoch 21/100\n",
      "1920/1920 [==============================] - 2s 881us/sample - loss: 0.0011 - mean_absolute_error: 0.0252 - val_loss: 0.0023 - val_mean_absolute_error: 0.0416\n",
      "Epoch 22/100\n",
      "1920/1920 [==============================] - 1s 774us/sample - loss: 0.0011 - mean_absolute_error: 0.0246 - val_loss: 0.0061 - val_mean_absolute_error: 0.0657\n",
      "Epoch 23/100\n",
      "1920/1920 [==============================] - 2s 830us/sample - loss: 0.0010 - mean_absolute_error: 0.0239 - val_loss: 0.0027 - val_mean_absolute_error: 0.0432\n",
      "Epoch 24/100\n",
      "1920/1920 [==============================] - 1s 757us/sample - loss: 0.0011 - mean_absolute_error: 0.0242 - val_loss: 0.0027 - val_mean_absolute_error: 0.0453\n",
      "Epoch 25/100\n",
      "1920/1920 [==============================] - 2s 838us/sample - loss: 0.0011 - mean_absolute_error: 0.0241 - val_loss: 0.0021 - val_mean_absolute_error: 0.0373\n",
      "Epoch 26/100\n",
      "1920/1920 [==============================] - 2s 859us/sample - loss: 9.9227e-04 - mean_absolute_error: 0.0238 - val_loss: 0.0040 - val_mean_absolute_error: 0.0517\n",
      "Epoch 27/100\n",
      "1920/1920 [==============================] - 2s 865us/sample - loss: 9.2877e-04 - mean_absolute_error: 0.0231 - val_loss: 0.0036 - val_mean_absolute_error: 0.0544\n",
      "Epoch 28/100\n",
      "1920/1920 [==============================] - 2s 924us/sample - loss: 0.0010 - mean_absolute_error: 0.0235 - val_loss: 0.0041 - val_mean_absolute_error: 0.0536\n",
      "Epoch 29/100\n",
      "1920/1920 [==============================] - 2s 1ms/sample - loss: 9.3176e-04 - mean_absolute_error: 0.0231 - val_loss: 0.0026 - val_mean_absolute_error: 0.0445\n",
      "Epoch 30/100\n",
      "1920/1920 [==============================] - 2s 907us/sample - loss: 8.9723e-04 - mean_absolute_error: 0.0223 - val_loss: 0.0024 - val_mean_absolute_error: 0.0448\n",
      "Epoch 31/100\n",
      "1920/1920 [==============================] - 2s 891us/sample - loss: 9.5308e-04 - mean_absolute_error: 0.0230 - val_loss: 0.0063 - val_mean_absolute_error: 0.0663\n",
      "Epoch 32/100\n",
      "1920/1920 [==============================] - 2s 809us/sample - loss: 8.9783e-04 - mean_absolute_error: 0.0223 - val_loss: 0.0022 - val_mean_absolute_error: 0.0384\n",
      "Epoch 33/100\n",
      "1920/1920 [==============================] - 2s 834us/sample - loss: 8.7224e-04 - mean_absolute_error: 0.0219 - val_loss: 0.0028 - val_mean_absolute_error: 0.0472\n",
      "Epoch 34/100\n",
      "1920/1920 [==============================] - 2s 889us/sample - loss: 8.0789e-04 - mean_absolute_error: 0.0212 - val_loss: 0.0025 - val_mean_absolute_error: 0.0422\n",
      "Epoch 35/100\n",
      "1920/1920 [==============================] - 2s 1ms/sample - loss: 8.6226e-04 - mean_absolute_error: 0.0216 - val_loss: 0.0017 - val_mean_absolute_error: 0.0326\n",
      "Epoch 36/100\n",
      "1920/1920 [==============================] - 2s 897us/sample - loss: 8.8706e-04 - mean_absolute_error: 0.0218 - val_loss: 0.0016 - val_mean_absolute_error: 0.0328\n",
      "Epoch 37/100\n",
      "1920/1920 [==============================] - 2s 990us/sample - loss: 8.1535e-04 - mean_absolute_error: 0.0213 - val_loss: 0.0026 - val_mean_absolute_error: 0.0438\n",
      "Epoch 38/100\n",
      "1920/1920 [==============================] - 2s 841us/sample - loss: 8.5219e-04 - mean_absolute_error: 0.0216 - val_loss: 0.0019 - val_mean_absolute_error: 0.0373\n",
      "Epoch 39/100\n",
      "1920/1920 [==============================] - 2s 848us/sample - loss: 9.0994e-04 - mean_absolute_error: 0.0224 - val_loss: 0.0017 - val_mean_absolute_error: 0.0358\n",
      "Epoch 40/100\n",
      "1920/1920 [==============================] - 2s 1ms/sample - loss: 8.3975e-04 - mean_absolute_error: 0.0213 - val_loss: 0.0027 - val_mean_absolute_error: 0.0462\n",
      "Epoch 41/100\n",
      "1920/1920 [==============================] - 2s 928us/sample - loss: 9.4284e-04 - mean_absolute_error: 0.0224 - val_loss: 0.0016 - val_mean_absolute_error: 0.0324\n",
      "Epoch 42/100\n",
      "1920/1920 [==============================] - 2s 998us/sample - loss: 8.1470e-04 - mean_absolute_error: 0.0210 - val_loss: 0.0022 - val_mean_absolute_error: 0.0392\n",
      "Epoch 43/100\n",
      "1920/1920 [==============================] - 2s 1ms/sample - loss: 7.9620e-04 - mean_absolute_error: 0.0204 - val_loss: 0.0018 - val_mean_absolute_error: 0.0373\n",
      "Epoch 44/100\n",
      "1920/1920 [==============================] - 2s 955us/sample - loss: 8.0684e-04 - mean_absolute_error: 0.0209 - val_loss: 0.0040 - val_mean_absolute_error: 0.0547\n",
      "Epoch 45/100\n",
      "1920/1920 [==============================] - 2s 943us/sample - loss: 8.2216e-04 - mean_absolute_error: 0.0213 - val_loss: 0.0015 - val_mean_absolute_error: 0.0340\n",
      "Epoch 46/100\n",
      "1920/1920 [==============================] - 2s 862us/sample - loss: 8.5309e-04 - mean_absolute_error: 0.0215 - val_loss: 0.0015 - val_mean_absolute_error: 0.0323\n",
      "Epoch 47/100\n",
      "1920/1920 [==============================] - 1s 774us/sample - loss: 7.6772e-04 - mean_absolute_error: 0.0204 - val_loss: 0.0035 - val_mean_absolute_error: 0.0498\n"
     ]
    },
    {
     "name": "stdout",
     "output_type": "stream",
     "text": [
      "Epoch 48/100\n",
      "1920/1920 [==============================] - 2s 844us/sample - loss: 8.2183e-04 - mean_absolute_error: 0.0206 - val_loss: 0.0032 - val_mean_absolute_error: 0.0495\n",
      "Epoch 49/100\n",
      "1920/1920 [==============================] - 2s 950us/sample - loss: 7.9135e-04 - mean_absolute_error: 0.0208 - val_loss: 0.0027 - val_mean_absolute_error: 0.0446\n",
      "Epoch 50/100\n",
      "1920/1920 [==============================] - 2s 801us/sample - loss: 8.4287e-04 - mean_absolute_error: 0.0215 - val_loss: 0.0028 - val_mean_absolute_error: 0.0456\n",
      "Epoch 51/100\n",
      "1920/1920 [==============================] - 2s 905us/sample - loss: 8.1770e-04 - mean_absolute_error: 0.0209 - val_loss: 0.0037 - val_mean_absolute_error: 0.0502\n",
      "Epoch 52/100\n",
      "1920/1920 [==============================] - 2s 944us/sample - loss: 7.8595e-04 - mean_absolute_error: 0.0208 - val_loss: 0.0022 - val_mean_absolute_error: 0.0408\n",
      "Epoch 53/100\n",
      "1920/1920 [==============================] - 2s 942us/sample - loss: 8.2647e-04 - mean_absolute_error: 0.0210 - val_loss: 0.0041 - val_mean_absolute_error: 0.0557\n",
      "Epoch 54/100\n",
      "1920/1920 [==============================] - 2s 919us/sample - loss: 7.5185e-04 - mean_absolute_error: 0.0204 - val_loss: 0.0010 - val_mean_absolute_error: 0.0258\n",
      "Epoch 55/100\n",
      "1920/1920 [==============================] - 2s 885us/sample - loss: 8.3089e-04 - mean_absolute_error: 0.0209 - val_loss: 0.0021 - val_mean_absolute_error: 0.0404\n",
      "Epoch 56/100\n",
      "1920/1920 [==============================] - 2s 1ms/sample - loss: 7.4326e-04 - mean_absolute_error: 0.0199 - val_loss: 0.0031 - val_mean_absolute_error: 0.0480\n",
      "Epoch 57/100\n",
      "1920/1920 [==============================] - 2s 1ms/sample - loss: 8.2814e-04 - mean_absolute_error: 0.0211 - val_loss: 0.0016 - val_mean_absolute_error: 0.0337\n",
      "Epoch 58/100\n",
      "1920/1920 [==============================] - 2s 976us/sample - loss: 7.2764e-04 - mean_absolute_error: 0.0202 - val_loss: 0.0013 - val_mean_absolute_error: 0.0283\n",
      "Epoch 59/100\n",
      "1920/1920 [==============================] - 2s 990us/sample - loss: 7.5442e-04 - mean_absolute_error: 0.0205 - val_loss: 0.0011 - val_mean_absolute_error: 0.0263\n",
      "Epoch 60/100\n",
      "1920/1920 [==============================] - 2s 788us/sample - loss: 8.4821e-04 - mean_absolute_error: 0.0211 - val_loss: 0.0015 - val_mean_absolute_error: 0.0312\n",
      "Epoch 61/100\n",
      "1920/1920 [==============================] - 2s 958us/sample - loss: 7.3119e-04 - mean_absolute_error: 0.0196 - val_loss: 0.0016 - val_mean_absolute_error: 0.0348\n",
      "Epoch 62/100\n",
      "1920/1920 [==============================] - 2s 874us/sample - loss: 7.8844e-04 - mean_absolute_error: 0.0207 - val_loss: 0.0020 - val_mean_absolute_error: 0.0388\n",
      "Epoch 63/100\n",
      "1920/1920 [==============================] - 2s 940us/sample - loss: 7.0985e-04 - mean_absolute_error: 0.0191 - val_loss: 0.0034 - val_mean_absolute_error: 0.0498\n",
      "Epoch 64/100\n",
      "1920/1920 [==============================] - 2s 959us/sample - loss: 7.7373e-04 - mean_absolute_error: 0.0205 - val_loss: 0.0012 - val_mean_absolute_error: 0.0287\n",
      "Epoch 65/100\n",
      "1920/1920 [==============================] - 2s 865us/sample - loss: 7.6136e-04 - mean_absolute_error: 0.0204 - val_loss: 0.0038 - val_mean_absolute_error: 0.0534\n",
      "Epoch 66/100\n",
      "1920/1920 [==============================] - 2s 1ms/sample - loss: 8.0093e-04 - mean_absolute_error: 0.0206 - val_loss: 0.0032 - val_mean_absolute_error: 0.0484\n",
      "Epoch 67/100\n",
      "1920/1920 [==============================] - 2s 963us/sample - loss: 6.9653e-04 - mean_absolute_error: 0.0193 - val_loss: 0.0011 - val_mean_absolute_error: 0.0273\n",
      "Epoch 68/100\n",
      "1920/1920 [==============================] - 2s 1ms/sample - loss: 7.1005e-04 - mean_absolute_error: 0.0195 - val_loss: 0.0014 - val_mean_absolute_error: 0.0318\n",
      "Epoch 69/100\n",
      "1920/1920 [==============================] - 2s 832us/sample - loss: 7.2044e-04 - mean_absolute_error: 0.0198 - val_loss: 0.0011 - val_mean_absolute_error: 0.0258\n",
      "Epoch 70/100\n",
      "1920/1920 [==============================] - 2s 861us/sample - loss: 7.2836e-04 - mean_absolute_error: 0.0196 - val_loss: 0.0014 - val_mean_absolute_error: 0.0326\n",
      "Epoch 71/100\n",
      "1920/1920 [==============================] - 2s 842us/sample - loss: 6.9483e-04 - mean_absolute_error: 0.0197 - val_loss: 0.0024 - val_mean_absolute_error: 0.0415\n",
      "Epoch 72/100\n",
      "1920/1920 [==============================] - 2s 895us/sample - loss: 7.5490e-04 - mean_absolute_error: 0.0202 - val_loss: 0.0012 - val_mean_absolute_error: 0.0288\n",
      "Epoch 73/100\n",
      "1920/1920 [==============================] - 2s 935us/sample - loss: 6.9569e-04 - mean_absolute_error: 0.0190 - val_loss: 9.1455e-04 - val_mean_absolute_error: 0.0245\n",
      "Epoch 74/100\n",
      "1920/1920 [==============================] - 2s 993us/sample - loss: 6.8036e-04 - mean_absolute_error: 0.0190 - val_loss: 0.0025 - val_mean_absolute_error: 0.0419\n",
      "Epoch 75/100\n",
      "1920/1920 [==============================] - 2s 935us/sample - loss: 6.6922e-04 - mean_absolute_error: 0.0188 - val_loss: 9.9125e-04 - val_mean_absolute_error: 0.0261\n",
      "Epoch 76/100\n",
      "1920/1920 [==============================] - 2s 956us/sample - loss: 6.7380e-04 - mean_absolute_error: 0.0188 - val_loss: 0.0025 - val_mean_absolute_error: 0.0425\n",
      "Epoch 77/100\n",
      "1920/1920 [==============================] - 2s 876us/sample - loss: 7.4918e-04 - mean_absolute_error: 0.0201 - val_loss: 0.0014 - val_mean_absolute_error: 0.0318\n",
      "Epoch 78/100\n",
      "1920/1920 [==============================] - 2s 933us/sample - loss: 6.4235e-04 - mean_absolute_error: 0.0185 - val_loss: 0.0011 - val_mean_absolute_error: 0.0295\n",
      "Epoch 79/100\n",
      "1920/1920 [==============================] - 2s 1ms/sample - loss: 6.7319e-04 - mean_absolute_error: 0.0189 - val_loss: 0.0015 - val_mean_absolute_error: 0.0318\n",
      "Epoch 80/100\n",
      "1920/1920 [==============================] - 2s 842us/sample - loss: 6.9743e-04 - mean_absolute_error: 0.0191 - val_loss: 0.0010 - val_mean_absolute_error: 0.0258\n",
      "Epoch 81/100\n",
      "1920/1920 [==============================] - 2s 904us/sample - loss: 6.9447e-04 - mean_absolute_error: 0.0191 - val_loss: 0.0014 - val_mean_absolute_error: 0.0303\n",
      "Epoch 82/100\n",
      "1920/1920 [==============================] - 2s 993us/sample - loss: 6.8940e-04 - mean_absolute_error: 0.0189 - val_loss: 9.1272e-04 - val_mean_absolute_error: 0.0255\n",
      "Epoch 83/100\n",
      "1920/1920 [==============================] - 2s 896us/sample - loss: 7.2141e-04 - mean_absolute_error: 0.0191 - val_loss: 9.9193e-04 - val_mean_absolute_error: 0.0268\n",
      "Epoch 84/100\n",
      "1920/1920 [==============================] - 2s 1ms/sample - loss: 6.4812e-04 - mean_absolute_error: 0.0187 - val_loss: 0.0011 - val_mean_absolute_error: 0.0276\n",
      "Epoch 85/100\n",
      "1920/1920 [==============================] - 2s 997us/sample - loss: 6.3749e-04 - mean_absolute_error: 0.0185 - val_loss: 0.0050 - val_mean_absolute_error: 0.0631\n",
      "Epoch 86/100\n",
      "1920/1920 [==============================] - 2s 956us/sample - loss: 7.1410e-04 - mean_absolute_error: 0.0188 - val_loss: 0.0013 - val_mean_absolute_error: 0.0288\n",
      "Epoch 87/100\n",
      "1920/1920 [==============================] - 2s 793us/sample - loss: 6.4811e-04 - mean_absolute_error: 0.0183 - val_loss: 0.0036 - val_mean_absolute_error: 0.0492\n",
      "Epoch 88/100\n",
      "1920/1920 [==============================] - 2s 920us/sample - loss: 5.9000e-04 - mean_absolute_error: 0.0181 - val_loss: 0.0017 - val_mean_absolute_error: 0.0364\n",
      "Epoch 89/100\n",
      "1920/1920 [==============================] - 2s 839us/sample - loss: 6.3608e-04 - mean_absolute_error: 0.0182 - val_loss: 0.0014 - val_mean_absolute_error: 0.0329\n",
      "Epoch 90/100\n",
      "1920/1920 [==============================] - 2s 959us/sample - loss: 6.3405e-04 - mean_absolute_error: 0.0184 - val_loss: 0.0016 - val_mean_absolute_error: 0.0352\n",
      "Epoch 91/100\n",
      "1920/1920 [==============================] - 2s 894us/sample - loss: 6.1819e-04 - mean_absolute_error: 0.0182 - val_loss: 8.6253e-04 - val_mean_absolute_error: 0.0239\n",
      "Epoch 92/100\n",
      "1920/1920 [==============================] - 2s 1ms/sample - loss: 7.1175e-04 - mean_absolute_error: 0.0191 - val_loss: 0.0021 - val_mean_absolute_error: 0.0388\n",
      "Epoch 93/100\n",
      "1920/1920 [==============================] - 2s 1ms/sample - loss: 6.2196e-04 - mean_absolute_error: 0.0182 - val_loss: 0.0017 - val_mean_absolute_error: 0.0340\n",
      "Epoch 94/100\n"
     ]
    },
    {
     "name": "stdout",
     "output_type": "stream",
     "text": [
      "1920/1920 [==============================] - 2s 1ms/sample - loss: 6.4102e-04 - mean_absolute_error: 0.0186 - val_loss: 0.0025 - val_mean_absolute_error: 0.0432\n",
      "Epoch 95/100\n",
      "1920/1920 [==============================] - 2s 842us/sample - loss: 6.4556e-04 - mean_absolute_error: 0.0183 - val_loss: 9.3575e-04 - val_mean_absolute_error: 0.0248\n",
      "Epoch 96/100\n",
      "1920/1920 [==============================] - 2s 845us/sample - loss: 6.2952e-04 - mean_absolute_error: 0.0181 - val_loss: 7.3692e-04 - val_mean_absolute_error: 0.0217\n",
      "Epoch 97/100\n",
      "1920/1920 [==============================] - 2s 871us/sample - loss: 6.1773e-04 - mean_absolute_error: 0.0180 - val_loss: 8.8529e-04 - val_mean_absolute_error: 0.0240\n",
      "Epoch 98/100\n",
      "1920/1920 [==============================] - 2s 937us/sample - loss: 6.1850e-04 - mean_absolute_error: 0.0178 - val_loss: 9.0836e-04 - val_mean_absolute_error: 0.0237\n",
      "Epoch 99/100\n",
      "1920/1920 [==============================] - 2s 850us/sample - loss: 5.7638e-04 - mean_absolute_error: 0.0179 - val_loss: 0.0018 - val_mean_absolute_error: 0.0361\n",
      "Epoch 100/100\n",
      "1920/1920 [==============================] - 2s 890us/sample - loss: 7.0349e-04 - mean_absolute_error: 0.0188 - val_loss: 7.8652e-04 - val_mean_absolute_error: 0.0225\n"
     ]
    }
   ],
   "source": [
    "lr=0.001\n",
    "n_epochs=100\n",
    "model_hist = compile_fit(model,loss_function='mse',optimizer=Adam(lr),metrics=[MeanAbsoluteError()],x_train=X_train,y_train=y_train,x_test=X_val,y_test=y_val,batch_size=batch_size,n_epochs=n_epochs)"
   ]
  },
  {
   "cell_type": "code",
   "execution_count": 7,
   "metadata": {},
   "outputs": [
    {
     "data": {
      "image/png": "[encoded data removed]",
      "text/plain": [
       "<Figure size 288x288 with 1 Axes>"
      ]
     },
     "metadata": {
      "needs_background": "light"
     },
     "output_type": "display_data"
    }
   ],
   "source": [
    "loss_curves_plot(model_hist)"
   ]
  },
  {
   "cell_type": "code",
   "execution_count": 8,
   "metadata": {},
   "outputs": [
    {
     "data": {
      "image/png": "[encoded data removed]",
      "text/plain": [
       "<Figure size 288x288 with 1 Axes>"
      ]
     },
     "metadata": {
      "needs_background": "light"
     },
     "output_type": "display_data"
    }
   ],
   "source": [
    "accuracy_curves_plot(model_hist,'mean_absolute_error')"
   ]
  },
  {
   "cell_type": "code",
   "execution_count": 28,
   "metadata": {},
   "outputs": [],
   "source": [
    "predicted_stock_price = model.predict(X_val)\n",
    "predicted_stock_price = sc.inverse_transform(predicted_stock_price)"
   ]
  },
  {
   "cell_type": "code",
   "execution_count": 29,
   "metadata": {},
   "outputs": [
    {
     "data": {
      "text/plain": [
       "array([[234.82397],\n",
       "       [234.88022],\n",
       "       [232.02715],\n",
       "       [226.1417 ],\n",
       "       [219.9693 ],\n",
       "       [212.61897],\n",
       "       [216.5197 ],\n",
       "       [218.43552],\n",
       "       [217.56773],\n",
       "       [224.64503],\n",
       "       [230.28824],\n",
       "       [236.80374],\n",
       "       [239.99211],\n",
       "       [235.22568],\n",
       "       [231.8214 ],\n",
       "       [225.09827]], dtype=float32)"
      ]
     },
     "execution_count": 29,
     "metadata": {},
     "output_type": "execute_result"
    }
   ],
   "source": [
    "predicted_stock_price\n",
    "sc.inverse_transform(y_val)"
   ]
  },
  {
   "cell_type": "markdown",
   "metadata": {},
   "source": [
    "# Task 2"
   ]
  },
  {
   "cell_type": "code",
   "execution_count": 7,
   "metadata": {},
   "outputs": [],
   "source": [
    "dataPath = '../DL_course_data/Lab5/HCP_lab/'\n",
    "train_subjects_list = ['599469', '599671', '601127'] # your choice of 3 training subjects\n",
    "val_subjects_list = ['613538']# your choice of 1 validation subjects \n",
    "bundles_list = ['CST_left', 'CST_right']\n",
    "n_tracts_per_bundle = 20\n",
    "X_train, y_train = load_streamlines(dataPath, train_subjects_list, bundles_list, n_tracts_per_bundle)\n",
    "X_val, y_val = load_streamlines(dataPath, val_subjects_list, bundles_list, n_tracts_per_bundle)"
   ]
  },
  {
   "cell_type": "code",
   "execution_count": 10,
   "metadata": {},
   "outputs": [
    {
     "name": "stderr",
     "output_type": "stream",
     "text": [
      "W1006 12:10:57.470469 139700101666560 tf_logging.py:161] <tensorflow.python.keras.layers.recurrent.UnifiedLSTM object at 0x7f0d2c738898>: Note that this layer is not optimized for performance. Please use tf.keras.layers.CuDNNLSTM for better performance on GPU.\n",
      "W1006 12:10:57.479392 139700101666560 tf_logging.py:161] <tensorflow.python.keras.layers.recurrent.UnifiedLSTM object at 0x7f0d2c738fd0>: Note that this layer is not optimized for performance. Please use tf.keras.layers.CuDNNLSTM for better performance on GPU.\n",
      "W1006 12:10:57.627949 139700101666560 tf_logging.py:161] <tensorflow.python.keras.layers.recurrent.UnifiedLSTM object at 0x7f0d2c6d1a90>: Note that this layer is not optimized for performance. Please use tf.keras.layers.CuDNNLSTM for better performance on GPU.\n",
      "W1006 12:10:57.696252 139700101666560 tf_logging.py:161] <tensorflow.python.keras.layers.recurrent.UnifiedLSTM object at 0x7f0d2c564ac8>: Note that this layer is not optimized for performance. Please use tf.keras.layers.CuDNNLSTM for better performance on GPU.\n",
      "W1006 12:10:57.763628 139700101666560 tf_logging.py:161] <tensorflow.python.keras.layers.recurrent.UnifiedLSTM object at 0x7f0d2c4a5278>: Note that this layer is not optimized for performance. Please use tf.keras.layers.CuDNNLSTM for better performance on GPU.\n"
     ]
    },
    {
     "name": "stdout",
     "output_type": "stream",
     "text": [
      "Model: \"sequential_2\"\n",
      "_________________________________________________________________\n",
      "Layer (type)                 Output Shape              Param #   \n",
      "=================================================================\n",
      "bidirectional_2 (Bidirection (1, None, 20)             1120      \n",
      "_________________________________________________________________\n",
      "dropout_8 (Dropout)          (1, None, 20)             0         \n",
      "_________________________________________________________________\n",
      "unified_lstm_9 (UnifiedLSTM) (1, None, 10)             1240      \n",
      "_________________________________________________________________\n",
      "dropout_9 (Dropout)          (1, None, 10)             0         \n",
      "_________________________________________________________________\n",
      "unified_lstm_10 (UnifiedLSTM (1, None, 10)             840       \n",
      "_________________________________________________________________\n",
      "dropout_10 (Dropout)         (1, None, 10)             0         \n",
      "_________________________________________________________________\n",
      "unified_lstm_11 (UnifiedLSTM (1, 10)                   840       \n",
      "_________________________________________________________________\n",
      "dropout_11 (Dropout)         (1, 10)                   0         \n",
      "_________________________________________________________________\n",
      "dense_2 (Dense)              (1, 1)                    11        \n",
      "=================================================================\n",
      "Total params: 4,051\n",
      "Trainable params: 4,051\n",
      "Non-trainable params: 0\n",
      "_________________________________________________________________\n",
      "Epoch 1/50\n",
      "120/120 [==============================] - 4s 31ms/step - loss: 0.5290 - binary_accuracy: 0.8750 - val_loss: 0.2593 - val_binary_accuracy: 1.0000\n",
      "Epoch 2/50\n",
      "120/120 [==============================] - 1s 12ms/step - loss: 0.1764 - binary_accuracy: 0.9917 - val_loss: 0.0915 - val_binary_accuracy: 1.0000\n",
      "Epoch 3/50\n",
      "120/120 [==============================] - 1s 12ms/step - loss: 0.0793 - binary_accuracy: 1.0000 - val_loss: 0.0449 - val_binary_accuracy: 1.0000\n",
      "Epoch 4/50\n",
      "120/120 [==============================] - 2s 13ms/step - loss: 0.0496 - binary_accuracy: 1.0000 - val_loss: 0.0275 - val_binary_accuracy: 1.0000\n",
      "Epoch 5/50\n",
      "120/120 [==============================] - 2s 13ms/step - loss: 0.0306 - binary_accuracy: 1.0000 - val_loss: 0.0180 - val_binary_accuracy: 1.0000\n",
      "Epoch 6/50\n",
      "120/120 [==============================] - 1s 11ms/step - loss: 0.0238 - binary_accuracy: 1.0000 - val_loss: 0.0132 - val_binary_accuracy: 1.0000\n",
      "Epoch 7/50\n",
      "120/120 [==============================] - 1s 9ms/step - loss: 0.0181 - binary_accuracy: 1.0000 - val_loss: 0.0097 - val_binary_accuracy: 1.0000\n",
      "Epoch 8/50\n",
      "120/120 [==============================] - 1s 10ms/step - loss: 0.0128 - binary_accuracy: 1.0000 - val_loss: 0.0073 - val_binary_accuracy: 1.0000\n",
      "Epoch 9/50\n",
      "120/120 [==============================] - 1s 10ms/step - loss: 0.0114 - binary_accuracy: 1.0000 - val_loss: 0.0057 - val_binary_accuracy: 1.0000\n",
      "Epoch 10/50\n",
      "120/120 [==============================] - 1s 12ms/step - loss: 0.0083 - binary_accuracy: 1.0000 - val_loss: 0.0045 - val_binary_accuracy: 1.0000\n",
      "Epoch 11/50\n",
      "120/120 [==============================] - 1s 10ms/step - loss: 0.0062 - binary_accuracy: 1.0000 - val_loss: 0.0038 - val_binary_accuracy: 1.0000\n",
      "Epoch 12/50\n",
      "120/120 [==============================] - 1s 11ms/step - loss: 0.0060 - binary_accuracy: 1.0000 - val_loss: 0.0031 - val_binary_accuracy: 1.0000\n",
      "Epoch 13/50\n",
      "120/120 [==============================] - 1s 9ms/step - loss: 0.0063 - binary_accuracy: 1.0000 - val_loss: 0.0026 - val_binary_accuracy: 1.0000\n",
      "Epoch 14/50\n",
      "120/120 [==============================] - 2s 14ms/step - loss: 0.0042 - binary_accuracy: 1.0000 - val_loss: 0.0022 - val_binary_accuracy: 1.0000\n",
      "Epoch 15/50\n",
      "120/120 [==============================] - 1s 12ms/step - loss: 0.0061 - binary_accuracy: 1.0000 - val_loss: 0.0018 - val_binary_accuracy: 1.0000\n",
      "Epoch 16/50\n",
      "120/120 [==============================] - 2s 14ms/step - loss: 0.0026 - binary_accuracy: 1.0000 - val_loss: 0.0016 - val_binary_accuracy: 1.0000\n",
      "Epoch 17/50\n",
      "120/120 [==============================] - 1s 12ms/step - loss: 0.0034 - binary_accuracy: 1.0000 - val_loss: 0.0014 - val_binary_accuracy: 1.0000\n",
      "Epoch 18/50\n",
      "120/120 [==============================] - 1s 9ms/step - loss: 0.0028 - binary_accuracy: 1.0000 - val_loss: 0.0012 - val_binary_accuracy: 1.0000\n",
      "Epoch 19/50\n",
      "120/120 [==============================] - 1s 10ms/step - loss: 0.0031 - binary_accuracy: 1.0000 - val_loss: 0.0011 - val_binary_accuracy: 1.0000\n",
      "Epoch 20/50\n",
      "120/120 [==============================] - 1s 12ms/step - loss: 0.0021 - binary_accuracy: 1.0000 - val_loss: 9.2890e-04 - val_binary_accuracy: 1.0000\n",
      "Epoch 21/50\n",
      "120/120 [==============================] - 2s 14ms/step - loss: 0.0019 - binary_accuracy: 1.0000 - val_loss: 8.2480e-04 - val_binary_accuracy: 1.0000\n",
      "Epoch 22/50\n",
      "120/120 [==============================] - 2s 14ms/step - loss: 0.0033 - binary_accuracy: 1.0000 - val_loss: 7.2155e-04 - val_binary_accuracy: 1.0000\n",
      "Epoch 23/50\n",
      "120/120 [==============================] - 1s 11ms/step - loss: 0.0012 - binary_accuracy: 1.0000 - val_loss: 6.5638e-04 - val_binary_accuracy: 1.0000\n",
      "Epoch 24/50\n",
      "120/120 [==============================] - 1s 12ms/step - loss: 0.0016 - binary_accuracy: 1.0000 - val_loss: 5.8707e-04 - val_binary_accuracy: 1.0000\n",
      "Epoch 25/50\n",
      "120/120 [==============================] - 1s 12ms/step - loss: 0.0014 - binary_accuracy: 1.0000 - val_loss: 5.3125e-04 - val_binary_accuracy: 1.0000\n",
      "Epoch 26/50\n",
      "120/120 [==============================] - 2s 14ms/step - loss: 0.0013 - binary_accuracy: 1.0000 - val_loss: 4.7936e-04 - val_binary_accuracy: 1.0000\n",
      "Epoch 27/50\n",
      "120/120 [==============================] - 1s 12ms/step - loss: 0.0014 - binary_accuracy: 1.0000 - val_loss: 4.3130e-04 - val_binary_accuracy: 1.0000\n",
      "Epoch 28/50\n",
      "120/120 [==============================] - 1s 9ms/step - loss: 0.0013 - binary_accuracy: 1.0000 - val_loss: 3.8768e-04 - val_binary_accuracy: 1.0000\n",
      "Epoch 29/50\n",
      "120/120 [==============================] - 1s 11ms/step - loss: 0.0010 - binary_accuracy: 1.0000 - val_loss: 3.5377e-04 - val_binary_accuracy: 1.0000\n",
      "Epoch 30/50\n",
      "120/120 [==============================] - 1s 12ms/step - loss: 9.8967e-04 - binary_accuracy: 1.0000 - val_loss: 3.2366e-04 - val_binary_accuracy: 1.0000\n",
      "Epoch 31/50\n",
      "120/120 [==============================] - 2s 15ms/step - loss: 0.0013 - binary_accuracy: 1.0000 - val_loss: 2.9007e-04 - val_binary_accuracy: 1.0000\n",
      "Epoch 32/50\n",
      "120/120 [==============================] - 2s 13ms/step - loss: 6.7523e-04 - binary_accuracy: 1.0000 - val_loss: 2.6966e-04 - val_binary_accuracy: 1.0000\n",
      "Epoch 33/50\n",
      "120/120 [==============================] - 1s 11ms/step - loss: 7.1151e-04 - binary_accuracy: 1.0000 - val_loss: 2.4823e-04 - val_binary_accuracy: 1.0000\n",
      "Epoch 34/50\n",
      "120/120 [==============================] - 1s 11ms/step - loss: 8.2490e-04 - binary_accuracy: 1.0000 - val_loss: 2.2194e-04 - val_binary_accuracy: 1.0000\n",
      "Epoch 35/50\n",
      "120/120 [==============================] - 2s 13ms/step - loss: 8.6647e-04 - binary_accuracy: 1.0000 - val_loss: 2.0469e-04 - val_binary_accuracy: 1.0000\n",
      "Epoch 36/50\n",
      "120/120 [==============================] - 2s 14ms/step - loss: 5.5156e-04 - binary_accuracy: 1.0000 - val_loss: 1.8982e-04 - val_binary_accuracy: 1.0000\n",
      "Epoch 37/50\n",
      "120/120 [==============================] - 2s 15ms/step - loss: 4.2780e-04 - binary_accuracy: 1.0000 - val_loss: 1.7652e-04 - val_binary_accuracy: 1.0000\n",
      "Epoch 38/50\n",
      "120/120 [==============================] - 1s 12ms/step - loss: 6.2937e-04 - binary_accuracy: 1.0000 - val_loss: 1.6480e-04 - val_binary_accuracy: 1.0000\n",
      "Epoch 39/50\n",
      "120/120 [==============================] - 1s 9ms/step - loss: 0.0011 - binary_accuracy: 1.0000 - val_loss: 1.5234e-04 - val_binary_accuracy: 1.0000\n",
      "Epoch 40/50\n",
      "120/120 [==============================] - 1s 12ms/step - loss: 4.1425e-04 - binary_accuracy: 1.0000 - val_loss: 1.4107e-04 - val_binary_accuracy: 1.0000\n",
      "Epoch 41/50\n",
      "120/120 [==============================] - 1s 10ms/step - loss: 6.2765e-04 - binary_accuracy: 1.0000 - val_loss: 1.2870e-04 - val_binary_accuracy: 1.0000\n",
      "Epoch 42/50\n",
      "120/120 [==============================] - 2s 14ms/step - loss: 0.0010 - binary_accuracy: 1.0000 - val_loss: 1.1488e-04 - val_binary_accuracy: 1.0000\n",
      "Epoch 43/50\n",
      "120/120 [==============================] - 1s 11ms/step - loss: 5.5514e-04 - binary_accuracy: 1.0000 - val_loss: 1.0607e-04 - val_binary_accuracy: 1.0000\n",
      "Epoch 44/50\n",
      "120/120 [==============================] - 1s 11ms/step - loss: 3.3718e-04 - binary_accuracy: 1.0000 - val_loss: 9.9055e-05 - val_binary_accuracy: 1.0000\n",
      "Epoch 45/50\n",
      "120/120 [==============================] - 1s 11ms/step - loss: 3.0535e-04 - binary_accuracy: 1.0000 - val_loss: 9.2959e-05 - val_binary_accuracy: 1.0000\n",
      "Epoch 46/50\n",
      "120/120 [==============================] - 2s 13ms/step - loss: 5.0962e-04 - binary_accuracy: 1.0000 - val_loss: 8.4338e-05 - val_binary_accuracy: 1.0000\n",
      "Epoch 47/50\n",
      "120/120 [==============================] - 2s 14ms/step - loss: 4.0581e-04 - binary_accuracy: 1.0000 - val_loss: 7.7814e-05 - val_binary_accuracy: 1.0000\n",
      "Epoch 48/50\n",
      "120/120 [==============================] - 1s 11ms/step - loss: 5.8910e-04 - binary_accuracy: 1.0000 - val_loss: 6.9524e-05 - val_binary_accuracy: 1.0000\n",
      "Epoch 49/50\n",
      "120/120 [==============================] - 1s 11ms/step - loss: 2.5319e-04 - binary_accuracy: 1.0000 - val_loss: 6.4958e-05 - val_binary_accuracy: 1.0000\n",
      "Epoch 50/50\n",
      "120/120 [==============================] - 2s 13ms/step - loss: 1.9085e-04 - binary_accuracy: 1.0000 - val_loss: 6.1634e-05 - val_binary_accuracy: 1.0000\n"
     ]
    }
   ],
   "source": [
    "units = 10\n",
    "dr = 0.2\n",
    "lr=0.001\n",
    "n_epochs=50\n",
    "optimizer = Adam(lr)\n",
    "\n",
    "model = model_class(units,dr,batch_size=1)\n",
    "model.summary()\n",
    "model.compile(loss='binary_crossentropy',optimizer=optimizer,metrics=['binary_accuracy'])\n",
    "model_fit = model.fit_generator(MyBatchGenerator(X_train, y_train, batch_size=1), epochs=n_epochs, validation_data=MyBatchGenerator(X_val, y_val, batch_size=1), validation_steps=len(X_val))\n"
   ]
  },
  {
   "cell_type": "code",
   "execution_count": 11,
   "metadata": {},
   "outputs": [
    {
     "data": {
      "image/png": "[encoded data removed]",
      "text/plain": [
       "<Figure size 288x288 with 1 Axes>"
      ]
     },
     "metadata": {
      "needs_background": "light"
     },
     "output_type": "display_data"
    }
   ],
   "source": [
    "loss_curves_plot(model_fit)"
   ]
  },
  {
   "cell_type": "code",
   "execution_count": 12,
   "metadata": {},
   "outputs": [
    {
     "data": {
      "image/png": "[encoded data removed]",
      "text/plain": [
       "<Figure size 288x288 with 1 Axes>"
      ]
     },
     "metadata": {
      "needs_background": "light"
     },
     "output_type": "display_data"
    }
   ],
   "source": [
    "accuracy_curves_plot(model_fit,'binary_accuracy')"
   ]
  },
  {
   "cell_type": "markdown",
   "metadata": {},
   "source": [
    "# Task 3"
   ]
  },
  {
   "cell_type": "code",
   "execution_count": 13,
   "metadata": {},
   "outputs": [],
   "source": [
    "#parameters\n",
    "base_dense=8\n",
    "batch_size=8\n",
    "LR=0.00001\n",
    "img_w,img_h,img_ch=240,240,1\n",
    "img_size = img_w\n",
    "\n",
    "#optimizer\n",
    "optimizer = Adam(LR)\n",
    "\n",
    "#metrics list\n",
    "metric_list=[dice_coef,precision,recall]\n",
    "\n",
    "#loss functions list\n",
    "loss_func_list=[dice_coef_loss,'binary_crossentropy']\n",
    "\n",
    "#global variable\n",
    "lab_file='Lab3'\n",
    "type_file='MRI'"
   ]
  },
  {
   "cell_type": "code",
   "execution_count": null,
   "metadata": {},
   "outputs": [],
   "source": [
    "#load the X_ray images\n",
    "\n",
    "#first create the set with the dir info\n",
    "x_train,y_train,x_test,y_test = create_data('Lab3','MRI',0.8)\n",
    "\n",
    "#then load the images thanks to the info\n",
    "x_train = load_data(x_train,img_w,img_h,img_ch)\n",
    "y_train = load_data(y_train,img_w,img_h,img_ch,mask=True)\n",
    "x_test = load_data(x_test,img_w,img_h,img_ch)\n",
    "y_test = load_data(y_test,img_w,img_h,img_ch,mask=True)\n",
    "\n",
    "#the intensity and resize rescale are already done in load_data function"
   ]
  },
  {
   "cell_type": "code",
   "execution_count": null,
   "metadata": {},
   "outputs": [],
   "source": [
    "my_model6=get_unet_batch_lstm(base_dense,img_w,img_h,img_ch,dropout=True,dr=0.2)"
   ]
  },
  {
   "cell_type": "code",
   "execution_count": null,
   "metadata": {},
   "outputs": [
    {
     "name": "stdout",
     "output_type": "stream",
     "text": [
      "Train on 7522 samples, validate on 1881 samples\n",
      "Epoch 1/50\n",
      "7522/7522 [==============================] - 205s 27ms/sample - loss: 0.1526 - dice_coef: 0.0371 - val_loss: 0.0961 - val_dice_coef: 0.0504\n",
      "Epoch 2/50\n",
      "7522/7522 [==============================] - 202s 27ms/sample - loss: 0.0769 - dice_coef: 0.0920 - val_loss: 0.0633 - val_dice_coef: 0.1156\n",
      "Epoch 3/50\n",
      "7522/7522 [==============================] - 204s 27ms/sample - loss: 0.0502 - dice_coef: 0.1762 - val_loss: 0.0476 - val_dice_coef: 0.1834\n",
      "Epoch 4/50\n",
      "7522/7522 [==============================] - 205s 27ms/sample - loss: 0.0396 - dice_coef: 0.2358 - val_loss: 0.0406 - val_dice_coef: 0.2394\n",
      "Epoch 5/50\n",
      "7522/7522 [==============================] - 207s 27ms/sample - loss: 0.0340 - dice_coef: 0.2821 - val_loss: 0.0369 - val_dice_coef: 0.2804\n",
      "Epoch 6/50\n",
      "7522/7522 [==============================] - 207s 28ms/sample - loss: 0.0309 - dice_coef: 0.3169 - val_loss: 0.0338 - val_dice_coef: 0.3139\n",
      "Epoch 7/50\n",
      "7522/7522 [==============================] - 208s 28ms/sample - loss: 0.0286 - dice_coef: 0.3449 - val_loss: 0.0331 - val_dice_coef: 0.3296\n",
      "Epoch 8/50\n",
      "7522/7522 [==============================] - 208s 28ms/sample - loss: 0.0269 - dice_coef: 0.3673 - val_loss: 0.0316 - val_dice_coef: 0.3570\n",
      "Epoch 9/50\n",
      "7522/7522 [==============================] - 205s 27ms/sample - loss: 0.0256 - dice_coef: 0.3891 - val_loss: 0.0288 - val_dice_coef: 0.3836\n",
      "Epoch 10/50\n",
      "7522/7522 [==============================] - 208s 28ms/sample - loss: 0.0245 - dice_coef: 0.4055 - val_loss: 0.0276 - val_dice_coef: 0.3999\n",
      "Epoch 11/50\n",
      "7522/7522 [==============================] - 209s 28ms/sample - loss: 0.0235 - dice_coef: 0.4229 - val_loss: 0.0262 - val_dice_coef: 0.4134\n",
      "Epoch 12/50\n",
      "7522/7522 [==============================] - 209s 28ms/sample - loss: 0.0226 - dice_coef: 0.4367 - val_loss: 0.0268 - val_dice_coef: 0.4416\n",
      "Epoch 13/50\n",
      "7522/7522 [==============================] - 209s 28ms/sample - loss: 0.0218 - dice_coef: 0.4531 - val_loss: 0.0252 - val_dice_coef: 0.4597\n",
      "Epoch 14/50\n",
      "7522/7522 [==============================] - 209s 28ms/sample - loss: 0.0211 - dice_coef: 0.4667 - val_loss: 0.0230 - val_dice_coef: 0.4676\n",
      "Epoch 15/50\n",
      "7522/7522 [==============================] - 207s 27ms/sample - loss: 0.0204 - dice_coef: 0.4785 - val_loss: 0.0242 - val_dice_coef: 0.4839\n",
      "Epoch 16/50\n",
      "7522/7522 [==============================] - 205s 27ms/sample - loss: 0.0198 - dice_coef: 0.4925 - val_loss: 0.0218 - val_dice_coef: 0.5063\n",
      "Epoch 17/50\n",
      "7522/7522 [==============================] - 209s 28ms/sample - loss: 0.0192 - dice_coef: 0.5047 - val_loss: 0.0217 - val_dice_coef: 0.5005\n",
      "Epoch 18/50\n",
      "7522/7522 [==============================] - 209s 28ms/sample - loss: 0.0187 - dice_coef: 0.5145 - val_loss: 0.0210 - val_dice_coef: 0.5115\n",
      "Epoch 19/50\n",
      "7522/7522 [==============================] - 210s 28ms/sample - loss: 0.0180 - dice_coef: 0.5277 - val_loss: 0.0197 - val_dice_coef: 0.5376\n",
      "Epoch 20/50\n",
      "7522/7522 [==============================] - 210s 28ms/sample - loss: 0.0176 - dice_coef: 0.5377 - val_loss: 0.0195 - val_dice_coef: 0.5447\n",
      "Epoch 21/50\n",
      "7522/7522 [==============================] - 210s 28ms/sample - loss: 0.0172 - dice_coef: 0.5493 - val_loss: 0.0182 - val_dice_coef: 0.5536\n",
      "Epoch 22/50\n",
      "7522/7522 [==============================] - 210s 28ms/sample - loss: 0.0167 - dice_coef: 0.5597 - val_loss: 0.0182 - val_dice_coef: 0.5610\n",
      "Epoch 23/50\n",
      "7522/7522 [==============================] - 210s 28ms/sample - loss: 0.0162 - dice_coef: 0.5707 - val_loss: 0.0179 - val_dice_coef: 0.5808\n",
      "Epoch 24/50\n",
      "7522/7522 [==============================] - 209s 28ms/sample - loss: 0.0158 - dice_coef: 0.5821 - val_loss: 0.0166 - val_dice_coef: 0.5914\n",
      "Epoch 25/50\n",
      "7522/7522 [==============================] - 209s 28ms/sample - loss: 0.0155 - dice_coef: 0.5899 - val_loss: 0.0159 - val_dice_coef: 0.5974\n",
      "Epoch 26/50\n",
      "7522/7522 [==============================] - 209s 28ms/sample - loss: 0.0151 - dice_coef: 0.5999 - val_loss: 0.0160 - val_dice_coef: 0.6073\n",
      "Epoch 27/50\n",
      "7522/7522 [==============================] - 209s 28ms/sample - loss: 0.0147 - dice_coef: 0.6103 - val_loss: 0.0158 - val_dice_coef: 0.6112\n",
      "Epoch 28/50\n",
      "7522/7522 [==============================] - 208s 28ms/sample - loss: 0.0144 - dice_coef: 0.6173 - val_loss: 0.0151 - val_dice_coef: 0.6253\n",
      "Epoch 29/50\n",
      "7522/7522 [==============================] - 208s 28ms/sample - loss: 0.0140 - dice_coef: 0.6284 - val_loss: 0.0150 - val_dice_coef: 0.6306\n",
      "Epoch 30/50\n",
      "7522/7522 [==============================] - 208s 28ms/sample - loss: 0.0137 - dice_coef: 0.6364 - val_loss: 0.0142 - val_dice_coef: 0.6412\n",
      "Epoch 31/50\n",
      "7522/7522 [==============================] - 209s 28ms/sample - loss: 0.0134 - dice_coef: 0.6448 - val_loss: 0.0140 - val_dice_coef: 0.6582\n",
      "Epoch 32/50\n",
      "7522/7522 [==============================] - 209s 28ms/sample - loss: 0.0131 - dice_coef: 0.6547 - val_loss: 0.0135 - val_dice_coef: 0.6652\n",
      "Epoch 33/50\n",
      "7522/7522 [==============================] - 209s 28ms/sample - loss: 0.0127 - dice_coef: 0.6639 - val_loss: 0.0132 - val_dice_coef: 0.6727\n",
      "Epoch 34/50\n",
      "7522/7522 [==============================] - 209s 28ms/sample - loss: 0.0122 - dice_coef: 0.6775 - val_loss: 0.0125 - val_dice_coef: 0.6883\n",
      "Epoch 36/50\n",
      "7522/7522 [==============================] - 203s 27ms/sample - loss: 0.0120 - dice_coef: 0.6859 - val_loss: 0.0127 - val_dice_coef: 0.6873\n",
      "Epoch 37/50\n",
      "7522/7522 [==============================] - 205s 27ms/sample - loss: 0.0117 - dice_coef: 0.6926 - val_loss: 0.0119 - val_dice_coef: 0.7098\n",
      "Epoch 38/50\n",
      "7522/7522 [==============================] - 208s 28ms/sample - loss: 0.0116 - dice_coef: 0.6991 - val_loss: 0.0119 - val_dice_coef: 0.7077\n",
      "Epoch 39/50\n",
      "7522/7522 [==============================] - 209s 28ms/sample - loss: 0.0113 - dice_coef: 0.7064 - val_loss: 0.0118 - val_dice_coef: 0.7120\n",
      "Epoch 40/50\n",
      "7522/7522 [==============================] - 206s 27ms/sample - loss: 0.0111 - dice_coef: 0.7127 - val_loss: 0.0113 - val_dice_coef: 0.7202\n",
      "Epoch 41/50\n",
      "7522/7522 [==============================] - 209s 28ms/sample - loss: 0.0109 - dice_coef: 0.7193 - val_loss: 0.0116 - val_dice_coef: 0.7168\n",
      "Epoch 42/50\n",
      "7522/7522 [==============================] - 210s 28ms/sample - loss: 0.0106 - dice_coef: 0.7266 - val_loss: 0.0114 - val_dice_coef: 0.7278\n",
      "Epoch 43/50\n",
      "7522/7522 [==============================] - 210s 28ms/sample - loss: 0.0105 - dice_coef: 0.7331 - val_loss: 0.0112 - val_dice_coef: 0.7370\n",
      "Epoch 44/50\n",
      "7522/7522 [==============================] - 210s 28ms/sample - loss: 0.0103 - dice_coef: 0.7390 - val_loss: 0.0104 - val_dice_coef: 0.7502\n",
      "Epoch 45/50\n",
      "7522/7522 [==============================] - 210s 28ms/sample - loss: 0.0101 - dice_coef: 0.7452 - val_loss: 0.0108 - val_dice_coef: 0.7458\n",
      "Epoch 46/50\n",
      "7522/7522 [==============================] - 210s 28ms/sample - loss: 0.0100 - dice_coef: 0.7468 - val_loss: 0.0108 - val_dice_coef: 0.7482\n",
      "Epoch 47/50\n",
      "7522/7522 [==============================] - 206s 27ms/sample - loss: 0.0098 - dice_coef: 0.7546 - val_loss: 0.0102 - val_dice_coef: 0.7595\n",
      "Epoch 48/50\n",
      "7522/7522 [==============================] - 209s 28ms/sample - loss: 0.0096 - dice_coef: 0.7609 - val_loss: 0.0101 - val_dice_coef: 0.7663\n",
      "Epoch 49/50\n",
      "7522/7522 [==============================] - 209s 28ms/sample - loss: 0.0094 - dice_coef: 0.7640 - val_loss: 0.0100 - val_dice_coef: 0.7672\n",
      "Epoch 50/50\n",
      "6056/7522 [=======================>......] - ETA: 38s - loss: 0.0093 - dice_coef: 0.7687"
     ]
    }
   ],
   "source": [
    "#with dice_coef_loss\n",
    "model_hist=compile_fit(my_model6,loss_function=loss_func_list[1], optimizer=Adam(LR),metrics=[dice_coef],x_train=x_train,y_train=y_train,\n",
    "                       x_test=x_test,y_test=y_test,batch_size=batch_size,n_epochs=50)"
   ]
  },
  {
   "cell_type": "code",
   "execution_count": 47,
   "metadata": {},
   "outputs": [
    {
     "data": {
      "image/png": "[encoded data removed]",
      "text/plain": [
       "<Figure size 288x288 with 1 Axes>"
      ]
     },
     "metadata": {
      "needs_background": "light"
     },
     "output_type": "display_data"
    }
   ],
   "source": [
    "loss_curves_plot(model_hist)"
   ]
  },
  {
   "cell_type": "code",
   "execution_count": 48,
   "metadata": {},
   "outputs": [
    {
     "data": {
      "image/png": "[encoded data removed]",
      "text/plain": [
       "<Figure size 288x288 with 1 Axes>"
      ]
     },
     "metadata": {
      "needs_background": "light"
     },
     "output_type": "display_data"
    }
   ],
   "source": [
    "accuracy_curves_plot(model_hist,'dice_coef')"
   ]
  },
  {
   "cell_type": "code",
   "execution_count": null,
   "metadata": {},
   "outputs": [],
   "source": []
  }
 ],
 "metadata": {
  "kernelspec": {
   "display_name": "Python 3",
   "language": "python",
   "name": "python3"
  },
  "language_info": {
   "codemirror_mode": {
    "name": "ipython",
    "version": 3
   },
   "file_extension": ".py",
   "mimetype": "text/x-python",
   "name": "python",
   "nbconvert_exporter": "python",
   "pygments_lexer": "ipython3",
   "version": "3.5.2"
  }
 },
 "nbformat": 4,
 "nbformat_minor": 2
}
