{
 "cells": [
  {
   "cell_type": "code",
   "execution_count": 1,
   "metadata": {},
   "outputs": [],
   "source": [
    "import numpy as np\n",
    "import matplotlib.pyplot as plt\n"
   ]
  },
  {
   "cell_type": "code",
   "execution_count": 2,
   "metadata": {},
   "outputs": [],
   "source": [
    "# Sigmoid function\n",
    "def sigmoid(x):\n",
    "     return 1.0/(1+ np.exp(-x))\n",
    "    \n",
    "# derivative of Sigmoid function for backprop.\n",
    "def sigmoid_derivative(x):\n",
    "     return x * (1.0 - x)"
   ]
  },
  {
   "cell_type": "code",
   "execution_count": 3,
   "metadata": {},
   "outputs": [],
   "source": [
    "class NeuralNetwork:\n",
    "    def __init__(self, x, y, N):\n",
    "            self.input = x\n",
    "            self.neuron = N\n",
    "            self.weights1 = np.random.rand(self.input.shape[1], self.neuron) # X dimension input connected to N neurons\n",
    "            self.weights2 = np.random.rand(self.neuron, 1) # N neurons connected to output\n",
    "            self.y = y\n",
    "            self.output = np.zeros(self.y.shape) # instantiating the output\n",
    "    def feedforward(self):\n",
    "            self.layer1 = sigmoid(np.dot(self.input, self.weights1))\n",
    "            self.output = sigmoid(np.dot(self.layer1, self.weights2))\n",
    "    def backprop(self):\n",
    "     # Chain rule to calculate derivative of the loss function with respect to weights2 and weights1\n",
    "            d_weights2 = np.dot(self.layer1.T,(2*(self.y - self.output)* sigmoid_derivative(self.output)))\n",
    "            d_weights1 = np.dot(self.input.T,(np.dot(2*(self.y - self.output)* sigmoid_derivative(self.output),self.weights2.T) * sigmoid_derivative(self.layer1)))\n",
    "             # weights updating\n",
    "            self.weights1 += d_weights1\n",
    "            self.weights2 += d_weights2\n",
    "            "
   ]
  },
  {
   "cell_type": "code",
   "execution_count": 4,
   "metadata": {},
   "outputs": [
    {
     "name": "stdout",
     "output_type": "stream",
     "text": [
      "The target values are: [[0]\n",
      " [0]\n",
      " [0]\n",
      " [1]]\n",
      "The predicted values are: [[5.46802685e-04]\n",
      " [1.67758232e-02]\n",
      " [1.56544391e-02]\n",
      " [9.72950420e-01]]\n"
     ]
    },
    {
     "data": {
      "image/png": "[encoded data removed]",
      "text/plain": [
       "<Figure size 432x288 with 1 Axes>"
      ]
     },
     "metadata": {
      "needs_background": "light"
     },
     "output_type": "display_data"
    }
   ],
   "source": [
    "iterations = 1000\n",
    "n_unit = 2\n",
    "if __name__ == \"__main__\":\n",
    "\n",
    "    Input= np.array([[0,0,1],[0,1,1],[1,0,1],[1,1,1]])\n",
    "\n",
    "    Target = np.array([[0],[0],[0],[1]])\n",
    "\n",
    "    model = NeuralNetwork(Input, Target, n_unit)\n",
    "\n",
    "    SSD = []\n",
    "    for i in range(iterations):\n",
    "        model.feedforward()\n",
    "        model.backprop()\n",
    "        errors = (Target - model.output)**2\n",
    "        SSD.append(np.sum(errors)) # Objective(loss) function\n",
    "\n",
    "    Itr = np.linspace(1,len(SSD),len(SSD))\n",
    "    plt.plot(Itr, SSD)\n",
    "    plt.xlabel('Iterations')\n",
    "    plt.ylabel('SSD')\n",
    "    print(\"The target values are:\", Target)\n",
    "    print(\"The predicted values are:\", model.output)"
   ]
  },
  {
   "cell_type": "code",
   "execution_count": 5,
   "metadata": {},
   "outputs": [
    {
     "name": "stdout",
     "output_type": "stream",
     "text": [
      "The target values are: [[0]\n",
      " [1]\n",
      " [1]\n",
      " [0]]\n",
      "The predicted values are: [[0.50681417]\n",
      " [0.65251999]\n",
      " [0.65252556]\n",
      " [0.65638893]]\n"
     ]
    },
    {
     "data": {
      "image/png": "[encoded data removed]",
      "text/plain": [
       "<Figure size 432x288 with 1 Axes>"
      ]
     },
     "metadata": {
      "needs_background": "light"
     },
     "output_type": "display_data"
    }
   ],
   "source": [
    "iterations = 2000\n",
    "n_unit = 1\n",
    "if __name__ == \"__main__\":\n",
    "\n",
    "    Input= np.array([[0,0,1],[0,1,1],[1,0,1],[1,1,1]])\n",
    "\n",
    "    Target = np.array([[0],[1],[1],[0]])\n",
    "\n",
    "    model = NeuralNetwork(Input, Target, n_unit)\n",
    "\n",
    "    SSD = []\n",
    "    for i in range(iterations):\n",
    "        model.feedforward()\n",
    "        model.backprop()\n",
    "        errors = (Target - model.output)**2\n",
    "        SSD.append(np.sum(errors)) # Objective(loss) function\n",
    "\n",
    "    Itr = np.linspace(1,len(SSD),len(SSD))\n",
    "    plt.plot(Itr, SSD)\n",
    "    plt.xlabel('Iterations')\n",
    "    plt.ylabel('SSD')\n",
    "    print(\"The target values are:\", Target)\n",
    "    print(\"The predicted values are:\", model.output)"
   ]
  },
  {
   "cell_type": "code",
   "execution_count": 6,
   "metadata": {},
   "outputs": [],
   "source": [
    "# Logic operator with Tensorflow Keras\n",
    "import numpy as np\n",
    "from tensorflow.keras.models import Sequential\n",
    "from tensorflow.keras.layers import Dense\n",
    "from tensorflow.keras.optimizers import SGD"
   ]
  },
  {
   "cell_type": "code",
   "execution_count": 7,
   "metadata": {},
   "outputs": [
    {
     "name": "stdout",
     "output_type": "stream",
     "text": [
      "The predicted class labels are: [[0.48858032]\n",
      " [0.50394505]\n",
      " [0.6878934 ]\n",
      " [0.3783373 ]]\n"
     ]
    }
   ],
   "source": [
    "Input = np.array([[0,0],[0,1],[1,0],[1,1]], \"float32\")\n",
    "Target = np.array([[0],[1],[1],[0]], \"float32\")\n",
    "n_unit = 10\n",
    "model = Sequential()\n",
    "model.add(Dense(n_unit, input_dim=2, activation='relu'))\n",
    "model.add(Dense(1, activation='sigmoid'))\n",
    "model.compile(loss='mean_squared_error',\n",
    " optimizer = SGD(lr = 0.01),\n",
    " metrics=['binary_accuracy'])\n",
    "model.fit(Input, Target, epochs = 2000, verbose=0)\n",
    "print(\"The predicted class labels are:\", model.predict(Input))"
   ]
  },
  {
   "cell_type": "markdown",
   "metadata": {},
   "source": [
    "Multilayer perceptron\n",
    "\n"
   ]
  },
  {
   "cell_type": "code",
   "execution_count": 8,
   "metadata": {},
   "outputs": [],
   "source": [
    "# Data Loader\n",
    "import os\n",
    "import numpy as np\n",
    "from random import shuffle\n",
    "from skimage.io import imread\n",
    "from skimage.transform import resize"
   ]
  },
  {
   "cell_type": "code",
   "execution_count": 9,
   "metadata": {},
   "outputs": [],
   "source": [
    "#This function takes the image name and the two pattern names to test and return 0 if pat1 is in im_name and 1 \n",
    "#if pat2 is in im_name\n",
    "def gen_labels(im_name, pat1, pat2):\n",
    " \n",
    "    if pat1 in im_name:\n",
    "         label = np.array([0])\n",
    "     \n",
    "    elif pat2 in im_name:\n",
    "         label = np.array([1])\n",
    "     \n",
    "    return label\n"
   ]
  },
  {
   "cell_type": "code",
   "execution_count": 10,
   "metadata": {},
   "outputs": [],
   "source": [
    "#the function creates a list which associates each image with its corresponding label\n",
    "def get_data(data_path, data_list, img_h, img_w):\n",
    "     \n",
    "    img_labels = []\n",
    "    \n",
    "    for item in enumerate(data_list):\n",
    "        img = imread(os.path.join(data_path, item[1]), as_gray = True) # \"as_grey\"\n",
    "        #each image is resized so as all image have the same dimension for the process\n",
    "        img = resize(img, (img_h, img_w), anti_aliasing = True).astype('float32')\n",
    "        img_labels.append([np.array(img), gen_labels(item[1], 'Mel', 'Nev')])\n",
    "\n",
    "        if item[0] % 100 == 0:\n",
    "            print('Reading: {0}/{1} of train images'.format(item[0], len(data_list)))\n",
    "\n",
    "    shuffle(img_labels)\n",
    "    return img_labels\n"
   ]
  },
  {
   "cell_type": "code",
   "execution_count": 11,
   "metadata": {},
   "outputs": [],
   "source": [
    "#separates the list img_labels obtained with the function get_data into two lists\n",
    "#one list with the images and one list with the labels\n",
    "def get_data_arrays(nested_list, img_h, img_w):\n",
    "    img_arrays = np.zeros((len(nested_list), img_h, img_w), dtype = np.float32)\n",
    "    label_arrays = np.zeros((len(nested_list)), dtype = np.int32)\n",
    "    for ind in range(len(nested_list)):\n",
    "        img_arrays[ind] = nested_list[ind][0]\n",
    "        label_arrays[ind] = nested_list[ind][1]\n",
    "    img_arrays = np.expand_dims(img_arrays, axis =3)\n",
    "    return img_arrays, label_arrays"
   ]
  },
  {
   "cell_type": "code",
   "execution_count": 12,
   "metadata": {},
   "outputs": [],
   "source": [
    "#this function uses all the previous functions to create a train set and a test set \n",
    "def get_train_test_arrays(train_data_path, test_data_path, train_list,test_list, img_h, img_w):\n",
    "    train_data = get_data(train_data_path, train_list, img_h, img_w)\n",
    "    test_data = get_data(test_data_path, test_list, img_h, img_w)\n",
    "\n",
    "    train_img, train_label = get_data_arrays(train_data, img_h, img_w)\n",
    "    test_img, test_label = get_data_arrays(test_data, img_h, img_w)\n",
    "    del(train_data)\n",
    "    del(test_data)\n",
    "    return train_img, test_img, train_label, test_label\n",
    "\n"
   ]
  },
  {
   "cell_type": "code",
   "execution_count": 13,
   "metadata": {},
   "outputs": [
    {
     "name": "stdout",
     "output_type": "stream",
     "text": [
      "Reading: 0/1000 of train images\n",
      "Reading: 100/1000 of train images\n",
      "Reading: 200/1000 of train images\n",
      "Reading: 300/1000 of train images\n",
      "Reading: 400/1000 of train images\n",
      "Reading: 500/1000 of train images\n",
      "Reading: 600/1000 of train images\n",
      "Reading: 700/1000 of train images\n",
      "Reading: 800/1000 of train images\n",
      "Reading: 900/1000 of train images\n",
      "Reading: 0/200 of train images\n",
      "Reading: 100/200 of train images\n"
     ]
    }
   ],
   "source": [
    "img_w, img_h = 128, 128 # Setting the width and heights of the images.\n",
    "data_path = 'DL_course_data/Lab1/Skin/' # Path to data root with two subdirs.\n",
    "train_data_path = os.path.join(data_path, 'train')\n",
    "test_data_path = os.path.join(data_path, 'test')\n",
    "train_list = os.listdir(train_data_path)\n",
    "test_list = os.listdir(test_data_path)\n",
    "\n",
    "\n",
    "x_train, x_test, y_train, y_test = get_train_test_arrays(train_data_path, test_data_path,train_list, test_list, img_h, img_w)"
   ]
  },
  {
   "cell_type": "code",
   "execution_count": 14,
   "metadata": {},
   "outputs": [],
   "source": [
    "from tensorflow.keras.layers import Input, Dense, Flatten\n",
    "from tensorflow.keras.models import Model\n",
    "def model(img_width, img_height, img_ch, base_dense):\n",
    "    input_size = (img_width, img_height, img_ch)\n",
    "    inputs_layer = Input(shape=input_size, name='input_layer')\n",
    "    flat=Flatten()(inputs_layer)\n",
    "    layer1=Dense(base_dense,activation='relu')(flat)\n",
    "    layer2=Dense(base_dense//2,activation='relu')(layer1)\n",
    "    layer3=Dense(base_dense//4,activation='relu')(layer2)\n",
    "    out=Dense(1,activation='sigmoid')(layer3)\n",
    "    clf = Model(inputs=inputs_layer, outputs=out)\n",
    "    \n",
    "    clf.summary()\n",
    "\n",
    "    return clf"
   ]
  },
  {
   "cell_type": "code",
   "execution_count": 19,
   "metadata": {},
   "outputs": [
    {
     "name": "stdout",
     "output_type": "stream",
     "text": [
      "Model: \"model_2\"\n",
      "_________________________________________________________________\n",
      "Layer (type)                 Output Shape              Param #   \n",
      "=================================================================\n",
      "input_layer (InputLayer)     [(None, 128, 128, 1)]     0         \n",
      "_________________________________________________________________\n",
      "flatten_2 (Flatten)          (None, 16384)             0         \n",
      "_________________________________________________________________\n",
      "dense_10 (Dense)             (None, 64)                1048640   \n",
      "_________________________________________________________________\n",
      "dense_11 (Dense)             (None, 32)                2080      \n",
      "_________________________________________________________________\n",
      "dense_12 (Dense)             (None, 16)                528       \n",
      "_________________________________________________________________\n",
      "dense_13 (Dense)             (None, 1)                 17        \n",
      "=================================================================\n",
      "Total params: 1,051,265\n",
      "Trainable params: 1,051,265\n",
      "Non-trainable params: 0\n",
      "_________________________________________________________________\n",
      "Train on 700 samples, validate on 100 samples\n",
      "Epoch 1/16\n",
      "700/700 [==============================] - 0s 278us/sample - loss: 0.7286 - binary_accuracy: 0.5057 - val_loss: 0.7124 - val_binary_accuracy: 0.5200\n",
      "Epoch 2/16\n",
      "700/700 [==============================] - 0s 55us/sample - loss: 0.7132 - binary_accuracy: 0.5086 - val_loss: 0.7049 - val_binary_accuracy: 0.5200\n",
      "Epoch 3/16\n",
      "700/700 [==============================] - 0s 58us/sample - loss: 0.7055 - binary_accuracy: 0.5100 - val_loss: 0.6996 - val_binary_accuracy: 0.5100\n",
      "Epoch 4/16\n",
      "700/700 [==============================] - 0s 62us/sample - loss: 0.6998 - binary_accuracy: 0.5071 - val_loss: 0.6966 - val_binary_accuracy: 0.5000\n",
      "Epoch 5/16\n",
      "700/700 [==============================] - 0s 63us/sample - loss: 0.6964 - binary_accuracy: 0.5157 - val_loss: 0.6946 - val_binary_accuracy: 0.4900\n",
      "Epoch 6/16\n",
      "700/700 [==============================] - 0s 63us/sample - loss: 0.6939 - binary_accuracy: 0.5243 - val_loss: 0.6933 - val_binary_accuracy: 0.5100\n",
      "Epoch 7/16\n",
      "700/700 [==============================] - 0s 77us/sample - loss: 0.6917 - binary_accuracy: 0.5257 - val_loss: 0.6921 - val_binary_accuracy: 0.5000\n",
      "Epoch 8/16\n",
      "700/700 [==============================] - 0s 81us/sample - loss: 0.6902 - binary_accuracy: 0.5543 - val_loss: 0.6916 - val_binary_accuracy: 0.5000\n",
      "Epoch 9/16\n",
      "700/700 [==============================] - 0s 80us/sample - loss: 0.6891 - binary_accuracy: 0.5571 - val_loss: 0.6913 - val_binary_accuracy: 0.5000\n",
      "Epoch 10/16\n",
      "700/700 [==============================] - 0s 80us/sample - loss: 0.6881 - binary_accuracy: 0.5686 - val_loss: 0.6909 - val_binary_accuracy: 0.5300\n",
      "Epoch 11/16\n",
      "700/700 [==============================] - 0s 80us/sample - loss: 0.6874 - binary_accuracy: 0.5871 - val_loss: 0.6903 - val_binary_accuracy: 0.5300\n",
      "Epoch 12/16\n",
      "700/700 [==============================] - 0s 81us/sample - loss: 0.6871 - binary_accuracy: 0.5871 - val_loss: 0.6898 - val_binary_accuracy: 0.5300\n",
      "Epoch 13/16\n",
      "700/700 [==============================] - 0s 81us/sample - loss: 0.6862 - binary_accuracy: 0.5957 - val_loss: 0.6894 - val_binary_accuracy: 0.5300\n",
      "Epoch 14/16\n",
      "700/700 [==============================] - 0s 80us/sample - loss: 0.6859 - binary_accuracy: 0.5957 - val_loss: 0.6890 - val_binary_accuracy: 0.5500\n",
      "Epoch 15/16\n",
      "700/700 [==============================] - 0s 89us/sample - loss: 0.6852 - binary_accuracy: 0.6029 - val_loss: 0.6886 - val_binary_accuracy: 0.5400\n",
      "Epoch 16/16\n",
      "700/700 [==============================] - 0s 91us/sample - loss: 0.6849 - binary_accuracy: 0.6014 - val_loss: 0.6882 - val_binary_accuracy: 0.5400\n"
     ]
    }
   ],
   "source": [
    "n_epochs=150\n",
    "batch_size=16\n",
    "base_dense=64\n",
    "lr=0.0001\n",
    "\n",
    "x_val = x_train[-100:]\n",
    "y_val = y_train[-100:]\n",
    "x_train = x_train[:-100]\n",
    "y_train = y_train[:-100]\n",
    "\n",
    "clf=model(img_w, img_h,np.shape(x_train)[3],base_dense)\n",
    "clf.compile(loss='binary_crossentropy',optimizer = SGD(lr),metrics=['binary_accuracy'])\n",
    "clf_hist=clf.fit(x_train,y_train,n_epochs,batch_size,validation_data=(x_val, y_val))\n"
   ]
  },
  {
   "cell_type": "code",
   "execution_count": 20,
   "metadata": {},
   "outputs": [
    {
     "data": {
      "image/png": "[encoded data removed]",
      "text/plain": [
       "<Figure size 288x288 with 1 Axes>"
      ]
     },
     "metadata": {
      "needs_background": "light"
     },
     "output_type": "display_data"
    }
   ],
   "source": [
    "%matplotlib inline\n",
    "import matplotlib.pyplot as plt\n",
    "plt.figure(figsize=(4, 4))\n",
    "plt.title(\"Learning curve\")\n",
    "plt.plot(clf_hist.history[\"loss\"], label=\"loss\")\n",
    "plt.plot(clf_hist.history[\"val_loss\"], label=\"val_loss\")\n",
    "plt.plot( np.argmin(clf_hist.history[\"val_loss\"]),\n",
    " np.min(clf_hist.history[\"val_loss\"]),\n",
    " marker=\"x\", color=\"r\", label=\"best model\")\n",
    "plt.xlabel(\"Epochs\")\n",
    "plt.ylabel(\"Loss Value\")\n",
    "plt.legend(); \n"
   ]
  },
  {
   "cell_type": "code",
   "execution_count": 28,
   "metadata": {},
   "outputs": [],
   "source": [
    "from tensorflow.keras.layers import Conv2D, MaxPooling2D\n",
    "base=32"
   ]
  },
  {
   "cell_type": "code",
   "execution_count": 29,
   "metadata": {},
   "outputs": [],
   "source": [
    "def model(img_ch, img_width, img_height):\n",
    "    model = Sequential()\n",
    "    model.add(Conv2D(base, kernel_size = (3, 3), activation='relu',\n",
    "    strides=1, padding='same',\n",
    "    input_shape = (img_width, img_height, img_ch)))\n",
    "    model.add(MaxPooling2D(pool_size=(2, 2)))\n",
    "\n",
    "    model.add(Conv2D(base*2, kernel_size = (3, 3), activation='relu',\n",
    "    strides=1, padding='same'))\n",
    "    model.add(MaxPooling2D(pool_size=(2, 2)))\n",
    "\n",
    "    model.add(Flatten())\n",
    "    model.add(Dense(base*2, activation='relu'))\n",
    "    model.add(Dense(1, activation='sigmoid'))\n",
    "    model.summary()\n",
    "\n",
    "    return model\n"
   ]
  },
  {
   "cell_type": "code",
   "execution_count": 32,
   "metadata": {},
   "outputs": [
    {
     "name": "stdout",
     "output_type": "stream",
     "text": [
      "Model: \"sequential_4\"\n",
      "_________________________________________________________________\n",
      "Layer (type)                 Output Shape              Param #   \n",
      "=================================================================\n",
      "conv2d_2 (Conv2D)            (None, 128, 128, 32)      320       \n",
      "_________________________________________________________________\n",
      "max_pooling2d_2 (MaxPooling2 (None, 64, 64, 32)        0         \n",
      "_________________________________________________________________\n",
      "conv2d_3 (Conv2D)            (None, 64, 64, 64)        18496     \n",
      "_________________________________________________________________\n",
      "max_pooling2d_3 (MaxPooling2 (None, 32, 32, 64)        0         \n",
      "_________________________________________________________________\n",
      "flatten_4 (Flatten)          (None, 65536)             0         \n",
      "_________________________________________________________________\n",
      "dense_16 (Dense)             (None, 64)                4194368   \n",
      "_________________________________________________________________\n",
      "dense_17 (Dense)             (None, 1)                 65        \n",
      "=================================================================\n",
      "Total params: 4,213,249\n",
      "Trainable params: 4,213,249\n",
      "Non-trainable params: 0\n",
      "_________________________________________________________________\n"
     ]
    }
   ],
   "source": [
    "model=model(np.shape(x_train)[3],img_w,img_h)"
   ]
  },
  {
   "cell_type": "code",
   "execution_count": 36,
   "metadata": {},
   "outputs": [
    {
     "name": "stdout",
     "output_type": "stream",
     "text": [
      "Train on 400 samples, validate on 100 samples\n",
      "Epoch 1/8\n",
      "400/400 [==============================] - 0s 68us/sample - loss: 0.6725 - binary_accuracy: 0.6425 - val_loss: 0.6835 - val_binary_accuracy: 0.6100\n",
      "Epoch 2/8\n",
      "400/400 [==============================] - 0s 56us/sample - loss: 0.6724 - binary_accuracy: 0.6450 - val_loss: 0.6836 - val_binary_accuracy: 0.6100\n",
      "Epoch 3/8\n",
      "400/400 [==============================] - 0s 58us/sample - loss: 0.6720 - binary_accuracy: 0.6400 - val_loss: 0.6836 - val_binary_accuracy: 0.6200\n",
      "Epoch 4/8\n",
      "400/400 [==============================] - 0s 58us/sample - loss: 0.6719 - binary_accuracy: 0.6375 - val_loss: 0.6837 - val_binary_accuracy: 0.6200\n",
      "Epoch 5/8\n",
      "400/400 [==============================] - 0s 58us/sample - loss: 0.6718 - binary_accuracy: 0.6375 - val_loss: 0.6837 - val_binary_accuracy: 0.6200\n",
      "Epoch 6/8\n",
      "400/400 [==============================] - 0s 57us/sample - loss: 0.6716 - binary_accuracy: 0.6400 - val_loss: 0.6838 - val_binary_accuracy: 0.6100\n",
      "Epoch 7/8\n",
      "400/400 [==============================] - 0s 56us/sample - loss: 0.6715 - binary_accuracy: 0.6400 - val_loss: 0.6838 - val_binary_accuracy: 0.6100\n",
      "Epoch 8/8\n",
      "400/400 [==============================] - 0s 57us/sample - loss: 0.6715 - binary_accuracy: 0.6425 - val_loss: 0.6838 - val_binary_accuracy: 0.6200\n"
     ]
    }
   ],
   "source": [
    "n_epochs=200\n",
    "batch_size=8\n",
    "\n",
    "lr=0.00001\n",
    "\n",
    "x_val = x_train[-100:]\n",
    "y_val = y_train[-100:]\n",
    "x_train = x_train[:-100]\n",
    "y_train = y_train[:-100]\n",
    "\n",
    "\n",
    "model.compile(loss='binary_crossentropy',optimizer = SGD(lr),metrics=['binary_accuracy'])\n",
    "model_hist=clf.fit(x_train,y_train,n_epochs,batch_size,validation_data=(x_val, y_val))"
   ]
  },
  {
   "cell_type": "code",
   "execution_count": 37,
   "metadata": {},
   "outputs": [
    {
     "data": {
      "image/png": "[encoded data removed]",
      "text/plain": [
       "<Figure size 288x288 with 1 Axes>"
      ]
     },
     "metadata": {
      "needs_background": "light"
     },
     "output_type": "display_data"
    }
   ],
   "source": [
    "%matplotlib inline\n",
    "import matplotlib.pyplot as plt\n",
    "plt.figure(figsize=(4, 4))\n",
    "plt.title(\"Learning curve\")\n",
    "plt.plot(model_hist.history[\"loss\"], label=\"loss\")\n",
    "plt.plot(model_hist.history[\"val_loss\"], label=\"val_loss\")\n",
    "plt.plot( np.argmin(model_hist.history[\"val_loss\"]),\n",
    " np.min(model_hist.history[\"val_loss\"]),\n",
    " marker=\"x\", color=\"r\", label=\"best model\")\n",
    "plt.xlabel(\"Epochs\")\n",
    "plt.ylabel(\"Loss Value\")\n",
    "plt.legend(); \n"
   ]
  },
  {
   "cell_type": "code",
   "execution_count": null,
   "metadata": {},
   "outputs": [],
   "source": []
  }
 ],
 "metadata": {
  "kernelspec": {
   "display_name": "Python 3",
   "language": "python",
   "name": "python3"
  },
  "language_info": {
   "codemirror_mode": {
    "name": "ipython",
    "version": 3
   },
   "file_extension": ".py",
   "mimetype": "text/x-python",
   "name": "python",
   "nbconvert_exporter": "python",
   "pygments_lexer": "ipython3",
   "version": "3.5.2"
  }
 },
 "nbformat": 4,
 "nbformat_minor": 2
}
